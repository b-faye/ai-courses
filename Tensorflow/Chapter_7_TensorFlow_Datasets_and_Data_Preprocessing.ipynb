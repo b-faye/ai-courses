{
  "nbformat": 4,
  "nbformat_minor": 0,
  "metadata": {
    "colab": {
      "provenance": []
    },
    "kernelspec": {
      "name": "python3",
      "display_name": "Python 3"
    },
    "language_info": {
      "name": "python"
    },
    "widgets": {
      "application/vnd.jupyter.widget-state+json": {
        "1ed9af35d8a84abfaf35bc63b4cab1ef": {
          "model_module": "@jupyter-widgets/controls",
          "model_name": "HBoxModel",
          "model_module_version": "1.5.0",
          "state": {
            "_dom_classes": [],
            "_model_module": "@jupyter-widgets/controls",
            "_model_module_version": "1.5.0",
            "_model_name": "HBoxModel",
            "_view_count": null,
            "_view_module": "@jupyter-widgets/controls",
            "_view_module_version": "1.5.0",
            "_view_name": "HBoxView",
            "box_style": "",
            "children": [
              "IPY_MODEL_4458358a5ba9425f8c9430c2785aadb0",
              "IPY_MODEL_7b30edc4b51243f28c96739bbc173a2f",
              "IPY_MODEL_f620f11743fa4b14adf98e74f9429b11"
            ],
            "layout": "IPY_MODEL_032002fda86c4d448031521a2bbbd5ce"
          }
        },
        "4458358a5ba9425f8c9430c2785aadb0": {
          "model_module": "@jupyter-widgets/controls",
          "model_name": "HTMLModel",
          "model_module_version": "1.5.0",
          "state": {
            "_dom_classes": [],
            "_model_module": "@jupyter-widgets/controls",
            "_model_module_version": "1.5.0",
            "_model_name": "HTMLModel",
            "_view_count": null,
            "_view_module": "@jupyter-widgets/controls",
            "_view_module_version": "1.5.0",
            "_view_name": "HTMLView",
            "description": "",
            "description_tooltip": null,
            "layout": "IPY_MODEL_4bf84fe099a04a92829c6b808aeab2c9",
            "placeholder": "​",
            "style": "IPY_MODEL_6dbd26bed59c47ffb4c9332f6b1a93a6",
            "value": "Dl Completed...: 100%"
          }
        },
        "7b30edc4b51243f28c96739bbc173a2f": {
          "model_module": "@jupyter-widgets/controls",
          "model_name": "FloatProgressModel",
          "model_module_version": "1.5.0",
          "state": {
            "_dom_classes": [],
            "_model_module": "@jupyter-widgets/controls",
            "_model_module_version": "1.5.0",
            "_model_name": "FloatProgressModel",
            "_view_count": null,
            "_view_module": "@jupyter-widgets/controls",
            "_view_module_version": "1.5.0",
            "_view_name": "ProgressView",
            "bar_style": "success",
            "description": "",
            "description_tooltip": null,
            "layout": "IPY_MODEL_f9d6b47eab7244eb9c82e89ed73a6300",
            "max": 5,
            "min": 0,
            "orientation": "horizontal",
            "style": "IPY_MODEL_cfcab9342bed45b3ba103fcf25e1db90",
            "value": 5
          }
        },
        "f620f11743fa4b14adf98e74f9429b11": {
          "model_module": "@jupyter-widgets/controls",
          "model_name": "HTMLModel",
          "model_module_version": "1.5.0",
          "state": {
            "_dom_classes": [],
            "_model_module": "@jupyter-widgets/controls",
            "_model_module_version": "1.5.0",
            "_model_name": "HTMLModel",
            "_view_count": null,
            "_view_module": "@jupyter-widgets/controls",
            "_view_module_version": "1.5.0",
            "_view_name": "HTMLView",
            "description": "",
            "description_tooltip": null,
            "layout": "IPY_MODEL_04f4a4e31f4f42a69e521d41def2b334",
            "placeholder": "​",
            "style": "IPY_MODEL_f1a17e6b365245ae9a2c3ab6748958f0",
            "value": " 5/5 [00:00&lt;00:00,  7.62 file/s]"
          }
        },
        "032002fda86c4d448031521a2bbbd5ce": {
          "model_module": "@jupyter-widgets/base",
          "model_name": "LayoutModel",
          "model_module_version": "1.2.0",
          "state": {
            "_model_module": "@jupyter-widgets/base",
            "_model_module_version": "1.2.0",
            "_model_name": "LayoutModel",
            "_view_count": null,
            "_view_module": "@jupyter-widgets/base",
            "_view_module_version": "1.2.0",
            "_view_name": "LayoutView",
            "align_content": null,
            "align_items": null,
            "align_self": null,
            "border": null,
            "bottom": null,
            "display": null,
            "flex": null,
            "flex_flow": null,
            "grid_area": null,
            "grid_auto_columns": null,
            "grid_auto_flow": null,
            "grid_auto_rows": null,
            "grid_column": null,
            "grid_gap": null,
            "grid_row": null,
            "grid_template_areas": null,
            "grid_template_columns": null,
            "grid_template_rows": null,
            "height": null,
            "justify_content": null,
            "justify_items": null,
            "left": null,
            "margin": null,
            "max_height": null,
            "max_width": null,
            "min_height": null,
            "min_width": null,
            "object_fit": null,
            "object_position": null,
            "order": null,
            "overflow": null,
            "overflow_x": null,
            "overflow_y": null,
            "padding": null,
            "right": null,
            "top": null,
            "visibility": null,
            "width": null
          }
        },
        "4bf84fe099a04a92829c6b808aeab2c9": {
          "model_module": "@jupyter-widgets/base",
          "model_name": "LayoutModel",
          "model_module_version": "1.2.0",
          "state": {
            "_model_module": "@jupyter-widgets/base",
            "_model_module_version": "1.2.0",
            "_model_name": "LayoutModel",
            "_view_count": null,
            "_view_module": "@jupyter-widgets/base",
            "_view_module_version": "1.2.0",
            "_view_name": "LayoutView",
            "align_content": null,
            "align_items": null,
            "align_self": null,
            "border": null,
            "bottom": null,
            "display": null,
            "flex": null,
            "flex_flow": null,
            "grid_area": null,
            "grid_auto_columns": null,
            "grid_auto_flow": null,
            "grid_auto_rows": null,
            "grid_column": null,
            "grid_gap": null,
            "grid_row": null,
            "grid_template_areas": null,
            "grid_template_columns": null,
            "grid_template_rows": null,
            "height": null,
            "justify_content": null,
            "justify_items": null,
            "left": null,
            "margin": null,
            "max_height": null,
            "max_width": null,
            "min_height": null,
            "min_width": null,
            "object_fit": null,
            "object_position": null,
            "order": null,
            "overflow": null,
            "overflow_x": null,
            "overflow_y": null,
            "padding": null,
            "right": null,
            "top": null,
            "visibility": null,
            "width": null
          }
        },
        "6dbd26bed59c47ffb4c9332f6b1a93a6": {
          "model_module": "@jupyter-widgets/controls",
          "model_name": "DescriptionStyleModel",
          "model_module_version": "1.5.0",
          "state": {
            "_model_module": "@jupyter-widgets/controls",
            "_model_module_version": "1.5.0",
            "_model_name": "DescriptionStyleModel",
            "_view_count": null,
            "_view_module": "@jupyter-widgets/base",
            "_view_module_version": "1.2.0",
            "_view_name": "StyleView",
            "description_width": ""
          }
        },
        "f9d6b47eab7244eb9c82e89ed73a6300": {
          "model_module": "@jupyter-widgets/base",
          "model_name": "LayoutModel",
          "model_module_version": "1.2.0",
          "state": {
            "_model_module": "@jupyter-widgets/base",
            "_model_module_version": "1.2.0",
            "_model_name": "LayoutModel",
            "_view_count": null,
            "_view_module": "@jupyter-widgets/base",
            "_view_module_version": "1.2.0",
            "_view_name": "LayoutView",
            "align_content": null,
            "align_items": null,
            "align_self": null,
            "border": null,
            "bottom": null,
            "display": null,
            "flex": null,
            "flex_flow": null,
            "grid_area": null,
            "grid_auto_columns": null,
            "grid_auto_flow": null,
            "grid_auto_rows": null,
            "grid_column": null,
            "grid_gap": null,
            "grid_row": null,
            "grid_template_areas": null,
            "grid_template_columns": null,
            "grid_template_rows": null,
            "height": null,
            "justify_content": null,
            "justify_items": null,
            "left": null,
            "margin": null,
            "max_height": null,
            "max_width": null,
            "min_height": null,
            "min_width": null,
            "object_fit": null,
            "object_position": null,
            "order": null,
            "overflow": null,
            "overflow_x": null,
            "overflow_y": null,
            "padding": null,
            "right": null,
            "top": null,
            "visibility": null,
            "width": null
          }
        },
        "cfcab9342bed45b3ba103fcf25e1db90": {
          "model_module": "@jupyter-widgets/controls",
          "model_name": "ProgressStyleModel",
          "model_module_version": "1.5.0",
          "state": {
            "_model_module": "@jupyter-widgets/controls",
            "_model_module_version": "1.5.0",
            "_model_name": "ProgressStyleModel",
            "_view_count": null,
            "_view_module": "@jupyter-widgets/base",
            "_view_module_version": "1.2.0",
            "_view_name": "StyleView",
            "bar_color": null,
            "description_width": ""
          }
        },
        "04f4a4e31f4f42a69e521d41def2b334": {
          "model_module": "@jupyter-widgets/base",
          "model_name": "LayoutModel",
          "model_module_version": "1.2.0",
          "state": {
            "_model_module": "@jupyter-widgets/base",
            "_model_module_version": "1.2.0",
            "_model_name": "LayoutModel",
            "_view_count": null,
            "_view_module": "@jupyter-widgets/base",
            "_view_module_version": "1.2.0",
            "_view_name": "LayoutView",
            "align_content": null,
            "align_items": null,
            "align_self": null,
            "border": null,
            "bottom": null,
            "display": null,
            "flex": null,
            "flex_flow": null,
            "grid_area": null,
            "grid_auto_columns": null,
            "grid_auto_flow": null,
            "grid_auto_rows": null,
            "grid_column": null,
            "grid_gap": null,
            "grid_row": null,
            "grid_template_areas": null,
            "grid_template_columns": null,
            "grid_template_rows": null,
            "height": null,
            "justify_content": null,
            "justify_items": null,
            "left": null,
            "margin": null,
            "max_height": null,
            "max_width": null,
            "min_height": null,
            "min_width": null,
            "object_fit": null,
            "object_position": null,
            "order": null,
            "overflow": null,
            "overflow_x": null,
            "overflow_y": null,
            "padding": null,
            "right": null,
            "top": null,
            "visibility": null,
            "width": null
          }
        },
        "f1a17e6b365245ae9a2c3ab6748958f0": {
          "model_module": "@jupyter-widgets/controls",
          "model_name": "DescriptionStyleModel",
          "model_module_version": "1.5.0",
          "state": {
            "_model_module": "@jupyter-widgets/controls",
            "_model_module_version": "1.5.0",
            "_model_name": "DescriptionStyleModel",
            "_view_count": null,
            "_view_module": "@jupyter-widgets/base",
            "_view_module_version": "1.2.0",
            "_view_name": "StyleView",
            "description_width": ""
          }
        }
      }
    }
  },
  "cells": [
    {
      "cell_type": "markdown",
      "source": [
        "**Plan**\n",
        "\n",
        "**1. Introduction to TensorFlow Datasets**\n",
        "\n",
        "**2. Data preprocessing techniques**\n",
        "\n",
        "**3. Data augmentation**\n"
      ],
      "metadata": {
        "id": "4EUWQZecQsJu"
      }
    },
    {
      "cell_type": "markdown",
      "source": [
        "**<h2> Introduction to TensorFlow Datasets</h2>**\n",
        "\n",
        "TensorFlow Datasets (TFDS) is a collection of ready-to-use datasets for use with TensorFlow, JAX, and other Machine Learning frameworks. It provides a simple way to access a wide variety of datasets, including images, text, audio, and more."
      ],
      "metadata": {
        "id": "GqUNdZvuY__K"
      }
    },
    {
      "cell_type": "markdown",
      "source": [
        "**1. Loading a dataset from TensorFlow Datasets**"
      ],
      "metadata": {
        "id": "eu5ge_hTaoAU"
      }
    },
    {
      "cell_type": "code",
      "source": [
        "import tensorflow_datasets as tfds\n",
        "\n",
        "# Load the MNIST dataset\n",
        "ds, info = tfds.load('mnist', with_info=True, as_supervised=True)\n",
        "train_ds, test_ds = ds['train'], ds['test']\n",
        "\n",
        "print(info)"
      ],
      "metadata": {
        "colab": {
          "base_uri": "https://localhost:8080/",
          "height": 587,
          "referenced_widgets": [
            "1ed9af35d8a84abfaf35bc63b4cab1ef",
            "4458358a5ba9425f8c9430c2785aadb0",
            "7b30edc4b51243f28c96739bbc173a2f",
            "f620f11743fa4b14adf98e74f9429b11",
            "032002fda86c4d448031521a2bbbd5ce",
            "4bf84fe099a04a92829c6b808aeab2c9",
            "6dbd26bed59c47ffb4c9332f6b1a93a6",
            "f9d6b47eab7244eb9c82e89ed73a6300",
            "cfcab9342bed45b3ba103fcf25e1db90",
            "04f4a4e31f4f42a69e521d41def2b334",
            "f1a17e6b365245ae9a2c3ab6748958f0"
          ]
        },
        "id": "sRKzQv1-aqZ6",
        "outputId": "d573040c-1384-4d3d-892a-f4f094d434a5"
      },
      "execution_count": 1,
      "outputs": [
        {
          "output_type": "stream",
          "name": "stdout",
          "text": [
            "Downloading and preparing dataset 11.06 MiB (download: 11.06 MiB, generated: 21.00 MiB, total: 32.06 MiB) to /root/tensorflow_datasets/mnist/3.0.1...\n"
          ]
        },
        {
          "output_type": "display_data",
          "data": {
            "text/plain": [
              "Dl Completed...:   0%|          | 0/5 [00:00<?, ? file/s]"
            ],
            "application/vnd.jupyter.widget-view+json": {
              "version_major": 2,
              "version_minor": 0,
              "model_id": "1ed9af35d8a84abfaf35bc63b4cab1ef"
            }
          },
          "metadata": {}
        },
        {
          "output_type": "stream",
          "name": "stdout",
          "text": [
            "Dataset mnist downloaded and prepared to /root/tensorflow_datasets/mnist/3.0.1. Subsequent calls will reuse this data.\n",
            "tfds.core.DatasetInfo(\n",
            "    name='mnist',\n",
            "    full_name='mnist/3.0.1',\n",
            "    description=\"\"\"\n",
            "    The MNIST database of handwritten digits.\n",
            "    \"\"\",\n",
            "    homepage='http://yann.lecun.com/exdb/mnist/',\n",
            "    data_dir='/root/tensorflow_datasets/mnist/incomplete.0IM96B_3.0.1/',\n",
            "    file_format=tfrecord,\n",
            "    download_size=11.06 MiB,\n",
            "    dataset_size=21.00 MiB,\n",
            "    features=FeaturesDict({\n",
            "        'image': Image(shape=(28, 28, 1), dtype=uint8),\n",
            "        'label': ClassLabel(shape=(), dtype=int64, num_classes=10),\n",
            "    }),\n",
            "    supervised_keys=('image', 'label'),\n",
            "    disable_shuffling=False,\n",
            "    splits={\n",
            "        'test': <SplitInfo num_examples=10000, num_shards=1>,\n",
            "        'train': <SplitInfo num_examples=60000, num_shards=1>,\n",
            "    },\n",
            "    citation=\"\"\"@article{lecun2010mnist,\n",
            "      title={MNIST handwritten digit database},\n",
            "      author={LeCun, Yann and Cortes, Corinna and Burges, CJ},\n",
            "      journal={ATT Labs [Online]. Available: http://yann.lecun.com/exdb/mnist},\n",
            "      volume={2},\n",
            "      year={2010}\n",
            "    }\"\"\",\n",
            ")\n"
          ]
        }
      ]
    },
    {
      "cell_type": "markdown",
      "source": [
        "**2. Exploring the dataset**"
      ],
      "metadata": {
        "id": "4V7NkKJ746Lz"
      }
    },
    {
      "cell_type": "code",
      "source": [
        "# Iterate over the dataset and display some examples\n",
        "import matplotlib.pyplot as plt\n",
        "\n",
        "for example in train_ds.take(1):\n",
        "    image, label = example\n",
        "    plt.imshow(image.numpy().squeeze(), cmap='gray')\n",
        "    plt.title(f'Label: {label.numpy()}')\n",
        "    plt.show()"
      ],
      "metadata": {
        "colab": {
          "base_uri": "https://localhost:8080/",
          "height": 452
        },
        "id": "70V7wrkf4_v0",
        "outputId": "eaaa2dfe-a07c-4fb9-8be8-5f02a2be1c21"
      },
      "execution_count": 3,
      "outputs": [
        {
          "output_type": "display_data",
          "data": {
            "text/plain": [
              "<Figure size 640x480 with 1 Axes>"
            ],
            "image/png": "[encoded data removed]"
          },
          "metadata": {}
        }
      ]
    },
    {
      "cell_type": "markdown",
      "source": [
        "**3. Splitting a dataset**"
      ],
      "metadata": {
        "id": "ePPHGdYN5TCY"
      }
    },
    {
      "cell_type": "code",
      "source": [
        "# Load the dataset with a split\n",
        "train_ds, val_ds = tfds.load('mnist', split=['train[:80%]', 'train[80%:]'], as_supervised=True)\n",
        "\n",
        "print(f'Training set size: {len(list(train_ds))}')\n",
        "print(f'Validation set size: {len(list(val_ds))}')"
      ],
      "metadata": {
        "colab": {
          "base_uri": "https://localhost:8080/"
        },
        "id": "kTO8F7ax5Wtg",
        "outputId": "a96dd679-a858-4444-e4bb-fb4aace0f030"
      },
      "execution_count": 4,
      "outputs": [
        {
          "output_type": "stream",
          "name": "stdout",
          "text": [
            "Training set size: 48000\n",
            "Validation set size: 12000\n"
          ]
        }
      ]
    },
    {
      "cell_type": "markdown",
      "source": [
        "**<h2>Data Preprocessing Techniques</h2>**\n",
        "\n",
        "Data preprocessing is a crucial step in the machine learning pipeline. It involves transforming raw data into a suitable format before feeding it into a machine learning model. Common preprocessing steps include normalization, resizing, and encoding."
      ],
      "metadata": {
        "id": "cx4U06FS5lWv"
      }
    },
    {
      "cell_type": "markdown",
      "source": [
        "**1. Normalization**"
      ],
      "metadata": {
        "id": "q3BFXgRn5y6a"
      }
    },
    {
      "cell_type": "code",
      "source": [
        "import tensorflow as tf\n",
        "\n",
        "# Normalize pixel values to be between 0 and 1\n",
        "def normalize_img(image, label):\n",
        "    image = tf.cast(image, tf.float32) / 255.0\n",
        "    return image, label\n",
        "\n",
        "train_ds = train_ds.map(normalize_img)\n",
        "test_ds = test_ds.map(normalize_img)"
      ],
      "metadata": {
        "id": "G_pm9dC352rs"
      },
      "execution_count": 5,
      "outputs": []
    },
    {
      "cell_type": "markdown",
      "source": [
        "**2. Resizing**"
      ],
      "metadata": {
        "id": "iclmm4GV6DmS"
      }
    },
    {
      "cell_type": "code",
      "source": [
        "# Resize images to 32x32\n",
        "def resize_img(image, label):\n",
        "    image = tf.image.resize(image, [32, 32])\n",
        "    return image, label\n",
        "\n",
        "train_ds = train_ds.map(resize_img)\n",
        "test_ds = test_ds.map(resize_img)"
      ],
      "metadata": {
        "id": "Qe29YzVD6C9S"
      },
      "execution_count": 6,
      "outputs": []
    },
    {
      "cell_type": "markdown",
      "source": [
        "**3. One-hot Encoding**"
      ],
      "metadata": {
        "id": "a-v1f6826Qu1"
      }
    },
    {
      "cell_type": "code",
      "source": [
        "# One-hot encode the labels\n",
        "def one_hot_encode(image, label):\n",
        "    label = tf.one_hot(label, depth=10)\n",
        "    return image, label\n",
        "\n",
        "train_ds = train_ds.map(one_hot_encode)\n",
        "test_ds = test_ds.map(one_hot_encode)"
      ],
      "metadata": {
        "id": "RlmkAPgC6UVa"
      },
      "execution_count": 7,
      "outputs": []
    },
    {
      "cell_type": "markdown",
      "source": [
        "**4. Combining Preprocessing Steps:**"
      ],
      "metadata": {
        "id": "cpClqb2j6cxw"
      }
    },
    {
      "cell_type": "code",
      "source": [
        "# Combine multiple preprocessing steps\n",
        "def preprocess(image, label):\n",
        "    image = tf.cast(image, tf.float32) / 255.0\n",
        "    image = tf.image.resize(image, [32, 32])\n",
        "    label = tf.one_hot(label, depth=10)\n",
        "    return image, label\n",
        "\n",
        "train_ds = train_ds.map(preprocess)\n",
        "test_ds = test_ds.map(preprocess)"
      ],
      "metadata": {
        "id": "JJsqTFM26idA"
      },
      "execution_count": null,
      "outputs": []
    },
    {
      "cell_type": "markdown",
      "source": [
        "**<h2>Data Augmentation</h2>**\n",
        "\n",
        "Data augmentation is a technique to artificially increase the size of a training dataset by creating modified versions of images in the dataset. This helps to improve the generalization ability of a model."
      ],
      "metadata": {
        "id": "vIINeJXc6qyS"
      }
    },
    {
      "cell_type": "markdown",
      "source": [
        "**1. Basic Augmentation**"
      ],
      "metadata": {
        "id": "7t-cW4MC61Y7"
      }
    },
    {
      "cell_type": "code",
      "source": [
        "# Flip images horizontally\n",
        "def augment(image, label):\n",
        "    image = tf.image.flip_left_right(image)\n",
        "    return image, label\n",
        "\n",
        "train_ds = train_ds.map(augment)"
      ],
      "metadata": {
        "id": "AyCClSOz6y8G"
      },
      "execution_count": null,
      "outputs": []
    },
    {
      "cell_type": "markdown",
      "source": [
        "**2. Random Rotation and Zoom**"
      ],
      "metadata": {
        "id": "6AsDxUVx7IsF"
      }
    },
    {
      "cell_type": "code",
      "source": [
        "# Rotate and zoom images\n",
        "def augment(image, label):\n",
        "    image = tf.image.random_flip_left_right(image)\n",
        "    image = tf.image.random_flip_up_down(image)\n",
        "    image = tf.image.random_brightness(image, max_delta=0.1)\n",
        "    image = tf.image.random_contrast(image, lower=0.1, upper=0.2)\n",
        "    return image, label\n",
        "\n",
        "train_ds = train_ds.map(augment)"
      ],
      "metadata": {
        "id": "m2BmZ3xg7Mk8"
      },
      "execution_count": null,
      "outputs": []
    },
    {
      "cell_type": "markdown",
      "source": [
        "**3. Using tf.image Methods:**"
      ],
      "metadata": {
        "id": "CQbgUYIT7eAq"
      }
    },
    {
      "cell_type": "code",
      "source": [
        "# Use tf.image methods for augmentation\n",
        "def augment(image, label):\n",
        "    image = tf.image.random_flip_left_right(image)\n",
        "    image = tf.image.random_brightness(image, max_delta=0.2)\n",
        "    image = tf.image.random_contrast(image, lower=0.8, upper=1.2)\n",
        "    image = tf.image.random_saturation(image, lower=0.8, upper=1.2)\n",
        "    return image, label\n",
        "\n",
        "train_ds = train_ds.map(augment)"
      ],
      "metadata": {
        "id": "kvzqTpPS7f1s"
      },
      "execution_count": null,
      "outputs": []
    },
    {
      "cell_type": "markdown",
      "source": [
        "**Combining Preprocessing and Augmentation:**"
      ],
      "metadata": {
        "id": "epSe26Ie7ivi"
      }
    },
    {
      "cell_type": "code",
      "source": [
        "# Combine preprocessing and augmentation steps\n",
        "def preprocess_and_augment(image, label):\n",
        "    # Preprocessing\n",
        "    image = tf.cast(image, tf.float32) / 255.0\n",
        "    image = tf.image.resize(image, [32, 32])\n",
        "    label = tf.one_hot(label, depth=10)\n",
        "\n",
        "    # Augmentation\n",
        "    image = tf.image.random_flip_left_right(image)\n",
        "    image = tf.image.random_brightness(image, max_delta=0.2)\n",
        "    image = tf.image.random_contrast(image, lower=0.8, upper=1.2)\n",
        "    image = tf.image.random_saturation(image, lower=0.8, upper=1.2)\n",
        "\n",
        "    return image, label\n",
        "\n",
        "train_ds = train_ds.map(preprocess_and_augment)"
      ],
      "metadata": {
        "id": "6230g2PW7ouC"
      },
      "execution_count": null,
      "outputs": []
    }
  ]
}
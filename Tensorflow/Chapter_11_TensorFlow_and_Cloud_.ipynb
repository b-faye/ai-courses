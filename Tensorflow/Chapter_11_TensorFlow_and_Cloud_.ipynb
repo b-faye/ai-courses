{
  "nbformat": 4,
  "nbformat_minor": 0,
  "metadata": {
    "colab": {
      "provenance": []
    },
    "kernelspec": {
      "name": "python3",
      "display_name": "Python 3"
    },
    "language_info": {
      "name": "python"
    }
  },
  "cells": [
    {
      "cell_type": "markdown",
      "source": [
        "Overview\n",
        "\n",
        "* Train a TensorFlow Model\n",
        "* Save the Model\n",
        "* Create a Flask Application\n",
        "* Integrate the Model with Flask\n",
        "* Run the Flask Application\n",
        "\n"
      ],
      "metadata": {
        "id": "asDmUCCnMz0b"
      }
    },
    {
      "cell_type": "markdown",
      "source": [
        "**1. Train a TensorFlow Model**\n",
        "\n",
        "Let's create a simple TensorFlow model for image classification using the MNIST dataset.\n",
        "\n",
        "Python Code: **train_model.py**"
      ],
      "metadata": {
        "id": "OBqUxCkCNL9z"
      }
    },
    {
      "cell_type": "code",
      "source": [
        "import tensorflow as tf\n",
        "from tensorflow.keras.datasets import mnist\n",
        "from tensorflow.keras.models import Sequential\n",
        "from tensorflow.keras.layers import Dense, Flatten\n",
        "from tensorflow.keras.utils import to_categorical\n",
        "\n",
        "# Load dataset\n",
        "(x_train, y_train), (x_test, y_test) = mnist.load_data()\n",
        "\n",
        "# Preprocess data\n",
        "x_train, x_test = x_train / 255.0, x_test / 255.0\n",
        "y_train = to_categorical(y_train, 10)\n",
        "y_test = to_categorical(y_test, 10)\n",
        "\n",
        "# Build the model\n",
        "model = Sequential([\n",
        "    Flatten(input_shape=(28, 28)),\n",
        "    Dense(128, activation='relu'),\n",
        "    Dense(10, activation='softmax')\n",
        "])\n",
        "\n",
        "# Compile the model\n",
        "model.compile(optimizer='adam',\n",
        "              loss='categorical_crossentropy',\n",
        "              metrics=['accuracy'])\n",
        "\n",
        "# Train the model\n",
        "model.fit(x_train, y_train, epochs=5, validation_data=(x_test, y_test))\n",
        "\n",
        "# Save the model\n",
        "model.save('mnist_model.h5')\n",
        "\n",
        "print(\"Model training complete and saved as 'mnist_model.h5'\")"
      ],
      "metadata": {
        "id": "IyYVy1UFM8SE"
      },
      "execution_count": null,
      "outputs": []
    },
    {
      "cell_type": "markdown",
      "source": [
        "**2. Create a Flask Application**\n",
        "\n",
        "Python Code: **app.py**"
      ],
      "metadata": {
        "id": "R7IpPDAzNFZy"
      }
    },
    {
      "cell_type": "code",
      "source": [
        "from flask import Flask, request, jsonify\n",
        "import tensorflow as tf\n",
        "import numpy as np\n",
        "\n",
        "app = Flask(__name__)\n",
        "\n",
        "# Load the model\n",
        "model = tf.keras.models.load_model('mnist_model.h5')\n",
        "\n",
        "@app.route('/predict', methods=['POST'])\n",
        "def predict():\n",
        "    try:\n",
        "        # Get the data from the POST request\n",
        "        data = request.get_json()\n",
        "        # Convert the data to a numpy array\n",
        "        image = np.array(data['image'])\n",
        "        # Normalize the image\n",
        "        image = image / 255.0\n",
        "        # Expand dimensions to match model input shape\n",
        "        image = np.expand_dims(image, axis=0)\n",
        "        # Make a prediction\n",
        "        predictions = model.predict(image)\n",
        "        # Get the class with the highest probability\n",
        "        predicted_class = np.argmax(predictions[0])\n",
        "        return jsonify({'predicted_class': int(predicted_class)})\n",
        "    except Exception as e:\n",
        "        return jsonify({'error': str(e)})\n",
        "\n",
        "if __name__ == '__main__':\n",
        "    app.run(debug=True)"
      ],
      "metadata": {
        "id": "ToHdsDH1NQ7U"
      },
      "execution_count": null,
      "outputs": []
    },
    {
      "cell_type": "markdown",
      "source": [
        "**4. Integrate the Model with Flask**\n",
        "\n",
        "Here’s a step-by-step breakdown of what the Flask application does:\n",
        "\n",
        "- Load the Model: The model is loaded using TensorFlow’s tf.keras.models.load_model() function.\n",
        "- Predict Endpoint: The /predict endpoint expects a POST request containing image data in JSON format. The image data is normalized and reshaped to match the input shape of the model.\n",
        "- Make Prediction: The model predicts the class of the image, and the result is returned as a JSON response."
      ],
      "metadata": {
        "id": "GFWCfX_mNanZ"
      }
    },
    {
      "cell_type": "code",
      "source": [
        "# train the model\n",
        "! python app.py\n",
        "# Testing the Flask API\n",
        "! curl -X POST http://127.0.0.1:5000/predict -H \"Content-Type: application/json\" -d '{\"image\": [[0, 0, 0, ..., 0], [0, 0, 0, ..., 0], ..., [0, 0, 0, ..., 0]]}'"
      ],
      "metadata": {
        "id": "ZHHjBoiWNm_g"
      },
      "execution_count": null,
      "outputs": []
    },
    {
      "cell_type": "markdown",
      "source": [
        "**5. Use requests to test the flask API**"
      ],
      "metadata": {
        "id": "u5lPJq9WNyXJ"
      }
    },
    {
      "cell_type": "markdown",
      "source": [
        "You can create a script to send a POST request to your Flask API and handle the response.\n",
        "\n",
        "Python Code: **test_flask_api.py**"
      ],
      "metadata": {
        "id": "15VHELVJN8LE"
      }
    },
    {
      "cell_type": "code",
      "source": [
        "import requests\n",
        "import numpy as np\n",
        "\n",
        "# Example image data: a 28x28 array of zeros (you can replace this with actual image data)\n",
        "example_image = np.zeros((28, 28)).tolist()\n",
        "\n",
        "# Define the API endpoint\n",
        "url = 'http://127.0.0.1:5000/predict'\n",
        "\n",
        "# Create the payload\n",
        "payload = {\n",
        "    'image': example_image\n",
        "}\n",
        "\n",
        "# Send the POST request\n",
        "response = requests.post(url, json=payload)\n",
        "\n",
        "# Check the response\n",
        "if response.status_code == 200:\n",
        "    result = response.json()\n",
        "    print('Response:', result)\n",
        "else:\n",
        "    print('Failed to get a response. Status code:', response.status_code)\n",
        "    print('Response:', response.text)"
      ],
      "metadata": {
        "id": "PR3h2Yu5N4ln"
      },
      "execution_count": null,
      "outputs": []
    },
    {
      "cell_type": "code",
      "source": [
        "! python test_flask_api.py"
      ],
      "metadata": {
        "id": "sDvnHgazOIBO"
      },
      "execution_count": null,
      "outputs": []
    },
    {
      "cell_type": "markdown",
      "source": [
        "**6. Use Streamlit as front-end**"
      ],
      "metadata": {
        "id": "9I1saeqYOJDz"
      }
    },
    {
      "cell_type": "code",
      "source": [
        "import streamlit as st\n",
        "import requests\n",
        "import numpy as np\n",
        "from PIL import Image\n",
        "import io\n",
        "\n",
        "# Define the API endpoint\n",
        "API_URL = 'http://127.0.0.1:5000/predict'\n",
        "\n",
        "# Streamlit app\n",
        "st.title(\"MNIST Digit Classifier\")\n",
        "\n",
        "# Upload image\n",
        "uploaded_file = st.file_uploader(\"Choose an image...\", type=\"png\")\n",
        "\n",
        "if uploaded_file is not None:\n",
        "    # Load and preprocess image\n",
        "    image = Image.open(uploaded_file).convert('L')  # Convert to grayscale\n",
        "    image = image.resize((28, 28))  # Resize to 28x28\n",
        "    image = np.array(image)  # Convert to numpy array\n",
        "\n",
        "    # Display the image\n",
        "    st.image(image, caption='Uploaded Image.', use_column_width=True)\n",
        "\n",
        "    # Prepare payload\n",
        "    payload = {\n",
        "        'image': image.tolist()  # Convert numpy array to list\n",
        "    }\n",
        "\n",
        "    # Send POST request to Flask API\n",
        "    response = requests.post(API_URL, json=payload)\n",
        "\n",
        "    if response.status_code == 200:\n",
        "        result = response.json()\n",
        "        st.write(f'Predicted Class: {result[\"predicted_class\"]}')\n",
        "    else:\n",
        "        st.error(f\"Failed to get prediction. Status code: {response.status_code}\")\n",
        "        st.error(response.text)\n"
      ],
      "metadata": {
        "id": "obxgoKMrORxi"
      },
      "execution_count": null,
      "outputs": []
    },
    {
      "cell_type": "code",
      "source": [
        "! streamlit run streamlit_app.py"
      ],
      "metadata": {
        "id": "-IwCDbnVOW52"
      },
      "execution_count": null,
      "outputs": []
    }
  ]
}
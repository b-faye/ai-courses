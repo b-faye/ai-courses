{
  "nbformat": 4,
  "nbformat_minor": 0,
  "metadata": {
    "colab": {
      "provenance": []
    },
    "kernelspec": {
      "name": "python3",
      "display_name": "Python 3"
    },
    "language_info": {
      "name": "python"
    }
  },
  "cells": [
    {
      "cell_type": "markdown",
      "source": [
        "**Plan**\n",
        "\n",
        "**1. Real-world applications of TensorFlow**\n",
        "- Tumor Detection in Medical Images\n",
        "\n",
        "**2. Hands-on projects and exercises**\n",
        "- Image Classification:\n",
        "- Text Generation (Tokenizer)\n",
        "- Time Series Forecasting\n",
        "\n",
        "\n",
        "\n",
        "\n"
      ],
      "metadata": {
        "id": "4EUWQZecQsJu"
      }
    },
    {
      "cell_type": "markdown",
      "source": [
        "**<h2>Real-World Applications of TensorFlow</h2>**\n",
        "\n",
        "\n",
        "**Definition:** Real-world applications of TensorFlow involve leveraging its capabilities to solve practical problems across various industries. TensorFlow's flexibility and power make it suitable for applications in fields such as healthcare, finance, robotics, and more.\n",
        "\n",
        "**Examples of Real-World Applications:**\n",
        "\n",
        "1. **Healthcare:**\n",
        "   - **Medical Imaging:** TensorFlow is used to develop models that analyze medical images, such as detecting tumors in X-rays or MRIs.\n",
        "   - **Disease Prediction:** Predictive models can help in diagnosing diseases based on patient data and historical health records.\n",
        "\n",
        "2. **Finance:**\n",
        "   - **Fraud Detection:** Machine learning models can analyze transaction patterns to detect fraudulent activities.\n",
        "   - **Algorithmic Trading:** Models can predict stock prices and assist in making trading decisions.\n",
        "\n",
        "3. **Retail:**\n",
        "   - **Recommendation Systems:** TensorFlow can power recommendation engines that suggest products based on user behavior and preferences.\n",
        "   - **Demand Forecasting:** Predicting future product demand to optimize inventory management.\n",
        "\n",
        "4. **Autonomous Vehicles:**\n",
        "   - **Object Detection:** TensorFlow is used in autonomous driving systems to identify and classify objects, such as pedestrians, vehicles, and traffic signs.\n",
        "   - **Path Planning:** Algorithms for navigating and making driving decisions in real-time.\n",
        "\n"
      ],
      "metadata": {
        "id": "sS-by4OpOJIf"
      }
    },
    {
      "cell_type": "markdown",
      "source": [
        "**Example Case Study: Healthcare - Tumor Detection in Medical Images**"
      ],
      "metadata": {
        "id": "KfGd5mzPPh9w"
      }
    },
    {
      "cell_type": "code",
      "source": [
        "# Example code for a simple tumor detection model using TensorFlow\n",
        "\n",
        "import tensorflow as tf\n",
        "from tensorflow.keras.preprocessing.image import ImageDataGenerator\n",
        "from tensorflow.keras import layers, models\n",
        "\n",
        "# Create a data generator for loading images\n",
        "train_datagen = ImageDataGenerator(rescale=1./255, validation_split=0.2)\n",
        "train_generator = train_datagen.flow_from_directory(\n",
        "    'path_to_data',\n",
        "    target_size=(150, 150),\n",
        "    batch_size=32,\n",
        "    class_mode='binary',\n",
        "    subset='training'\n",
        ")\n",
        "validation_generator = train_datagen.flow_from_directory(\n",
        "    'path_to_data',\n",
        "    target_size=(150, 150),\n",
        "    batch_size=32,\n",
        "    class_mode='binary',\n",
        "    subset='validation'\n",
        ")\n",
        "\n",
        "# Build a simple CNN model for tumor detection\n",
        "model = models.Sequential([\n",
        "    layers.Conv2D(32, (3, 3), activation='relu', input_shape=(150, 150, 3)),\n",
        "    layers.MaxPooling2D((2, 2)),\n",
        "    layers.Conv2D(64, (3, 3), activation='relu'),\n",
        "    layers.MaxPooling2D((2, 2)),\n",
        "    layers.Conv2D(128, (3, 3), activation='relu'),\n",
        "    layers.MaxPooling2D((2, 2)),\n",
        "    layers.Conv2D(128, (3, 3), activation='relu'),\n",
        "    layers.MaxPooling2D((2, 2)),\n",
        "    layers.Flatten(),\n",
        "    layers.Dense(512, activation='relu'),\n",
        "    layers.Dense(1, activation='sigmoid')\n",
        "])\n",
        "\n",
        "model.compile(optimizer='adam',\n",
        "              loss='binary_crossentropy',\n",
        "              metrics=['accuracy'])\n",
        "\n",
        "# Train the model\n",
        "history = model.fit(\n",
        "    train_generator,\n",
        "    epochs=10,\n",
        "    validation_data=validation_generator\n",
        ")\n",
        "\n",
        "# Save the model\n",
        "model.save('tumor_detection_model.h5')"
      ],
      "metadata": {
        "id": "xTR1xKojPm8F"
      },
      "execution_count": null,
      "outputs": []
    },
    {
      "cell_type": "markdown",
      "source": [
        "**<h2>Hands-on projects and exercise</h2>**\n",
        "\n",
        "**Definition:** Hands-on projects and exercises provide practical experience by allowing you to apply TensorFlow to solve specific problems or build real-world applications. These projects can range from small tasks to more complex applications.\n",
        "\n"
      ],
      "metadata": {
        "id": "3ujeOb0XPiAc"
      }
    },
    {
      "cell_type": "markdown",
      "source": [
        "**2. Image Classification:**\n",
        "- **Project:** Build an image classification model to classify images into different categories (e.g., cats vs. dogs).\n",
        "- **Dataset:** Use a publicly available dataset like CIFAR-10 or MNIST.\n"
      ],
      "metadata": {
        "id": "ARSFr1NnQSpI"
      }
    },
    {
      "cell_type": "code",
      "source": [
        "from tensorflow.keras.datasets import cifar10\n",
        "from tensorflow.keras import layers, models\n",
        "\n",
        "# Load CIFAR-10 dataset\n",
        "(x_train, y_train), (x_test, y_test) = cifar10.load_data()\n",
        "x_train, x_test = x_train / 255.0, x_test / 255.0\n",
        "\n",
        "# Build a CNN model\n",
        "model = models.Sequential([\n",
        "    layers.Conv2D(32, (3, 3), activation='relu', input_shape=(32, 32, 3)),\n",
        "    layers.MaxPooling2D((2, 2)),\n",
        "    layers.Conv2D(64, (3, 3), activation='relu'),\n",
        "    layers.MaxPooling2D((2, 2)),\n",
        "    layers.Conv2D(64, (3, 3), activation='relu'),\n",
        "    layers.Flatten(),\n",
        "    layers.Dense(64, activation='relu'),\n",
        "    layers.Dense(10, activation='softmax')\n",
        "])\n",
        "\n",
        "model.compile(optimizer='adam',\n",
        "              loss='sparse_categorical_crossentropy',\n",
        "              metrics=['accuracy'])\n",
        "\n",
        "# Train the model\n",
        "model.fit(x_train, y_train, epochs=10, validation_data=(x_test, y_test))\n",
        "\n",
        "# Evaluate the model\n",
        "test_loss, test_acc = model.evaluate(x_test, y_test)\n",
        "print(f\"Test accuracy: {test_acc}\")\n"
      ],
      "metadata": {
        "id": "zjCk8I1gQWep"
      },
      "execution_count": null,
      "outputs": []
    },
    {
      "cell_type": "markdown",
      "source": [
        "**2. Text Generation:**\n",
        "\n",
        "- Project: Implement a text generation model using Recurrent Neural Networks (RNNs) or Transformers.\n",
        "- Dataset: Use text data from books or articles."
      ],
      "metadata": {
        "id": "BLsK0qJdQeuA"
      }
    },
    {
      "cell_type": "code",
      "source": [
        "import numpy as np\n",
        "import tensorflow as tf\n",
        "from tensorflow.keras.preprocessing.text import Tokenizer\n",
        "from tensorflow.keras.preprocessing.sequence import pad_sequences\n",
        "\n",
        "# Sample text data\n",
        "texts = [\"hello world\", \"hello TensorFlow\", \"TensorFlow is great\"]\n",
        "\n",
        "# Tokenize the text\n",
        "tokenizer = Tokenizer()\n",
        "tokenizer.fit_on_texts(texts)\n",
        "sequences = tokenizer.texts_to_sequences(texts)\n",
        "padded_sequences = pad_sequences(sequences, padding='post')\n",
        "\n",
        "# Define a simple RNN model\n",
        "model = tf.keras.Sequential([\n",
        "    layers.Embedding(input_dim=len(tokenizer.word_index) + 1, output_dim=8),\n",
        "    layers.SimpleRNN(64),\n",
        "    layers.Dense(len(tokenizer.word_index) + 1, activation='softmax')\n",
        "])\n",
        "\n",
        "model.compile(optimizer='adam', loss='sparse_categorical_crossentropy')\n",
        "\n",
        "# Dummy training step\n",
        "x_train = padded_sequences\n",
        "y_train = np.random.randint(len(tokenizer.word_index) + 1, size=(len(texts),))\n",
        "model.fit(x_train, y_train, epochs=5)"
      ],
      "metadata": {
        "id": "jr8mHoBkQp0R"
      },
      "execution_count": null,
      "outputs": []
    },
    {
      "cell_type": "code",
      "source": [
        "tokenizer.word_index"
      ],
      "metadata": {
        "colab": {
          "base_uri": "https://localhost:8080/"
        },
        "id": "BOdrFvRAQ9DA",
        "outputId": "adca2634-bbbc-40f7-ac2e-6da03658c8a2"
      },
      "execution_count": 5,
      "outputs": [
        {
          "output_type": "execute_result",
          "data": {
            "text/plain": [
              "{'hello': 1, 'tensorflow': 2, 'world': 3, 'is': 4, 'great': 5}"
            ]
          },
          "metadata": {},
          "execution_count": 5
        }
      ]
    },
    {
      "cell_type": "markdown",
      "source": [
        "**3. Time Series Forecasting:**\n",
        "\n",
        "- Project: Build a time series forecasting model to predict future values based on historical data.\n",
        "- Dataset: Use datasets such as stock prices or weather data."
      ],
      "metadata": {
        "id": "xng9mj2_REdW"
      }
    },
    {
      "cell_type": "code",
      "source": [
        "import numpy as np\n",
        "import tensorflow as tf\n",
        "from tensorflow.keras import layers\n",
        "\n",
        "# Generate dummy time series data\n",
        "data = np.sin(np.arange(0, 100, 0.1))\n",
        "x = []\n",
        "y = []\n",
        "window_size = 10\n",
        "\n",
        "for i in range(len(data) - window_size):\n",
        "    x.append(data[i:i + window_size])\n",
        "    y.append(data[i + window_size])\n",
        "\n",
        "x = np.array(x)\n",
        "y = np.array(y)\n",
        "\n",
        "# Define a simple LSTM model\n",
        "model = tf.keras.Sequential([\n",
        "    layers.LSTM(50, input_shape=(window_size, 1)),\n",
        "    layers.Dense(1)\n",
        "])\n",
        "\n",
        "model.compile(optimizer='adam', loss='mean_squared_error')\n",
        "\n",
        "# Train the model\n",
        "x = np.expand_dims(x, -1)  # Add channel dimension\n",
        "model.fit(x, y, epochs=10)\n",
        "\n",
        "# Predict future values\n",
        "predictions = model.predict(x[-1].reshape(1, window_size, 1))\n",
        "print(f\"Predicted next value: {predictions[0][0]}\")\n"
      ],
      "metadata": {
        "id": "NvS4i1QRRLsU"
      },
      "execution_count": null,
      "outputs": []
    },
    {
      "cell_type": "markdown",
      "source": [
        "**Summary**\n",
        "\n",
        "In this chapter, we've explored:\n",
        "\n",
        "- Real-World Applications of TensorFlow: Examples include medical imaging, fraud detection, recommendation systems, and autonomous vehicles.\n",
        "- Hands-On Projects and Exercises: Practical examples include image classification, text generation, and time series forecasting."
      ],
      "metadata": {
        "id": "i5U1aIo7RQUT"
      }
    }
  ]
}
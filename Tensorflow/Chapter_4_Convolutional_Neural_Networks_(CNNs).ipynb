{
  "nbformat": 4,
  "nbformat_minor": 0,
  "metadata": {
    "colab": {
      "provenance": []
    },
    "kernelspec": {
      "name": "python3",
      "display_name": "Python 3"
    },
    "language_info": {
      "name": "python"
    }
  },
  "cells": [
    {
      "cell_type": "markdown",
      "source": [
        "**<h2>Introduction to Convolutional Neural Networks (CNNs)</h2>**\n",
        "\n",
        "Convolutional Neural Networks (CNNs) are designed to process data that has a known grid-like topology, such as images, which can be interpreted as a 2D grid of pixels. CNNs are particularly effective for image and video recognition tasks due to their ability to capture spatial hierarchies and local patterns.\n",
        "\n",
        "**<h2>Key Components of CNNs</h2>**\n",
        "CNNs consist of several types of layers, each serving a specific purpose in the network. Below, we describe these layers in detail, along with code examples for building, fitting, and predicting using these layers.\n",
        "\n"
      ],
      "metadata": {
        "id": "qfcs2JLaYsmq"
      }
    },
    {
      "cell_type": "markdown",
      "source": [
        "**<h2>1. Convolutional Layers (Conv1D, Conv2D, Conv3D)</h2>**\n",
        "\n",
        "Purpose: To extract features from the input data by applying convolution operations with learnable filters.\n",
        "\n",
        "\n",
        "\n",
        "**Conv1D Example**\n",
        "\n",
        "Used for sequential data (e.g., time series, text)."
      ],
      "metadata": {
        "id": "bNwhG7ttY5TP"
      }
    },
    {
      "cell_type": "code",
      "source": [
        "import tensorflow as tf\n",
        "from tensorflow.keras import layers, models\n",
        "\n",
        "# Generate dummy data\n",
        "import numpy as np\n",
        "X_train = np.random.random((100, 64, 1))  # 100 samples, 64 timesteps, 1 feature\n",
        "y_train = np.random.randint(2, size=(100, 1))\n",
        "\n",
        "# Build a simple Conv1D model\n",
        "model = models.Sequential([\n",
        "    layers.Conv1D(32, 3, activation='relu', input_shape=(64, 1)), # [(n-f+p)/s] + 1, p = f-1 if padding=\"same\" else p=0\n",
        "    layers.MaxPooling1D(2),\n",
        "    layers.Flatten(),\n",
        "    layers.Dense(1, activation='sigmoid')\n",
        "])\n",
        "\n",
        "# Compile the model\n",
        "model.compile(optimizer='adam', loss='binary_crossentropy', metrics=['accuracy'])\n",
        "\n",
        "model.summary()\n",
        "\n",
        "# Fit the model\n",
        "model.fit(X_train, y_train, epochs=10, batch_size=32)\n",
        "\n",
        "# Predict\n",
        "predictions = model.predict(X_train)\n",
        "print(predictions)"
      ],
      "metadata": {
        "colab": {
          "base_uri": "https://localhost:8080/"
        },
        "id": "KatrwkjHZHrG",
        "outputId": "0224c652-3748-4a99-f648-b9403be21914"
      },
      "execution_count": 1,
      "outputs": [
        {
          "output_type": "stream",
          "name": "stdout",
          "text": [
            "Model: \"sequential\"\n",
            "_________________________________________________________________\n",
            " Layer (type)                Output Shape              Param #   \n",
            "=================================================================\n",
            " conv1d (Conv1D)             (None, 62, 32)            128       \n",
            "                                                                 \n",
            " max_pooling1d (MaxPooling1  (None, 31, 32)            0         \n",
            " D)                                                              \n",
            "                                                                 \n",
            " flatten (Flatten)           (None, 992)               0         \n",
            "                                                                 \n",
            " dense (Dense)               (None, 1)                 993       \n",
            "                                                                 \n",
            "=================================================================\n",
            "Total params: 1121 (4.38 KB)\n",
            "Trainable params: 1121 (4.38 KB)\n",
            "Non-trainable params: 0 (0.00 Byte)\n",
            "_________________________________________________________________\n"
          ]
        }
      ]
    },
    {
      "cell_type": "markdown",
      "source": [
        "**Conv2D Example**\n",
        "\n",
        "Used for image data."
      ],
      "metadata": {
        "id": "PkVjgzlJif3-"
      }
    },
    {
      "cell_type": "code",
      "source": [
        "# Generate dummy data\n",
        "X_train = np.random.random((100, 64, 64, 3))  # 100 samples, 64x64 pixels, 3 color channels\n",
        "y_train = np.random.randint(10, size=(100, 1))\n",
        "\n",
        "# Build a simple Conv2D model\n",
        "model = models.Sequential([\n",
        "    layers.Conv2D(32, (3, 3), activation='relu', input_shape=(64, 64, 3)), # [(n-f+p)/s] + 1, p = f-1 if padding=\"same\" else p=0\n",
        "    layers.MaxPooling2D((2, 2)),\n",
        "    layers.Flatten(),\n",
        "    layers.Dense(10, activation='softmax')\n",
        "])\n",
        "\n",
        "# Compile the model\n",
        "model.compile(optimizer='adam', loss='sparse_categorical_crossentropy', metrics=['accuracy'])\n",
        "model.summary()\n",
        "\n",
        "# Fit the model\n",
        "model.fit(X_train, y_train, epochs=10, batch_size=32)\n",
        "\n",
        "# Predict\n",
        "predictions = model.predict(X_train)\n",
        "print(predictions)\n",
        "\n"
      ],
      "metadata": {
        "colab": {
          "base_uri": "https://localhost:8080/"
        },
        "id": "keAHnHk2io4-",
        "outputId": "428591a8-cd2d-4781-8663-fdc01d9e85e0"
      },
      "execution_count": 2,
      "outputs": [
        {
          "output_type": "stream",
          "name": "stdout",
          "text": [
            "Model: \"sequential_1\"\n",
            "_________________________________________________________________\n",
            " Layer (type)                Output Shape              Param #   \n",
            "=================================================================\n",
            " conv2d (Conv2D)             (None, 62, 62, 32)        896       \n",
            "                                                                 \n",
            " max_pooling2d (MaxPooling2  (None, 31, 31, 32)        0         \n",
            " D)                                                              \n",
            "                                                                 \n",
            " flatten_1 (Flatten)         (None, 30752)             0         \n",
            "                                                                 \n",
            " dense_1 (Dense)             (None, 10)                307530    \n",
            "                                                                 \n",
            "=================================================================\n",
            "Total params: 308426 (1.18 MB)\n",
            "Trainable params: 308426 (1.18 MB)\n",
            "Non-trainable params: 0 (0.00 Byte)\n",
            "_________________________________________________________________\n"
          ]
        }
      ]
    },
    {
      "cell_type": "code",
      "source": [
        "# Generate dummy data\n",
        "X_train = np.random.random((100, 64, 64, 3))  # 100 samples, 64x64 pixels, 3 color channels\n",
        "y_train = np.random.randint(10, size=(100, 1))\n",
        "\n",
        "# Build a simple Conv2D model\n",
        "model = models.Sequential([\n",
        "    layers.Conv2D(32, (3, 3), padding=\"same\", activation='relu', input_shape=(64, 64, 3)), # [(n-f+p)/s] + 1, p = f-1 if padding=\"same\" else p=0\n",
        "    layers.MaxPooling2D((2, 2)),\n",
        "    layers.Flatten(),\n",
        "    layers.Dense(10, activation='softmax')\n",
        "])\n",
        "\n",
        "# Compile the model\n",
        "model.compile(optimizer='adam', loss='sparse_categorical_crossentropy', metrics=['accuracy'])\n",
        "model.summary()\n",
        "\n"
      ],
      "metadata": {
        "colab": {
          "base_uri": "https://localhost:8080/"
        },
        "id": "vGzjrgQBksgU",
        "outputId": "0b38595c-1655-4537-da54-f8c4465dc5f6"
      },
      "execution_count": 3,
      "outputs": [
        {
          "output_type": "stream",
          "name": "stdout",
          "text": [
            "Model: \"sequential_2\"\n",
            "_________________________________________________________________\n",
            " Layer (type)                Output Shape              Param #   \n",
            "=================================================================\n",
            " conv2d_1 (Conv2D)           (None, 64, 64, 32)        896       \n",
            "                                                                 \n",
            " max_pooling2d_1 (MaxPoolin  (None, 32, 32, 32)        0         \n",
            " g2D)                                                            \n",
            "                                                                 \n",
            " flatten_2 (Flatten)         (None, 32768)             0         \n",
            "                                                                 \n",
            " dense_2 (Dense)             (None, 10)                327690    \n",
            "                                                                 \n",
            "=================================================================\n",
            "Total params: 328586 (1.25 MB)\n",
            "Trainable params: 328586 (1.25 MB)\n",
            "Non-trainable params: 0 (0.00 Byte)\n",
            "_________________________________________________________________\n"
          ]
        }
      ]
    },
    {
      "cell_type": "code",
      "source": [
        "# Generate dummy data\n",
        "X_train = np.random.random((100, 64, 64, 3))  # 100 samples, 64x64 pixels, 3 color channels\n",
        "y_train = np.random.randint(10, size=(100, 1))\n",
        "\n",
        "# Build a simple Conv2D model\n",
        "model = models.Sequential([\n",
        "    layers.Conv2D(32, (3, 3), padding=\"same\", strides=(2, 2), activation='relu', input_shape=(64, 64, 3)), # [(n-f+p)/s] + 1, p = f-1 if padding=\"same\" else p=0\n",
        "    layers.MaxPooling2D((2, 2)),\n",
        "    layers.Flatten(),\n",
        "    layers.Dense(10, activation='softmax')\n",
        "])\n",
        "\n",
        "# Compile the model\n",
        "model.compile(optimizer='adam', loss='sparse_categorical_crossentropy', metrics=['accuracy'])\n",
        "model.summary()\n",
        "\n"
      ],
      "metadata": {
        "colab": {
          "base_uri": "https://localhost:8080/"
        },
        "id": "KWCGeCIxk1Bq",
        "outputId": "b3b669aa-6eb2-4cad-ce83-0e5588490217"
      },
      "execution_count": 5,
      "outputs": [
        {
          "output_type": "stream",
          "name": "stdout",
          "text": [
            "Model: \"sequential_3\"\n",
            "_________________________________________________________________\n",
            " Layer (type)                Output Shape              Param #   \n",
            "=================================================================\n",
            " conv2d_2 (Conv2D)           (None, 32, 32, 32)        896       \n",
            "                                                                 \n",
            " max_pooling2d_2 (MaxPoolin  (None, 16, 16, 32)        0         \n",
            " g2D)                                                            \n",
            "                                                                 \n",
            " flatten_3 (Flatten)         (None, 8192)              0         \n",
            "                                                                 \n",
            " dense_3 (Dense)             (None, 10)                81930     \n",
            "                                                                 \n",
            "=================================================================\n",
            "Total params: 82826 (323.54 KB)\n",
            "Trainable params: 82826 (323.54 KB)\n",
            "Non-trainable params: 0 (0.00 Byte)\n",
            "_________________________________________________________________\n"
          ]
        }
      ]
    },
    {
      "cell_type": "markdown",
      "source": [
        "**<h2>2. Pooling Layers</h2>**\n",
        "\n",
        "Purpose: To reduce the spatial dimensions of the feature maps, making the computation more efficient and reducing the risk of overfitting.\n",
        "\n",
        "**MaxPooling2D Example**"
      ],
      "metadata": {
        "id": "tDlBeWmVm4SU"
      }
    },
    {
      "cell_type": "code",
      "source": [
        "# Generate dummy data\n",
        "X_train = np.random.random((100, 64, 64, 3))\n",
        "y_train = np.random.randint(10, size=(100, 1))\n",
        "\n",
        "# Build a model with MaxPooling2D\n",
        "model = models.Sequential([\n",
        "    layers.Conv2D(32, (3, 3), activation='relu', input_shape=(64, 64, 3)),\n",
        "    layers.MaxPooling2D((2, 2)), # n/s\n",
        "    layers.Conv2D(64, (3, 3), activation='relu'),\n",
        "    layers.MaxPooling2D((2, 2)),\n",
        "    layers.Flatten(),\n",
        "    layers.Dense(10, activation='softmax')\n",
        "])\n",
        "\n",
        "# Compile the model\n",
        "model.compile(optimizer='adam', loss='sparse_categorical_crossentropy', metrics=['accuracy'])\n",
        "model.summary()\n",
        "\n",
        "# Fit the model\n",
        "model.fit(X_train, y_train, epochs=10, batch_size=32)\n",
        "\n",
        "# Predict\n",
        "predictions = model.predict(X_train)\n",
        "print(predictions)\n"
      ],
      "metadata": {
        "colab": {
          "base_uri": "https://localhost:8080/"
        },
        "id": "JlwV4o1QnBzA",
        "outputId": "a1dc6a96-fec7-4d0d-fea2-e33233e690a2"
      },
      "execution_count": 6,
      "outputs": [
        {
          "output_type": "stream",
          "name": "stdout",
          "text": [
            "Model: \"sequential_4\"\n",
            "_________________________________________________________________\n",
            " Layer (type)                Output Shape              Param #   \n",
            "=================================================================\n",
            " conv2d_3 (Conv2D)           (None, 62, 62, 32)        896       \n",
            "                                                                 \n",
            " max_pooling2d_3 (MaxPoolin  (None, 31, 31, 32)        0         \n",
            " g2D)                                                            \n",
            "                                                                 \n",
            " conv2d_4 (Conv2D)           (None, 29, 29, 64)        18496     \n",
            "                                                                 \n",
            " max_pooling2d_4 (MaxPoolin  (None, 14, 14, 64)        0         \n",
            " g2D)                                                            \n",
            "                                                                 \n",
            " flatten_4 (Flatten)         (None, 12544)             0         \n",
            "                                                                 \n",
            " dense_4 (Dense)             (None, 10)                125450    \n",
            "                                                                 \n",
            "=================================================================\n",
            "Total params: 144842 (565.79 KB)\n",
            "Trainable params: 144842 (565.79 KB)\n",
            "Non-trainable params: 0 (0.00 Byte)\n",
            "_________________________________________________________________\n"
          ]
        }
      ]
    },
    {
      "cell_type": "markdown",
      "source": [
        "**<h2>3. Upsampling Layers</h2>**\n",
        "\n",
        "Purpose: To increase the spatial dimensions of the feature maps, useful for tasks like image segmentation.\n",
        "\n",
        "**Upsampling2D Example**"
      ],
      "metadata": {
        "id": "fKdR9Biun50B"
      }
    },
    {
      "cell_type": "code",
      "source": [
        "# Generate dummy data\n",
        "X_train = np.random.random((100, 32, 32, 3))\n",
        "y_train = np.random.randint(10, size=(100, 1))\n",
        "\n",
        "# Build a model with Upsampling2D\n",
        "model = models.Sequential([\n",
        "    layers.Conv2D(32, (3, 3), activation='relu', input_shape=(32, 32, 3)),\n",
        "    layers.UpSampling2D((2, 2)), # 2*n\n",
        "    layers.Conv2D(64, (3, 3), activation='relu'),\n",
        "    layers.Flatten(),\n",
        "    layers.Dense(10, activation='softmax')\n",
        "])\n",
        "\n",
        "# Compile the model\n",
        "model.compile(optimizer='adam', loss='sparse_categorical_crossentropy', metrics=['accuracy'])\n",
        "model.summary()\n",
        "\n",
        "\n",
        "# Fit the model\n",
        "model.fit(X_train, y_train, epochs=10, batch_size=32)\n",
        "\n",
        "# Predict\n",
        "predictions = model.predict(X_train)\n",
        "print(predictions)"
      ],
      "metadata": {
        "colab": {
          "base_uri": "https://localhost:8080/"
        },
        "id": "uFC9d6Sgn_BA",
        "outputId": "484c60df-c3c1-4511-9202-f20777131a92"
      },
      "execution_count": 8,
      "outputs": [
        {
          "output_type": "stream",
          "name": "stdout",
          "text": [
            "Model: \"sequential_5\"\n",
            "_________________________________________________________________\n",
            " Layer (type)                Output Shape              Param #   \n",
            "=================================================================\n",
            " conv2d_5 (Conv2D)           (None, 30, 30, 32)        896       \n",
            "                                                                 \n",
            " up_sampling2d (UpSampling2  (None, 60, 60, 32)        0         \n",
            " D)                                                              \n",
            "                                                                 \n",
            " conv2d_6 (Conv2D)           (None, 58, 58, 64)        18496     \n",
            "                                                                 \n",
            " flatten_5 (Flatten)         (None, 215296)            0         \n",
            "                                                                 \n",
            " dense_5 (Dense)             (None, 10)                2152970   \n",
            "                                                                 \n",
            "=================================================================\n",
            "Total params: 2172362 (8.29 MB)\n",
            "Trainable params: 2172362 (8.29 MB)\n",
            "Non-trainable params: 0 (0.00 Byte)\n",
            "_________________________________________________________________\n"
          ]
        }
      ]
    },
    {
      "cell_type": "markdown",
      "source": [
        "**<h2>4. Global Average Pooling Layers</h2>**\n",
        "\n",
        "Purpose: To reduce each feature map to a single value by taking the average of all its values.\n",
        "\n",
        "**GlobalAveragePooling2D Example**"
      ],
      "metadata": {
        "id": "beg-iiwWoKwB"
      }
    },
    {
      "cell_type": "code",
      "source": [
        "# Generate dummy data\n",
        "X_train = np.random.random((100, 64, 64, 3))\n",
        "y_train = np.random.randint(10, size=(100, 1))\n",
        "\n",
        "# Build a model with GlobalAveragePooling2D\n",
        "model = models.Sequential([\n",
        "    layers.Conv2D(32, (3, 3), activation='relu', input_shape=(64, 64, 3)),\n",
        "    layers.GlobalAveragePooling2D(), # (batch size, input_channels)\n",
        "    layers.Dense(10, activation='softmax')\n",
        "])\n",
        "\n",
        "# Compile the model\n",
        "model.compile(optimizer='adam', loss='sparse_categorical_crossentropy', metrics=['accuracy'])\n",
        "model.summary()\n",
        "\n",
        "# Fit the model\n",
        "model.fit(X_train, y_train, epochs=10, batch_size=32)\n",
        "\n",
        "# Predict\n",
        "predictions = model.predict(X_train)\n",
        "print(predictions)\n"
      ],
      "metadata": {
        "colab": {
          "base_uri": "https://localhost:8080/"
        },
        "id": "I-JX8E21oTbC",
        "outputId": "9f7fcb61-0f98-4073-c430-34e16981fd3f"
      },
      "execution_count": 9,
      "outputs": [
        {
          "output_type": "stream",
          "name": "stdout",
          "text": [
            "Model: \"sequential_6\"\n",
            "_________________________________________________________________\n",
            " Layer (type)                Output Shape              Param #   \n",
            "=================================================================\n",
            " conv2d_7 (Conv2D)           (None, 62, 62, 32)        896       \n",
            "                                                                 \n",
            " global_average_pooling2d (  (None, 32)                0         \n",
            " GlobalAveragePooling2D)                                         \n",
            "                                                                 \n",
            " dense_6 (Dense)             (None, 10)                330       \n",
            "                                                                 \n",
            "=================================================================\n",
            "Total params: 1226 (4.79 KB)\n",
            "Trainable params: 1226 (4.79 KB)\n",
            "Non-trainable params: 0 (0.00 Byte)\n",
            "_________________________________________________________________\n"
          ]
        }
      ]
    },
    {
      "cell_type": "markdown",
      "source": [
        "**5. Transfer Learning with Pre-trained Models**\n",
        "\n",
        "Purpose: To leverage pre-trained models for new tasks, reducing the need for large amounts of data and computational resources.\n",
        "\n",
        "**Example using VGG16**"
      ],
      "metadata": {
        "id": "rj7yNzAdotcl"
      }
    },
    {
      "cell_type": "code",
      "source": [
        "from tensorflow.keras.applications import VGG16\n",
        "\n",
        "# Load pre-trained VGG16 model without the top layer\n",
        "base_model = VGG16(weights='imagenet', include_top=False, input_shape=(224, 224, 3))\n",
        "\n",
        "# Freeze the layers of the base model\n",
        "for layer in base_model.layers:\n",
        "    layer.trainable = False\n",
        "\n",
        "# Generate dummy data\n",
        "X_train = np.random.random((100, 224, 224, 3))\n",
        "y_train = np.random.randint(10, size=(100, 1))\n",
        "\n",
        "# Add custom layers on top of the base model\n",
        "model = models.Sequential([\n",
        "    base_model,\n",
        "    layers.GlobalAveragePooling2D(),\n",
        "    layers.Dense(256, activation='relu'),\n",
        "    layers.Dropout(0.5),\n",
        "    layers.Dense(10, activation='softmax')\n",
        "])\n",
        "\n",
        "# Compile the model\n",
        "model.compile(optimizer='adam', loss='sparse_categorical_crossentropy', metrics=['accuracy'])\n",
        "\n",
        "# Fit the model\n",
        "model.fit(X_train, y_train, epochs=10, batch_size=32)\n",
        "\n",
        "# Predict\n",
        "predictions = model.predict(X_train)\n",
        "print(predictions)\n"
      ],
      "metadata": {
        "id": "syMp-D7cozil"
      },
      "execution_count": null,
      "outputs": []
    },
    {
      "cell_type": "markdown",
      "source": [
        "**<h2> Number of parmaters and output shape</h2>**"
      ],
      "metadata": {
        "id": "vT58-XQao3pR"
      }
    },
    {
      "cell_type": "markdown",
      "source": [
        "**Output Size Calculation**\n",
        "\n",
        "The output size of a convolutional layer is calculated using the formula:\n",
        "\n",
        "$$ \\text{Output Size} = \\left\\lfloor \\frac{n - f + p}{s} \\right\\rfloor + 1 $$\n",
        "\n",
        "Where:\n",
        "- $ n $ is the input size\n",
        "- $ f $ is the filter size\n",
        "- $ p $ is the padding (where $ p = f - 1 $ if padding is 'same' and $ p = 0 $ if padding is 'valid')\n",
        "- $ s $ is the stride size\n",
        "- $ \\left\\lfloor \\cdot \\right\\rfloor $ denotes taking the floor of the value\n",
        "\n",
        "For layers like `Conv2DTranspose`, the inverse operation is performed:\n",
        "\n",
        "$$ s \\times (n + f - p) $$\n",
        "\n",
        "**Parameter Count**\n",
        "\n",
        "The number of parameters in a convolutional layer depends on the number of channels in the previous layer. For example, if the current layer has 2 filters and the previous layer has 3 channels, the parameters for each filter are duplicated across the channels. If the filter size is $ (2, 2) $:\n",
        "\n",
        "- For each filter, there are $ 3 \\times (2 \\times 2) $ parameters to learn, plus 1 bias term.\n",
        "- The total parameters for one filter are $ 3 \\times (2 \\times 2) + 1 $.\n",
        "- The same applies to the second filter.\n",
        "\n",
        "The general formula for the total number of parameters is:\n",
        "\n",
        "$$ (\\text{filter height} \\times \\text{filter width} \\times \\text{number of channels in previous layer} + 1) \\times \\text{number of filters} $$\n",
        "\n",
        "**Note**\n",
        "\n",
        "Pooling layers do not have parameters to learn.\n",
        "\n",
        "**Example Calculation**\n",
        "Let's consider an example to illustrate the calculations:\n",
        "\n",
        "1. **Output Size Calculation**:\n",
        "    - Input size ($ n $): 32\n",
        "    - Filter size ($ f $): 3\n",
        "    - Padding ($ p $): 2 (for 'same' padding)\n",
        "    - Stride ($ s $): 1\n",
        "\n",
        "$$ \\text{Output Size} = \\left\\lfloor \\frac{32 - 3 + 2}{1} \\right\\rfloor + 1 = \\left\\lfloor 31 \\right\\rfloor + 1 = 32 $$\n",
        "\n",
        "2. **Parameter Count**:\n",
        "    - Filter size: $ (3, 3) $\n",
        "    - Previous layer channels: 3\n",
        "    - Current layer filters: 2\n",
        "\n",
        "For one filter:\n",
        "\n",
        "$$ 3 \\times (3 \\times 3) + 1 = 3 \\times 9 + 1 = 27 + 1 = 28 $$\n",
        "\n",
        "For two filters:\n",
        "\n",
        "$$ 28 \\times 2 = 56 $$\n",
        "\n",
        "**Summary**\n",
        "\n",
        "- **Output Size Calculation**: $ \\left\\lfloor \\frac{n - f + p}{s} \\right\\rfloor + 1 $\n",
        "- **Inverse Operation**: $ s \\times (n + f - p) $ for `Conv2DTranspose`\n",
        "\n",
        "- **Parameter Count**: $ (\\text{filter height} \\times \\text{filter width} \\times \\text{number of channels in previous layer} + 1) \\times \\text{number of filters} $\n",
        "- **Pooling Layers**: No parameters to learn"
      ],
      "metadata": {
        "id": "XTfSBMJQo_Ps"
      }
    }
  ]
}
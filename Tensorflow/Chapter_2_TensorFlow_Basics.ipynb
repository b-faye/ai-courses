{
  "nbformat": 4,
  "nbformat_minor": 0,
  "metadata": {
    "colab": {
      "provenance": []
    },
    "kernelspec": {
      "name": "python3",
      "display_name": "Python 3"
    },
    "language_info": {
      "name": "python"
    }
  },
  "cells": [
    {
      "cell_type": "markdown",
      "source": [
        "# **I. Data Types and Constants**"
      ],
      "metadata": {
        "id": "CSbKJoxKb85o"
      }
    },
    {
      "cell_type": "markdown",
      "source": [
        "**Data Types**\n",
        "\n",
        "TensorFlow supports various data types, each serving a specific purpose. Let's delve into some of the commonly used ones:"
      ],
      "metadata": {
        "id": "ts0RVHkwcBhf"
      }
    },
    {
      "cell_type": "code",
      "execution_count": null,
      "metadata": {
        "id": "Ohm3jTsyetjU"
      },
      "outputs": [],
      "source": [
        "import tensorflow as tf\n",
        "\n",
        "# Floating-point types\n",
        "float_tensor = tf.constant(3.14, dtype=tf.float32)\n",
        "double_tensor = tf.constant(3.14, dtype=tf.float64)\n",
        "\n",
        "# Integer types\n",
        "int_tensor = tf.constant(10, dtype=tf.int32)\n",
        "\n",
        "# Boolean types\n",
        "bool_tensor = tf.constant(True, dtype=tf.bool)\n",
        "\n",
        "# String types\n",
        "string_tensor = tf.constant(\"Hello Word!\", dtype=tf.string)"
      ]
    },
    {
      "cell_type": "markdown",
      "source": [
        "**Constants**\n",
        "\n",
        "Constants are unchangeable tensors and are often used to represent fixed values:"
      ],
      "metadata": {
        "id": "31v6-TyactkL"
      }
    },
    {
      "cell_type": "code",
      "source": [
        "# Creating constants\n",
        "const_tensor = tf.constant([1, 2, 3])\n",
        "\n",
        "# Operations with constants\n",
        "result = const_tensor * 5"
      ],
      "metadata": {
        "id": "YYyqNQl6cvYz"
      },
      "execution_count": null,
      "outputs": []
    },
    {
      "cell_type": "markdown",
      "source": [
        "# **II. Basic functions**"
      ],
      "metadata": {
        "id": "ApXwg2WIr-FI"
      }
    },
    {
      "cell_type": "markdown",
      "source": [
        "TensorFlow provides a wide range of basic functions for constructing and manipulating tensors, performing mathematical operations, and building machine learning models. Here are some fundamental functions in TensorFlow:"
      ],
      "metadata": {
        "id": "S1mRq3ihsS1n"
      }
    },
    {
      "cell_type": "markdown",
      "source": [
        "**tf.add: Element-wise addition.**"
      ],
      "metadata": {
        "id": "huoJgeTQttXT"
      }
    },
    {
      "cell_type": "markdown",
      "source": [
        "Element-wise addition: Adds corresponding elements of two tensors, creating a new tensor with the results."
      ],
      "metadata": {
        "id": "VMsYnyIDtxAS"
      }
    },
    {
      "cell_type": "code",
      "source": [
        "# Create two tensors\n",
        "tensor_a = tf.constant([1, 2, 3], dtype=tf.float32)\n",
        "tensor_b = tf.constant([4, 5, 6], dtype=tf.float32)"
      ],
      "metadata": {
        "id": "s0tLTFApu3rL"
      },
      "execution_count": null,
      "outputs": []
    },
    {
      "cell_type": "code",
      "source": [
        "# Element-wise addition\n",
        "add_result = tf.add(tensor_a, tensor_b)\n",
        "\n",
        "print(\"Element-wise addition result:\", add_result.numpy())\n"
      ],
      "metadata": {
        "colab": {
          "base_uri": "https://localhost:8080/"
        },
        "id": "UzJtMTvIt8di",
        "outputId": "ea11072f-be38-417d-92d4-05633a56353a"
      },
      "execution_count": null,
      "outputs": [
        {
          "output_type": "stream",
          "name": "stdout",
          "text": [
            "Element-wise addition result: [5. 7. 9.]\n"
          ]
        }
      ]
    },
    {
      "cell_type": "markdown",
      "source": [
        "**tf.subtract: Element-wise subtraction.**"
      ],
      "metadata": {
        "id": "-xf9TR7fuAT5"
      }
    },
    {
      "cell_type": "markdown",
      "source": [
        "Element-wise subtraction: Subtracts corresponding elements of two tensors, creating a new tensor with the results."
      ],
      "metadata": {
        "id": "jvBE1Kavuj1z"
      }
    },
    {
      "cell_type": "code",
      "source": [
        "# Element-wise subtraction\n",
        "subtract_result = tf.subtract(tensor_a, tensor_b)\n",
        "\n",
        "print(\"Element-wise subtraction result:\", subtract_result.numpy())"
      ],
      "metadata": {
        "colab": {
          "base_uri": "https://localhost:8080/"
        },
        "id": "W48muMlTuiV1",
        "outputId": "f7d2f025-b7fd-4b72-9750-50383b633f27"
      },
      "execution_count": null,
      "outputs": [
        {
          "output_type": "stream",
          "name": "stdout",
          "text": [
            "Element-wise subtraction result: [-3. -3. -3.]\n"
          ]
        }
      ]
    },
    {
      "cell_type": "markdown",
      "source": [
        "**tf.multiply: Element-wise multiplication.**"
      ],
      "metadata": {
        "id": "g5IVwUEJvGhj"
      }
    },
    {
      "cell_type": "markdown",
      "source": [
        "Element-wise multiplication: Multiplies corresponding elements of two tensors, creating a new tensor with the results."
      ],
      "metadata": {
        "id": "n5LyOX4tvRnM"
      }
    },
    {
      "cell_type": "code",
      "source": [
        "# Element-wise multiplication\n",
        "multiply_result = tf.multiply(tensor_a, tensor_b)\n",
        "\n",
        "print(\"Element-wise multiplication result:\", multiply_result.numpy())"
      ],
      "metadata": {
        "colab": {
          "base_uri": "https://localhost:8080/"
        },
        "id": "XoZzlEohugbL",
        "outputId": "b72642aa-a884-4755-fedd-e28ea17b2753"
      },
      "execution_count": null,
      "outputs": [
        {
          "output_type": "stream",
          "name": "stdout",
          "text": [
            "Element-wise multiplication result: [ 4. 10. 18.]\n"
          ]
        }
      ]
    },
    {
      "cell_type": "markdown",
      "source": [
        "**tf.divide: Element-wise division.**"
      ],
      "metadata": {
        "id": "ahaxz5o4vglF"
      }
    },
    {
      "cell_type": "markdown",
      "source": [
        "Element-wise division: Divides corresponding elements of two tensors, creating a new tensor with the results."
      ],
      "metadata": {
        "id": "29RCaLM2wE7e"
      }
    },
    {
      "cell_type": "code",
      "source": [
        "# Element-wise division\n",
        "divide_result = tf.divide(tensor_a, tensor_b)\n",
        "\n",
        "print(\"Element-wise division result:\", divide_result.numpy())"
      ],
      "metadata": {
        "colab": {
          "base_uri": "https://localhost:8080/"
        },
        "id": "vbiaMcOhvqzf",
        "outputId": "c2683057-8c13-47d3-b0de-aba0349ca48d"
      },
      "execution_count": null,
      "outputs": [
        {
          "output_type": "stream",
          "name": "stdout",
          "text": [
            "Element-wise division result: [0.25 0.4  0.5 ]\n"
          ]
        }
      ]
    },
    {
      "cell_type": "markdown",
      "source": [
        "**tf.square: Element-wise square.**"
      ],
      "metadata": {
        "id": "OmKMMfK2vvq7"
      }
    },
    {
      "cell_type": "markdown",
      "source": [
        "Element-wise square: Computes the square of each element in the tensor, creating a new tensor with the squared values."
      ],
      "metadata": {
        "id": "LSIRMKjVwNZG"
      }
    },
    {
      "cell_type": "code",
      "source": [
        "# Element-wise square\n",
        "square_result = tf.square(tensor_a)\n",
        "\n",
        "print(\"Element-wise square result:\", square_result.numpy())"
      ],
      "metadata": {
        "colab": {
          "base_uri": "https://localhost:8080/"
        },
        "id": "5PpgMa6_v1Iq",
        "outputId": "13fc037e-8831-4b92-c6ab-f922b9ed7650"
      },
      "execution_count": null,
      "outputs": [
        {
          "output_type": "stream",
          "name": "stdout",
          "text": [
            "Element-wise square result: [1. 4. 9.]\n"
          ]
        }
      ]
    },
    {
      "cell_type": "markdown",
      "source": [
        "**tf.sqrt: Element-wise square root.**"
      ],
      "metadata": {
        "id": "PF88f_rgv4xR"
      }
    },
    {
      "cell_type": "markdown",
      "source": [
        "Element-wise square root: Computes the square root of each element in the tensor, creating a new tensor with the square root values.\n"
      ],
      "metadata": {
        "id": "nBsMgfVGwXoH"
      }
    },
    {
      "cell_type": "code",
      "source": [
        "# Element-wise square root\n",
        "sqrt_result = tf.sqrt(tensor_a)\n",
        "\n",
        "print(\"Element-wise square root result:\", sqrt_result.numpy())"
      ],
      "metadata": {
        "colab": {
          "base_uri": "https://localhost:8080/"
        },
        "id": "-OMfbylPwA4O",
        "outputId": "564b16b4-3d98-44e3-dcd3-0363ff4a0519"
      },
      "execution_count": null,
      "outputs": [
        {
          "output_type": "stream",
          "name": "stdout",
          "text": [
            "Element-wise square root result: [1.        1.4142135 1.7320508]\n"
          ]
        }
      ]
    },
    {
      "cell_type": "markdown",
      "source": [
        "**tf.reduce_sum: Computes the sum of elements along specified dimensions.**"
      ],
      "metadata": {
        "id": "sSV2rmWHxONX"
      }
    },
    {
      "cell_type": "code",
      "source": [
        "import tensorflow as tf\n",
        "\n",
        "# Create a tensor\n",
        "tensor = tf.constant([[1, 2, 3], [4, 5, 6]])\n",
        "\n",
        "# Reduce Sum along axis 1 (columns)\n",
        "sum_result = tf.reduce_sum(tensor, axis=1)\n",
        "\n",
        "print(\"Reduce Sum result:\", sum_result.numpy())"
      ],
      "metadata": {
        "colab": {
          "base_uri": "https://localhost:8080/"
        },
        "id": "ZhkBnjEqxUZ2",
        "outputId": "27616319-2560-4859-a539-2bb6845dc000"
      },
      "execution_count": null,
      "outputs": [
        {
          "output_type": "stream",
          "name": "stdout",
          "text": [
            "Reduce Sum result: [ 6 15]\n"
          ]
        }
      ]
    },
    {
      "cell_type": "markdown",
      "source": [
        "We can use the same same approach using: **tf.reduce_mean**, **tf.reduce_max** and **tf.reduce_min**."
      ],
      "metadata": {
        "id": "HbMagswFxbCI"
      }
    },
    {
      "cell_type": "markdown",
      "source": [
        "**tf.squeeze and tf.unsqueeze**"
      ],
      "metadata": {
        "id": "nbgnX5J0zzfd"
      }
    },
    {
      "cell_type": "markdown",
      "source": [
        "tf.squeeze and tf.unsqueeze are functions used to manipulate the dimensions of a tensor by removing or adding dimensions with size 1, respectively."
      ],
      "metadata": {
        "id": "GyDpShcNh2gq"
      }
    },
    {
      "cell_type": "code",
      "source": [
        "# Example with tf.squeeze\n",
        "tensor_a = tf.constant([[[1], [2], [3]]])  # Shape: (1, 3, 1)\n",
        "squeezed_tensor = tf.squeeze(tensor_a, axis=0) # Shape: (3, 1)\n",
        "squeezed_tensor = tf.squeeze(tensor_a)       # Shape: (3,)"
      ],
      "metadata": {
        "id": "lA_R8Pvrh8uy"
      },
      "execution_count": null,
      "outputs": []
    },
    {
      "cell_type": "code",
      "source": [
        "# Example with tf.unsqueeze\n",
        "tensor_b = tf.constant([[1, 2, 3], [4, 5, 6]])  # Shape: (2, 3)\n",
        "unsqueezed_tensor = tf.unsqueeze(tensor_b, axis=-1)  # Shape: (2, 3, 1)\n",
        "unsqueezed_tensor = tensor_b[:, :, tf.newaxis] # Shape: (2, 3, 1)"
      ],
      "metadata": {
        "id": "xSiWyCkuiYJi"
      },
      "execution_count": null,
      "outputs": []
    },
    {
      "cell_type": "markdown",
      "source": [
        "**tf.tile**"
      ],
      "metadata": {
        "id": "hvUFtDryjFrC"
      }
    },
    {
      "cell_type": "markdown",
      "source": [
        "tf.tile is a TensorFlow function that is used to construct a new tensor by replicating the input tensor. It replicates the data along specified dimensions, creating a larger tensor with repeated copies of the original data."
      ],
      "metadata": {
        "id": "SB0QKH2xjX-r"
      }
    },
    {
      "cell_type": "code",
      "source": [
        "# Example with tf.tile\n",
        "tensor_a = tf.constant([[1, 2], [3, 4]])  # Shape: (2, 2)\n",
        "\n",
        "# Tile the tensor along each dimension\n",
        "tiled_tensor = tf.tile(tensor_a, multiples=[2, 3])  # Shape: (4, 6)\n",
        "\n",
        "# Display the original and tiled tensors\n",
        "print(\"Original Tensor:\")\n",
        "print(tensor_a.numpy())\n",
        "print(\"\\nTiled Tensor:\")\n",
        "print(tiled_tensor.numpy())"
      ],
      "metadata": {
        "colab": {
          "base_uri": "https://localhost:8080/"
        },
        "id": "ljJHayOwjHfU",
        "outputId": "fa251765-e57a-4856-f40d-06ca922f1daf"
      },
      "execution_count": 1,
      "outputs": [
        {
          "output_type": "stream",
          "name": "stdout",
          "text": [
            "Original Tensor:\n",
            "[[1 2]\n",
            " [3 4]]\n",
            "\n",
            "Tiled Tensor:\n",
            "[[1 2 1 2 1 2]\n",
            " [3 4 3 4 3 4]\n",
            " [1 2 1 2 1 2]\n",
            " [3 4 3 4 3 4]]\n"
          ]
        }
      ]
    },
    {
      "cell_type": "markdown",
      "source": [
        "**tf.gather**"
      ],
      "metadata": {
        "id": "n4w4CQ9pj47O"
      }
    },
    {
      "cell_type": "markdown",
      "source": [
        "tf.gather is a TensorFlow function that is used to gather slices from a tensor along a specified axis. It allows you to extract specific elements or sub-tensors from a larger tensor based on the provided indices."
      ],
      "metadata": {
        "id": "lJeNCJaCj6Ck"
      }
    },
    {
      "cell_type": "code",
      "source": [
        "# Example tensor\n",
        "tensor = tf.constant([[1, 2], [3, 4], [5, 6]])\n",
        "\n",
        "# Indices to gather\n",
        "indices = tf.constant([0, 2])\n",
        "\n",
        "# Gather values along axis 0\n",
        "result = tf.gather(tensor, indices, axis=0)\n",
        "\n",
        "print(result.numpy())"
      ],
      "metadata": {
        "colab": {
          "base_uri": "https://localhost:8080/"
        },
        "id": "xeGXUCBVkbWu",
        "outputId": "bdcac727-827a-43f4-b546-a1368994b94a"
      },
      "execution_count": 3,
      "outputs": [
        {
          "output_type": "stream",
          "name": "stdout",
          "text": [
            "[[1 2]\n",
            " [5 6]]\n"
          ]
        }
      ]
    },
    {
      "cell_type": "code",
      "source": [
        "# Example tensor\n",
        "tensor = tf.constant([[1, 2], [3, 4], [5, 6]])\n",
        "\n",
        "# Indices to gather62.48%\n",
        "indices = tf.constant([0, 1])\n",
        "\n",
        "# Gather values along axis 1\n",
        "result = tf.gather(tensor, indices, axis=1)\n",
        "\n",
        "result.numpy()\n"
      ],
      "metadata": {
        "colab": {
          "base_uri": "https://localhost:8080/"
        },
        "id": "NcOrqf3EktY9",
        "outputId": "5d0a1289-925e-485e-8990-0090462b9c3f"
      },
      "execution_count": 4,
      "outputs": [
        {
          "output_type": "execute_result",
          "data": {
            "text/plain": [
              "array([[1, 2],\n",
              "       [3, 4],\n",
              "       [5, 6]], dtype=int32)"
            ]
          },
          "metadata": {},
          "execution_count": 4
        }
      ]
    },
    {
      "cell_type": "markdown",
      "source": [
        "**tf.nn.embedding_lookup**"
      ],
      "metadata": {
        "id": "qFz441nvk54t"
      }
    },
    {
      "cell_type": "markdown",
      "source": [
        "tf.nn.embedding_lookup is a TensorFlow function used for performing embedding lookups. Embeddings are used to map discrete indices (such as word indices in natural language processing) to continuous vector representations. The tf.nn.embedding_lookup function facilitates this process by efficiently extracting the embeddings corresponding to a set of indices."
      ],
      "metadata": {
        "id": "NbbiTSZGlDiu"
      }
    },
    {
      "cell_type": "code",
      "source": [
        "# Example with tf.nn.embedding_lookup\n",
        "embedding_matrix = tf.constant([[0.1, 0.2, 0.3], [0.4, 0.5, 0.6], [0.7, 0.8, 0.9]])  # Shape: (3, 3)\n",
        "indices_to_lookup = tf.constant([0, 2])  # Indices to look up\n",
        "\n",
        "# Perform embedding lookup\n",
        "embeddings = tf.nn.embedding_lookup(embedding_matrix, indices_to_lookup)\n",
        "\n",
        "# Display the original embedding matrix and the looked-up embeddings\n",
        "print(\"Original Embedding Matrix:\")\n",
        "print(embedding_matrix.numpy())\n",
        "print(\"\\nLooked-up Embeddings:\")\n",
        "print(embeddings.numpy())\n"
      ],
      "metadata": {
        "colab": {
          "base_uri": "https://localhost:8080/"
        },
        "id": "SOAPLdMXk7Ep",
        "outputId": "e40241c0-2514-49dc-e9b3-666ed12025be"
      },
      "execution_count": 5,
      "outputs": [
        {
          "output_type": "stream",
          "name": "stdout",
          "text": [
            "Original Embedding Matrix:\n",
            "[[0.1 0.2 0.3]\n",
            " [0.4 0.5 0.6]\n",
            " [0.7 0.8 0.9]]\n",
            "\n",
            "Looked-up Embeddings:\n",
            "[[0.1 0.2 0.3]\n",
            " [0.7 0.8 0.9]]\n"
          ]
        }
      ]
    },
    {
      "cell_type": "markdown",
      "source": [
        "**tf.not_equal**"
      ],
      "metadata": {
        "id": "VWHn-R04lnP9"
      }
    },
    {
      "cell_type": "markdown",
      "source": [
        "tf.not_equal is a TensorFlow function that performs element-wise inequality comparison between two tensors. It returns a tensor of the same shape as the input tensors, where each element is 1 if the corresponding elements are not equal and 0 if they are equal."
      ],
      "metadata": {
        "id": "S5J1BxU-l5pr"
      }
    },
    {
      "cell_type": "code",
      "source": [
        "# Example with tf.not_equal\n",
        "tensor_a = tf.constant([1, 2, 3, 4])\n",
        "tensor_b = tf.constant([2, 2, 3, 4])\n",
        "\n",
        "# Perform element-wise inequality comparison\n",
        "not_equal_result = tf.not_equal(tensor_a, tensor_b)\n",
        "\n",
        "# Display the original tensors and the result of the comparison\n",
        "print(\"Tensor A:\", tensor_a.numpy())\n",
        "print(\"Tensor B:\", tensor_b.numpy())\n",
        "print(\"Not Equal Result:\", not_equal_result.numpy())"
      ],
      "metadata": {
        "colab": {
          "base_uri": "https://localhost:8080/"
        },
        "id": "Rh60pDSWlsIm",
        "outputId": "87e643b2-bf5b-4eae-a6ed-c4f976d57174"
      },
      "execution_count": 6,
      "outputs": [
        {
          "output_type": "stream",
          "name": "stdout",
          "text": [
            "Tensor A: [1 2 3 4]\n",
            "Tensor B: [2 2 3 4]\n",
            "Not Equal Result: [ True False False False]\n"
          ]
        }
      ]
    },
    {
      "cell_type": "markdown",
      "source": [
        "**tf.logical_and**"
      ],
      "metadata": {
        "id": "fdfrsWiDl-12"
      }
    },
    {
      "cell_type": "markdown",
      "source": [
        "tf.logical_and is a TensorFlow function that performs element-wise logical AND operation between two boolean tensors. It returns a new boolean tensor of the same shape as the input tensors, where each element is True if the corresponding elements in both input tensors are True, and False otherwise. We can use in the same way **tf.logical_or** and **tf.logical_xor**, etc."
      ],
      "metadata": {
        "id": "Mo6iXCx3mQL-"
      }
    },
    {
      "cell_type": "code",
      "source": [
        "# Example with tf.logical_and\n",
        "tensor_a = tf.constant([True, True, False, False], dtype=tf.bool)\n",
        "tensor_b = tf.constant([True, False, True, False], dtype=tf.bool)\n",
        "\n",
        "# Perform element-wise logical AND operation\n",
        "logical_and_result = tf.logical_and(tensor_a, tensor_b)\n",
        "\n",
        "# Display the original boolean tensors and the result of the AND operation\n",
        "print(\"Tensor A:\", tensor_a.numpy())\n",
        "print(\"Tensor B:\", tensor_b.numpy())\n",
        "print(\"Logical AND Result:\", logical_and_result.numpy())"
      ],
      "metadata": {
        "colab": {
          "base_uri": "https://localhost:8080/"
        },
        "id": "os3u9zeAmRJE",
        "outputId": "e7bb8d0a-2743-402d-8ee0-9d819873df11"
      },
      "execution_count": 7,
      "outputs": [
        {
          "output_type": "stream",
          "name": "stdout",
          "text": [
            "Tensor A: [ True  True False False]\n",
            "Tensor B: [ True False  True False]\n",
            "Logical AND Result: [ True False False False]\n"
          ]
        }
      ]
    },
    {
      "cell_type": "markdown",
      "source": [
        "**tf.cast**"
      ],
      "metadata": {
        "id": "f1QwryBUnV6D"
      }
    },
    {
      "cell_type": "markdown",
      "source": [
        "tf.cast is a TensorFlow function used to cast a tensor to a new data type. It allows you to change the data type of a tensor to another data type, possibly of lower or higher precision."
      ],
      "metadata": {
        "id": "PL4f3h7XnXms"
      }
    },
    {
      "cell_type": "code",
      "source": [
        "# Example with tf.cast\n",
        "tensor_a = tf.constant([1.2, 2.5, 3.8], dtype=tf.float32)\n",
        "\n",
        "# Cast the tensor to int32 data type\n",
        "casted_tensor = tf.cast(tensor_a, dtype=tf.int32)\n",
        "\n",
        "# Display the original tensor and the casted tensor\n",
        "print(\"Original Tensor (float32):\", tensor_a.numpy())\n",
        "print(\"Casted Tensor (int32):\", casted_tensor.numpy())"
      ],
      "metadata": {
        "colab": {
          "base_uri": "https://localhost:8080/"
        },
        "id": "Jsd_nDq1nYhJ",
        "outputId": "be0e1839-82e5-43cd-cd1a-a897c99ce9f3"
      },
      "execution_count": 8,
      "outputs": [
        {
          "output_type": "stream",
          "name": "stdout",
          "text": [
            "Original Tensor (float32): [1.2 2.5 3.8]\n",
            "Casted Tensor (int32): [1 2 3]\n"
          ]
        }
      ]
    },
    {
      "cell_type": "code",
      "source": [
        "# Example with tf.cast\n",
        "tensor_a = tf.constant([True, False, True], dtype=tf.bool)\n",
        "\n",
        "# Cast the tensor to int32 data type\n",
        "casted_tensor = tf.cast(tensor_a, dtype=tf.int32)\n",
        "\n",
        "# Display the original tensor and the casted tensor\n",
        "print(\"Original Tensor (float32):\", tensor_a.numpy())\n",
        "print(\"Casted Tensor (int32):\", casted_tensor.numpy())"
      ],
      "metadata": {
        "colab": {
          "base_uri": "https://localhost:8080/"
        },
        "id": "TWOZ_MX4nl7T",
        "outputId": "24a7f1b6-9416-4387-dde6-aec4ecee1b0e"
      },
      "execution_count": 9,
      "outputs": [
        {
          "output_type": "stream",
          "name": "stdout",
          "text": [
            "Original Tensor (float32): [ True False  True]\n",
            "Casted Tensor (int32): [1 0 1]\n"
          ]
        }
      ]
    },
    {
      "cell_type": "markdown",
      "source": [
        "**tf.einsum**"
      ],
      "metadata": {
        "id": "26bgaLr2n2-4"
      }
    },
    {
      "cell_type": "markdown",
      "source": [
        "tf.einsum is a TensorFlow function that provides a flexible and concise way to specify operations involving tensors using Einstein summation convention. This convention allows you to define a wide range of linear algebraic operations, including matrix multiplication, contraction, and other element-wise operations."
      ],
      "metadata": {
        "id": "csfjLl8Dn6OY"
      }
    },
    {
      "cell_type": "code",
      "source": [
        "# Example with tf.einsum\n",
        "tensor_a = tf.constant([[1, 2], [3, 4]])\n",
        "tensor_b = tf.constant([[5, 6], [7, 8]])\n",
        "\n",
        "# Perform matrix multiplication using einsum\n",
        "result = tf.einsum('ij,jk->ik', tensor_a, tensor_b)\n",
        "\n",
        "# Display the original tensors and the result of the einsum operation\n",
        "print(\"Tensor A:\")\n",
        "print(tensor_a.numpy())\n",
        "print(\"\\nTensor B:\")\n",
        "print(tensor_b.numpy())\n",
        "print(\"\\nResult of einsum operation:\")\n",
        "print(result.numpy())"
      ],
      "metadata": {
        "colab": {
          "base_uri": "https://localhost:8080/"
        },
        "id": "7-Cxf_qHn5En",
        "outputId": "e3c69e58-e547-48bd-e662-c2e3c5ba2bf4"
      },
      "execution_count": 10,
      "outputs": [
        {
          "output_type": "stream",
          "name": "stdout",
          "text": [
            "Tensor A:\n",
            "[[1 2]\n",
            " [3 4]]\n",
            "\n",
            "Tensor B:\n",
            "[[5 6]\n",
            " [7 8]]\n",
            "\n",
            "Result of einsum operation:\n",
            "[[19 22]\n",
            " [43 50]]\n"
          ]
        }
      ]
    },
    {
      "cell_type": "markdown",
      "source": [
        "# **III. Tensorflow dataset**"
      ],
      "metadata": {
        "id": "O-DaJQnIomvo"
      }
    },
    {
      "cell_type": "markdown",
      "source": [
        "**tf.data** is a module in TensorFlow that provides a set of tools for building efficient and scalable input pipelines for machine learning models. It's designed to handle large datasets and optimize data loading and preprocessing."
      ],
      "metadata": {
        "id": "ckeeHInFqI2T"
      }
    },
    {
      "cell_type": "markdown",
      "source": [
        "## **1. tf.data.Dataset**"
      ],
      "metadata": {
        "id": "Kp--YET6vxiI"
      }
    },
    {
      "cell_type": "markdown",
      "source": [
        "**Dataset Creation:** The tf.data.Dataset API is used to represent a sequence of data elements. It can be created from various data sources such as NumPy arrays, TensorFlow tensors, text files, CSV files, or any custom data source."
      ],
      "metadata": {
        "id": "KfPF0Rfqv1ea"
      }
    },
    {
      "cell_type": "code",
      "source": [
        "import tensorflow as tf\n",
        "\n",
        "# Create a dataset from a list\n",
        "dataset = tf.data.Dataset.from_tensor_slices([1, 2, 3, 4, 5])\n",
        "print(dataset)"
      ],
      "metadata": {
        "colab": {
          "base_uri": "https://localhost:8080/"
        },
        "id": "YDaOaCtWv7O3",
        "outputId": "e225384e-8858-426b-df7a-bd26fffa12e3"
      },
      "execution_count": 13,
      "outputs": [
        {
          "output_type": "stream",
          "name": "stdout",
          "text": [
            "<_TensorSliceDataset element_spec=TensorSpec(shape=(), dtype=tf.int32, name=None)>\n"
          ]
        }
      ]
    },
    {
      "cell_type": "code",
      "source": [
        "# Example in supervised learning\n",
        "X = tf.random.normal((10, 5))\n",
        "y = tf.random.normal((10, 1))\n",
        "dataset = tf.data.Dataset.from_tensor_slices((X, y))\n",
        "print(dataset)"
      ],
      "metadata": {
        "colab": {
          "base_uri": "https://localhost:8080/"
        },
        "id": "9NaBPk4qwUt9",
        "outputId": "df829618-b796-42fc-a622-cd09f3be4319"
      },
      "execution_count": 38,
      "outputs": [
        {
          "output_type": "stream",
          "name": "stdout",
          "text": [
            "<_TensorSliceDataset element_spec=(TensorSpec(shape=(5,), dtype=tf.float32, name=None), TensorSpec(shape=(1,), dtype=tf.float32, name=None))>\n"
          ]
        }
      ]
    },
    {
      "cell_type": "markdown",
      "source": [
        "**Transformation:** You can apply various transformations to a dataset, such as map, filter, and batch, to preprocess and shape the data."
      ],
      "metadata": {
        "id": "pYXT_aLvxtNT"
      }
    },
    {
      "cell_type": "code",
      "source": [
        "# Apply transformations\n",
        "def filter_condition(x, y):\n",
        "    return tf.reduce_sum(x) > 0\n",
        "\n",
        "dataset = dataset.map(lambda x, y: (x * 2, y)).filter(filter_condition).batch(2)\n",
        "print(dataset)"
      ],
      "metadata": {
        "colab": {
          "base_uri": "https://localhost:8080/"
        },
        "id": "TwBa73UNxuCv",
        "outputId": "947bf1ff-fb1a-4ab7-bf5c-a945cc4c8973"
      },
      "execution_count": 39,
      "outputs": [
        {
          "output_type": "stream",
          "name": "stdout",
          "text": [
            "<_BatchDataset element_spec=(TensorSpec(shape=(None, 5), dtype=tf.float32, name=None), TensorSpec(shape=(None, 1), dtype=tf.float32, name=None))>\n"
          ]
        }
      ]
    },
    {
      "cell_type": "markdown",
      "source": [
        "## **2. Input Pipeline Optimization**"
      ],
      "metadata": {
        "id": "Qm-SxIhuxKcs"
      }
    },
    {
      "cell_type": "markdown",
      "source": [
        "**Parallel Loading:** tf.data can parallelize data loading, enabling faster data ingestion from storage."
      ],
      "metadata": {
        "id": "O0m9FNMb2sUm"
      }
    },
    {
      "cell_type": "code",
      "source": [
        "import tensorflow as tf\n",
        "\n",
        "def parse_function(serialized_example):\n",
        "    # Define the feature description\n",
        "    feature_description = {\n",
        "        'feature1': tf.io.FixedLenFeature([], tf.int64),\n",
        "        'feature2': tf.io.FixedLenFeature([], tf.float32),\n",
        "        'label': tf.io.FixedLenFeature([], tf.int64),\n",
        "    }\n",
        "\n",
        "    # Parse the example\n",
        "    example = tf.io.parse_single_example(serialized_example, feature_description)\n",
        "\n",
        "    # Extract features and label\n",
        "    feature1 = example['feature1']\n",
        "    feature2 = example['feature2']\n",
        "    label = example['label']\n",
        "\n",
        "    return {'feature1': feature1, 'feature2': feature2}, label\n",
        "\n",
        "# Parallel loading from multiple files\n",
        "files = [\"file1.tfrecord\", \"file2.tfrecord\", \"file3.tfrecord\"]\n",
        "dataset = tf.data.TFRecordDataset(files).map(parse_function)"
      ],
      "metadata": {
        "id": "onsRIhLp3a_7"
      },
      "execution_count": null,
      "outputs": []
    },
    {
      "cell_type": "markdown",
      "source": [
        "**Prefetching:** The prefetch transformation allows the data loader to asynchronously fetch batches while the model is training on the current batch"
      ],
      "metadata": {
        "id": "8Z_x9Lyu3sb3"
      }
    },
    {
      "cell_type": "code",
      "source": [
        "# Prefetching batches\n",
        "dataset = dataset.prefetch(buffer_size=tf.data.AUTOTUNE)"
      ],
      "metadata": {
        "id": "pxGDX6Ex3ulQ"
      },
      "execution_count": null,
      "outputs": []
    },
    {
      "cell_type": "markdown",
      "source": [
        "## **3. Iterator API**"
      ],
      "metadata": {
        "id": "abSr3np44Cba"
      }
    },
    {
      "cell_type": "markdown",
      "source": [
        "**Iterators:** You can use iterators to iterate over the elements of a dataset."
      ],
      "metadata": {
        "id": "w8IOFaFE4Nwm"
      }
    },
    {
      "cell_type": "code",
      "source": [
        "# Create a dataset from a list: drop_remainder remove the rest of dataset if it is lower than the size of batch\n",
        "dataset = tf.data.Dataset.from_tensor_slices([1, 2, 3, 4, 5]).batch(2, drop_remainder=True)\n",
        "\n",
        "# Create an iterator\n",
        "iterator = iter(dataset)\n",
        "\n",
        "# Get the next batch\n",
        "batch = iterator.get_next()\n",
        "print(batch)"
      ],
      "metadata": {
        "colab": {
          "base_uri": "https://localhost:8080/"
        },
        "id": "hnIvVsR24Iis",
        "outputId": "493eab8e-99e4-4326-b625-cfa9e4305a21"
      },
      "execution_count": 40,
      "outputs": [
        {
          "output_type": "stream",
          "name": "stdout",
          "text": [
            "tf.Tensor([1 2], shape=(2,), dtype=int32)\n"
          ]
        }
      ]
    },
    {
      "cell_type": "markdown",
      "source": [
        "## **Conclusion**"
      ],
      "metadata": {
        "id": "UBJJMNCF5D8y"
      }
    },
    {
      "cell_type": "markdown",
      "source": [
        "The tf.data module is a powerful tool for efficiently handling and preprocessing data for machine learning models. It allows for a declarative and efficient specification of data pipelines, which is crucial for training models on large datasets."
      ],
      "metadata": {
        "id": "Y0l073ZJ5AtD"
      }
    }
  ]
}
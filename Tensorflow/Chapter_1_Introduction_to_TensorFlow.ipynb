{
  "nbformat": 4,
  "nbformat_minor": 0,
  "metadata": {
    "colab": {
      "provenance": []
    },
    "kernelspec": {
      "name": "python3",
      "display_name": "Python 3"
    },
    "language_info": {
      "name": "python"
    }
  },
  "cells": [
    {
      "cell_type": "markdown",
      "source": [
        "# **What is Tensorflow?**"
      ],
      "metadata": {
        "id": "WiSHMCraEvyw"
      }
    },
    {
      "cell_type": "markdown",
      "source": [
        "TensorFlow is an open-source machine learning library developed by the Google Brain team. It is designed to facilitate the development and training of machine learning models, particularly deep learning models. TensorFlow provides a comprehensive ecosystem of tools, libraries, and community resources to support various machine learning tasks."
      ],
      "metadata": {
        "id": "YnGfU14KE4w_"
      }
    },
    {
      "cell_type": "markdown",
      "source": [
        "# **Key Features of TensorFlow**"
      ],
      "metadata": {
        "id": "LIs0r72rFPOi"
      }
    },
    {
      "cell_type": "markdown",
      "source": [
        "**Flexibility:** TensorFlow is versatile and can be used for a wide range of machine learning applications, including image and speech recognition, natural language processing, and more.\n",
        "\n",
        "**Scalability:** TensorFlow supports distributed computing, allowing users to train models on multiple GPUs or across multiple machines.\n",
        "\n",
        "**High-level APIs:** TensorFlow offers high-level APIs like Keras, which simplifies the process of building and training deep learning models.\n",
        "\n",
        "**TensorBoard:** TensorFlow includes TensorBoard, a powerful visualization tool that helps users understand, debug, and optimize machine learning models.\n",
        "\n",
        "**Community Support:** TensorFlow has a large and active community, providing a wealth of tutorials, documentation, and pre-trained models."
      ],
      "metadata": {
        "id": "DkPuT5GhFs89"
      }
    },
    {
      "cell_type": "markdown",
      "source": [
        "# **Versions of TensorFlow**"
      ],
      "metadata": {
        "id": "8kBgw8TPGbOY"
      }
    },
    {
      "cell_type": "markdown",
      "source": [
        "**TensorFlow 1.x:**\n",
        "  * Older version with a static computation graph.\n",
        "  * Requires more boilerplate code for model construction.\n",
        "  * Debugging can be challenging.\n",
        "\n",
        "**TensorFlow 2.x:**\n",
        "  * Introduced eager execution, making it more intuitive and user-friendly.\n",
        "  * Dynamic computation graph, making debugging easier.\n",
        "  * Integration of Keras as the official high-level API."
      ],
      "metadata": {
        "id": "uaqiqTV2GceA"
      }
    },
    {
      "cell_type": "markdown",
      "source": [
        "# **Installation and Setup**"
      ],
      "metadata": {
        "id": "HDdBS8kNG7oI"
      }
    },
    {
      "cell_type": "markdown",
      "source": [
        "To install TensorFlow, you can use pip:"
      ],
      "metadata": {
        "id": "J7cULSc_G-Zj"
      }
    },
    {
      "cell_type": "code",
      "source": [
        "! pip install tensorflow"
      ],
      "metadata": {
        "id": "nL1UvkjpG9Wc"
      },
      "execution_count": null,
      "outputs": []
    },
    {
      "cell_type": "markdown",
      "source": [
        "For GPU support"
      ],
      "metadata": {
        "id": "ddF5CS7OHFBR"
      }
    },
    {
      "cell_type": "code",
      "source": [
        "! pip install tensorflow-gpu"
      ],
      "metadata": {
        "id": "blRFDGdyHGPw"
      },
      "execution_count": null,
      "outputs": []
    },
    {
      "cell_type": "markdown",
      "source": [
        "You can verify the installation by running a simple Python script:"
      ],
      "metadata": {
        "id": "ah9VrxCaHYtu"
      }
    },
    {
      "cell_type": "code",
      "source": [
        "import tensorflow as tf\n",
        "\n",
        "print(\"TensorFlow version:\", tf.__version__)"
      ],
      "metadata": {
        "colab": {
          "base_uri": "https://localhost:8080/"
        },
        "id": "sNtG1Y_nHbKN",
        "outputId": "7a7f4de2-6ce6-45d5-fd47-2fc8cc7131df"
      },
      "execution_count": 1,
      "outputs": [
        {
          "output_type": "stream",
          "name": "stdout",
          "text": [
            "TensorFlow version: 2.14.0\n"
          ]
        }
      ]
    },
    {
      "cell_type": "markdown",
      "source": [
        "# **Basic TensorFlow Concepts**"
      ],
      "metadata": {
        "id": "4tnXkFM_HetK"
      }
    },
    {
      "cell_type": "markdown",
      "source": [
        "Tensors\n",
        "\n",
        "In TensorFlow, tensors are multi-dimensional arrays used to represent data. They can have different ranks, such as scalars (rank 0), vectors (rank 1), matrices (rank 2), and higher-dimensional arrays."
      ],
      "metadata": {
        "id": "xcMuvMMeHlkJ"
      }
    },
    {
      "cell_type": "code",
      "source": [
        "# Creating tensors\n",
        "scalar = tf.constant(3)\n",
        "vector = tf.constant([1, 2, 3])\n",
        "matrix = tf.constant([[1, 2, 3], [4, 5, 6]])"
      ],
      "metadata": {
        "id": "hhQ8sOcWHkJ6"
      },
      "execution_count": 2,
      "outputs": []
    },
    {
      "cell_type": "markdown",
      "source": [
        "Operations\n",
        "\n",
        "TensorFlow operations define computations on tensors. These can be basic mathematical operations or more complex operations used in neural networks."
      ],
      "metadata": {
        "id": "lS6zUkQeIMcH"
      }
    },
    {
      "cell_type": "code",
      "source": [
        "# Tensor operations\n",
        "sum_result = tf.add(vector, vector)\n",
        "matrix_product = tf.matmul(matrix, tf.transpose(matrix))\n",
        "print(f\"Sum of vectors: {sum_result}\")\n",
        "print(f\"Matrix product: {matrix_product}\")"
      ],
      "metadata": {
        "id": "XgVg231sIOpN"
      },
      "execution_count": null,
      "outputs": []
    },
    {
      "cell_type": "markdown",
      "source": [
        "Graphs\n",
        "\n",
        "TensorFlow uses computational graphs to represent the flow of data and operations in a model. In TensorFlow 2.x, eager execution is enabled by default, but understanding graphs is still important for optimization and deployment."
      ],
      "metadata": {
        "id": "b36F84NdIUot"
      }
    },
    {
      "cell_type": "code",
      "source": [
        "# Creating a simple graph\n",
        "@tf.function\n",
        "def simple_function(x):\n",
        "    return x * 2\n",
        "\n",
        "result = simple_function(3)\n",
        "print(result)"
      ],
      "metadata": {
        "colab": {
          "base_uri": "https://localhost:8080/"
        },
        "id": "HyQK9KECIX6k",
        "outputId": "7d5b208c-80cb-4cfc-a46d-e96a8ff5ddfc"
      },
      "execution_count": 4,
      "outputs": [
        {
          "output_type": "stream",
          "name": "stdout",
          "text": [
            "tf.Tensor(6, shape=(), dtype=int32)\n"
          ]
        }
      ]
    },
    {
      "cell_type": "markdown",
      "source": [
        "# **Conclusion**"
      ],
      "metadata": {
        "id": "QhjJdyuzIwWV"
      }
    },
    {
      "cell_type": "markdown",
      "source": [
        "This chapter provided a detailed overview of TensorFlow, including its key features, versions, installation, and basic concepts. In the subsequent chapters, we will explore more advanced topics, delve into practical examples, and demonstrate the capabilities of TensorFlow 2.x in building and training machine learning models."
      ],
      "metadata": {
        "id": "AeJ0csp0I6TX"
      }
    }
  ]
}
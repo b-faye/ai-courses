{
  "nbformat": 4,
  "nbformat_minor": 0,
  "metadata": {
    "colab": {
      "provenance": []
    },
    "kernelspec": {
      "name": "python3",
      "display_name": "Python 3"
    },
    "language_info": {
      "name": "python"
    }
  },
  "cells": [
    {
      "cell_type": "markdown",
      "source": [
        "**<h2>Introduction to Neural Networks</h2>**\n",
        "\n",
        "Neural networks are a class of machine learning algorithms designed to recognize patterns. They are composed of layers of interconnected nodes, called neurons, which are inspired by biological neurons in the human brain.\n"
      ],
      "metadata": {
        "id": "qkKOcd8uwhEJ"
      }
    },
    {
      "cell_type": "markdown",
      "source": [
        "**<h2>Key Concepts</h2>**\n",
        "\n",
        "- **Neurons:** Fundamental units in a neural network that receive input, process it, and pass it on to the next layer.\n",
        "- **Layers:** Groups of neurons. Common types include:\n",
        "  - **Input Layer:** The first layer that receives the input data.\n",
        "  - **Hidden Layers:** Intermediate layers that process inputs from the input layer.\n",
        "  - **Output Layer:** The final layer that produces the output.\n",
        "- **Weights and Biases:** Parameters adjusted during training to minimize the error in the network's predictions.\n",
        "- **Activation Functions:** Functions that determine the output of neurons by introducing non-linearity.\n",
        "\n"
      ],
      "metadata": {
        "id": "-YfTjSr2wrOQ"
      }
    },
    {
      "cell_type": "markdown",
      "source": [
        "**<h2>Creating a Simple Neural Network</h2>**\n",
        "\n",
        "Let's build a simple neural network using TensorFlow and the Keras API. We'll start by importing the necessary libraries.\n"
      ],
      "metadata": {
        "id": "oA2mrcALw2id"
      }
    },
    {
      "cell_type": "markdown",
      "source": [
        "**Step 1: Import Libraries**"
      ],
      "metadata": {
        "id": "f9PvXOhAw-BI"
      }
    },
    {
      "cell_type": "code",
      "source": [
        "import tensorflow as tf\n",
        "from tensorflow.keras.models import Sequential\n",
        "from tensorflow.keras.layers import Dense\n",
        "from tensorflow.keras.losses import BinaryCrossentropy, MeanSquaredError\n",
        "from tensorflow.keras.optimizers import Adam\n",
        "from tensorflow.keras.metrics import Accuracy, MeanAbsoluteError"
      ],
      "metadata": {
        "id": "D1KLu4cZxIor"
      },
      "execution_count": 2,
      "outputs": []
    },
    {
      "cell_type": "markdown",
      "source": [
        "**Step 2: Define the Model**\n",
        "\n",
        "We'll create a simple feedforward neural network with one hidden layer."
      ],
      "metadata": {
        "id": "a2scKoRUxO7k"
      }
    },
    {
      "cell_type": "code",
      "source": [
        "######### METHOD 1 ###########\n",
        "\n",
        "# Define the model\n",
        "model = Sequential()\n",
        "\n",
        "# Input layer and first hidden layer\n",
        "model.add(Dense(units=10, input_shape=(8,), activation='relu'))\n",
        "\n",
        "# Output layer\n",
        "model.add(Dense(units=1, activation='sigmoid'))"
      ],
      "metadata": {
        "id": "WswVdGF6xR04"
      },
      "execution_count": null,
      "outputs": []
    },
    {
      "cell_type": "code",
      "source": [
        "######### METHOD 2 ###########\n",
        "\n",
        "# Define the model\n",
        "input = tf.keras.Input(shape=(8,))\n",
        "hidden = Dense(10, activation='relu')(input)\n",
        "output = Dense(1, activation='sigmoid')(hidden)\n",
        "model = tf.keras.Model(inputs=input, outputs=output)"
      ],
      "metadata": {
        "id": "W-MdWvozyT7P"
      },
      "execution_count": null,
      "outputs": []
    },
    {
      "cell_type": "markdown",
      "source": [
        "**Activation Functions**\n",
        "\n",
        "Activation functions introduce non-linearity into the network, enabling it to learn complex patterns. Here are some common activation functions:\n",
        "\n",
        "- ReLU (Rectified Linear Unit): $f(x) = max(0, x)$\n",
        "- Sigmoid: $f(x) = 1 / (1 + \\exp(-x))$\n",
        "- Tanh: $f(x) = tanh(x)$\n",
        "- Softmax: Often used in the output layer for classification tasks.\n",
        "\n"
      ],
      "metadata": {
        "id": "ZC9imd8-yBA8"
      }
    },
    {
      "cell_type": "markdown",
      "source": [
        "**Step 3: Compile the Model**\n",
        "\n",
        "Compilation involves specifying the loss function, the optimizer, and any metrics we want to monitor."
      ],
      "metadata": {
        "id": "eKVLHoAwxZKj"
      }
    },
    {
      "cell_type": "code",
      "source": [
        "# Compile the model\n",
        "model.compile(optimizer=Adam(),\n",
        "              loss=BinaryCrossentropy(),\n",
        "              metrics=[Accuracy()])"
      ],
      "metadata": {
        "id": "t-2RkUMzxe-u"
      },
      "execution_count": null,
      "outputs": []
    },
    {
      "cell_type": "markdown",
      "source": [
        "**Loss Functions**\n",
        "\n",
        "Loss functions measure how well the model's predictions match the actual data. TensorFlow provides several loss functions under tf.keras.losses.\n",
        "Common Loss Functions\n",
        "\n",
        "- Mean Squared Error (MSE): Used for regression tasks.\n",
        "- Binary Crossentropy: Used for binary classification tasks.\n",
        "- Categorical Crossentropy (one-hot encoding) or sparse categorical crossentropy: Used for multi-class classification tasks."
      ],
      "metadata": {
        "id": "gRwJycKTxtUX"
      }
    },
    {
      "cell_type": "markdown",
      "source": [
        "**MSE example**"
      ],
      "metadata": {
        "id": "cTotzUOZ1R-a"
      }
    },
    {
      "cell_type": "code",
      "source": [
        "model_outputs = tf.constant([[0.1], [0.2], [0.3]])\n",
        "expected_outputs = tf.constant([[0.9], [0.8], [0.7]])\n",
        "print(model_outputs.shape)"
      ],
      "metadata": {
        "colab": {
          "base_uri": "https://localhost:8080/"
        },
        "id": "Iwk6vqv_zb79",
        "outputId": "2a9ebee8-7c50-4745-acaa-f63f85f0581d"
      },
      "execution_count": 4,
      "outputs": [
        {
          "output_type": "stream",
          "name": "stdout",
          "text": [
            "(3, 1)\n"
          ]
        }
      ]
    },
    {
      "cell_type": "code",
      "source": [
        "mse = MeanSquaredError(reduction=\"sum_over_batch_size\")\n",
        "mse(expected_outputs, model_outputs)"
      ],
      "metadata": {
        "colab": {
          "base_uri": "https://localhost:8080/"
        },
        "id": "mt_b_n3v0Qfx",
        "outputId": "7b9850bb-fa4d-414b-a99d-222d195dc308"
      },
      "execution_count": 14,
      "outputs": [
        {
          "output_type": "execute_result",
          "data": {
            "text/plain": [
              "<tf.Tensor: shape=(), dtype=float32, numpy=0.38666666>"
            ]
          },
          "metadata": {},
          "execution_count": 14
        }
      ]
    },
    {
      "cell_type": "code",
      "source": [
        "mse = MeanSquaredError(reduction=\"auto\")\n",
        "mse(expected_outputs, model_outputs)"
      ],
      "metadata": {
        "colab": {
          "base_uri": "https://localhost:8080/"
        },
        "id": "iLZ7AnnT00Ln",
        "outputId": "9add7532-e897-40cd-bb4d-3c879ec1cf04"
      },
      "execution_count": 10,
      "outputs": [
        {
          "output_type": "execute_result",
          "data": {
            "text/plain": [
              "<tf.Tensor: shape=(), dtype=float32, numpy=0.38666666>"
            ]
          },
          "metadata": {},
          "execution_count": 10
        }
      ]
    },
    {
      "cell_type": "code",
      "source": [
        "mse = MeanSquaredError(reduction=\"none\")\n",
        "mse(expected_outputs, model_outputs)"
      ],
      "metadata": {
        "colab": {
          "base_uri": "https://localhost:8080/"
        },
        "id": "qK2Lgtxf0WXf",
        "outputId": "7b30587a-7251-4137-c208-5abda3482759"
      },
      "execution_count": 7,
      "outputs": [
        {
          "output_type": "execute_result",
          "data": {
            "text/plain": [
              "<tf.Tensor: shape=(3,), dtype=float32, numpy=array([0.6399999 , 0.36      , 0.15999998], dtype=float32)>"
            ]
          },
          "metadata": {},
          "execution_count": 7
        }
      ]
    },
    {
      "cell_type": "code",
      "source": [
        "# sum_over_batch_size = 1/N * sum\n",
        "mse = MeanSquaredError(reduction=\"sum\")\n",
        "mse(expected_outputs, model_outputs)"
      ],
      "metadata": {
        "colab": {
          "base_uri": "https://localhost:8080/"
        },
        "id": "lY7uqJSQ03Nv",
        "outputId": "ba571be3-3656-4a58-a37c-7da5bb964325"
      },
      "execution_count": 16,
      "outputs": [
        {
          "output_type": "execute_result",
          "data": {
            "text/plain": [
              "<tf.Tensor: shape=(), dtype=float32, numpy=1.16>"
            ]
          },
          "metadata": {},
          "execution_count": 16
        }
      ]
    },
    {
      "cell_type": "markdown",
      "source": [
        "**Binary Crossentropy Example**"
      ],
      "metadata": {
        "id": "3b0ZbMb713ae"
      }
    },
    {
      "cell_type": "code",
      "source": [
        "model_outputs = tf.constant([[2.3], [3.2], [1.7]])\n",
        "expected_outputs = tf.constant([[0], [0], [1]])\n",
        "print(model_outputs.shape)"
      ],
      "metadata": {
        "colab": {
          "base_uri": "https://localhost:8080/"
        },
        "id": "wasfq4BZ17Gi",
        "outputId": "46f44bf8-0fc7-4d58-a212-eeb01870de6a"
      },
      "execution_count": 17,
      "outputs": [
        {
          "output_type": "stream",
          "name": "stdout",
          "text": [
            "(3, 1)\n"
          ]
        }
      ]
    },
    {
      "cell_type": "code",
      "source": [
        "# If sigmoid is used in layer, from_logits = False\n",
        "\n",
        "binary_crossentropy = BinaryCrossentropy(from_logits=True, reduction=\"sum_over_batch_size\")\n",
        "binary_crossentropy(expected_outputs, model_outputs)"
      ],
      "metadata": {
        "colab": {
          "base_uri": "https://localhost:8080/"
        },
        "id": "UYqasLDY2IHf",
        "outputId": "fac7955f-6e00-48a9-e888-bee31ab23c8f"
      },
      "execution_count": 18,
      "outputs": [
        {
          "output_type": "execute_result",
          "data": {
            "text/plain": [
              "<tf.Tensor: shape=(), dtype=float32, numpy=1.9344283>"
            ]
          },
          "metadata": {},
          "execution_count": 18
        }
      ]
    },
    {
      "cell_type": "code",
      "source": [
        "binary_crossentropy = BinaryCrossentropy(from_logits=True, reduction=\"none\")\n",
        "binary_crossentropy(expected_outputs, model_outputs)"
      ],
      "metadata": {
        "colab": {
          "base_uri": "https://localhost:8080/"
        },
        "id": "e_IyKh762lF8",
        "outputId": "abd47420-1c38-46e1-adbe-edc4264d804e"
      },
      "execution_count": 19,
      "outputs": [
        {
          "output_type": "execute_result",
          "data": {
            "text/plain": [
              "<tf.Tensor: shape=(3,), dtype=float32, numpy=array([2.3955455 , 3.2399533 , 0.16778602], dtype=float32)>"
            ]
          },
          "metadata": {},
          "execution_count": 19
        }
      ]
    },
    {
      "cell_type": "code",
      "source": [
        "binary_crossentropy = BinaryCrossentropy(from_logits=True, reduction=\"sum\")\n",
        "binary_crossentropy(expected_outputs, model_outputs)"
      ],
      "metadata": {
        "colab": {
          "base_uri": "https://localhost:8080/"
        },
        "id": "8Rxb9os22qst",
        "outputId": "f711ab68-8fb1-4417-8c7c-871ae9957490"
      },
      "execution_count": 20,
      "outputs": [
        {
          "output_type": "execute_result",
          "data": {
            "text/plain": [
              "<tf.Tensor: shape=(), dtype=float32, numpy=5.803285>"
            ]
          },
          "metadata": {},
          "execution_count": 20
        }
      ]
    },
    {
      "cell_type": "markdown",
      "source": [
        "**Categorical Crossentropy**"
      ],
      "metadata": {
        "id": "M-prq4d_3Bbf"
      }
    },
    {
      "cell_type": "code",
      "source": [
        "model_outputs = tf.constant([[2.3, 2.5, 2.6], [3.2, 3.9, 2.1], [1.7, 0.9, 1.2]])\n",
        "expected_outputs = tf.constant([[1, 0, 0], [0, 1, 0], [0, 0, 1]])\n",
        "print(model_outputs.shape)"
      ],
      "metadata": {
        "colab": {
          "base_uri": "https://localhost:8080/"
        },
        "id": "LBsv3Nbn3Ccn",
        "outputId": "834f8e58-e4f6-4cf5-f78b-71e4c0fe60b1"
      },
      "execution_count": 26,
      "outputs": [
        {
          "output_type": "stream",
          "name": "stdout",
          "text": [
            "(3, 3)\n"
          ]
        }
      ]
    },
    {
      "cell_type": "code",
      "source": [
        "categorical_crossentropy = tf.keras.losses.CategoricalCrossentropy(from_logits=True, reduction=\"sum_over_batch_size\")\n",
        "categorical_crossentropy(expected_outputs, model_outputs)"
      ],
      "metadata": {
        "colab": {
          "base_uri": "https://localhost:8080/"
        },
        "id": "5UQaAeAU3mFa",
        "outputId": "19c20b2f-1849-4156-aa47-bed7257c1a6b"
      },
      "execution_count": 27,
      "outputs": [
        {
          "output_type": "execute_result",
          "data": {
            "text/plain": [
              "<tf.Tensor: shape=(), dtype=float32, numpy=1.0005217>"
            ]
          },
          "metadata": {},
          "execution_count": 27
        }
      ]
    },
    {
      "cell_type": "code",
      "source": [
        "categorical_crossentropy = tf.keras.losses.CategoricalCrossentropy(from_logits=True, reduction=\"none\")\n",
        "categorical_crossentropy(expected_outputs, model_outputs)"
      ],
      "metadata": {
        "colab": {
          "base_uri": "https://localhost:8080/"
        },
        "id": "VlSv8zwf4NO6",
        "outputId": "be3da08f-7e29-4dfb-ac33-8b710a7ec559"
      },
      "execution_count": 28,
      "outputs": [
        {
          "output_type": "execute_result",
          "data": {
            "text/plain": [
              "<tf.Tensor: shape=(3,), dtype=float32, numpy=array([1.2729189, 0.5079519, 1.2206941], dtype=float32)>"
            ]
          },
          "metadata": {},
          "execution_count": 28
        }
      ]
    },
    {
      "cell_type": "code",
      "source": [
        "categorical_crossentropy = tf.keras.losses.CategoricalCrossentropy(from_logits=True, reduction=\"sum\")\n",
        "categorical_crossentropy(expected_outputs, model_outputs)"
      ],
      "metadata": {
        "colab": {
          "base_uri": "https://localhost:8080/"
        },
        "id": "30-GUu624W6j",
        "outputId": "e9c6bf2b-bef9-4e27-b936-825d3562d966"
      },
      "execution_count": 29,
      "outputs": [
        {
          "output_type": "execute_result",
          "data": {
            "text/plain": [
              "<tf.Tensor: shape=(), dtype=float32, numpy=3.001565>"
            ]
          },
          "metadata": {},
          "execution_count": 29
        }
      ]
    },
    {
      "cell_type": "markdown",
      "source": [
        "**Sparse Categorical Crossentropy**"
      ],
      "metadata": {
        "id": "_9VG9Ivp4gn6"
      }
    },
    {
      "cell_type": "code",
      "source": [
        "model_outputs = tf.constant([[2.3, 2.5, 2.6], [3.2, 3.9, 2.1], [1.7, 0.9, 1.2]])\n",
        "expected_outputs = tf.constant([[0], [1], [2]])\n",
        "print(model_outputs.shape)"
      ],
      "metadata": {
        "colab": {
          "base_uri": "https://localhost:8080/"
        },
        "id": "LkXpHTdi4jj4",
        "outputId": "4e326f96-1aae-4953-e2c7-56b39cf49b28"
      },
      "execution_count": 30,
      "outputs": [
        {
          "output_type": "stream",
          "name": "stdout",
          "text": [
            "(3, 3)\n"
          ]
        }
      ]
    },
    {
      "cell_type": "code",
      "source": [
        "sparse_categorical_crossentropy = tf.keras.losses.SparseCategoricalCrossentropy(from_logits=True, reduction=\"sum_over_batch_size\")\n",
        "sparse_categorical_crossentropy(expected_outputs, model_outputs)"
      ],
      "metadata": {
        "colab": {
          "base_uri": "https://localhost:8080/"
        },
        "id": "1JMDf-gZ4qlT",
        "outputId": "2d4fe661-833f-486a-c4ce-b104226ff853"
      },
      "execution_count": 32,
      "outputs": [
        {
          "output_type": "execute_result",
          "data": {
            "text/plain": [
              "<tf.Tensor: shape=(), dtype=float32, numpy=1.0005217>"
            ]
          },
          "metadata": {},
          "execution_count": 32
        }
      ]
    },
    {
      "cell_type": "code",
      "source": [
        "sparse_categorical_crossentropy = tf.keras.losses.SparseCategoricalCrossentropy(from_logits=True, reduction=\"none\")\n",
        "sparse_categorical_crossentropy(expected_outputs, model_outputs)"
      ],
      "metadata": {
        "colab": {
          "base_uri": "https://localhost:8080/"
        },
        "id": "Wm1sZLtx412w",
        "outputId": "15027be3-479b-4caa-dccc-1fee5a1c5485"
      },
      "execution_count": 33,
      "outputs": [
        {
          "output_type": "execute_result",
          "data": {
            "text/plain": [
              "<tf.Tensor: shape=(3,), dtype=float32, numpy=array([1.2729189, 0.5079519, 1.2206941], dtype=float32)>"
            ]
          },
          "metadata": {},
          "execution_count": 33
        }
      ]
    },
    {
      "cell_type": "code",
      "source": [
        "sparse_categorical_crossentropy = tf.keras.losses.SparseCategoricalCrossentropy(from_logits=True, reduction=\"sum\")\n",
        "sparse_categorical_crossentropy(expected_outputs, model_outputs)"
      ],
      "metadata": {
        "colab": {
          "base_uri": "https://localhost:8080/"
        },
        "id": "HsF9C8jd45D8",
        "outputId": "409e596f-76fc-4c7f-b48e-3e4f7d47eb73"
      },
      "execution_count": 34,
      "outputs": [
        {
          "output_type": "execute_result",
          "data": {
            "text/plain": [
              "<tf.Tensor: shape=(), dtype=float32, numpy=3.001565>"
            ]
          },
          "metadata": {},
          "execution_count": 34
        }
      ]
    },
    {
      "cell_type": "markdown",
      "source": [
        "**Sparse Categorical Crossentropy in Machine Translation**"
      ],
      "metadata": {
        "id": "hctFURLy5BcR"
      }
    },
    {
      "cell_type": "code",
      "source": [
        "model_outputs = tf.constant([[[2.3, 2.5, 2.6], [3.3, 3.5, 2.4], [2.2, 2.2, 2.0]], [[3.2, 3.9, 2.1], [3.2, 3.9, 2.1], [3.2, 3.9, 2.1]], [[1.7, 0.9, 1.2], [1.7, 0.9, 1.2], [1.7, 0.9, 1.2]]])\n",
        "expected_outputs = tf.constant([[0, 2, 1], [1, 1, 0], [2, 2, 2]])\n",
        "print(model_outputs.shape)"
      ],
      "metadata": {
        "colab": {
          "base_uri": "https://localhost:8080/"
        },
        "id": "eFB-kVLK5T-Q",
        "outputId": "d4454d15-8139-427b-b4b1-54fa140ec4d3"
      },
      "execution_count": 35,
      "outputs": [
        {
          "output_type": "stream",
          "name": "stdout",
          "text": [
            "(3, 3, 3)\n"
          ]
        }
      ]
    },
    {
      "cell_type": "code",
      "source": [
        "sparse_categorical_crossentropy = tf.keras.losses.SparseCategoricalCrossentropy(from_logits=True, reduction=\"sum_over_batch_size\")\n",
        "sparse_categorical_crossentropy(expected_outputs, model_outputs)"
      ],
      "metadata": {
        "colab": {
          "base_uri": "https://localhost:8080/"
        },
        "id": "4c84KxvO6FyN",
        "outputId": "f6a59141-d2a9-4625-d614-1b9801960642"
      },
      "execution_count": 37,
      "outputs": [
        {
          "output_type": "execute_result",
          "data": {
            "text/plain": [
              "<tf.Tensor: shape=(), dtype=float32, numpy=1.1179284>"
            ]
          },
          "metadata": {},
          "execution_count": 37
        }
      ]
    },
    {
      "cell_type": "code",
      "source": [
        "sparse_categorical_crossentropy = tf.keras.losses.SparseCategoricalCrossentropy(from_logits=True, reduction=\"none\")\n",
        "sparse_categorical_crossentropy(expected_outputs, model_outputs)"
      ],
      "metadata": {
        "colab": {
          "base_uri": "https://localhost:8080/"
        },
        "id": "wgLwUFhn6Cpy",
        "outputId": "dc181f71-f94d-490d-f2ae-24607c2ef4e6"
      },
      "execution_count": 36,
      "outputs": [
        {
          "output_type": "execute_result",
          "data": {
            "text/plain": [
              "<tf.Tensor: shape=(3, 3), dtype=float32, numpy=\n",
              "array([[1.2729189, 1.8662125, 1.0362867],\n",
              "       [0.5079519, 0.5079519, 1.207952 ],\n",
              "       [1.2206941, 1.2206941, 1.2206941]], dtype=float32)>"
            ]
          },
          "metadata": {},
          "execution_count": 36
        }
      ]
    },
    {
      "cell_type": "code",
      "source": [
        "sparse_categorical_crossentropy = tf.keras.losses.SparseCategoricalCrossentropy(from_logits=True, reduction=\"sum\")\n",
        "sparse_categorical_crossentropy(expected_outputs, model_outputs)"
      ],
      "metadata": {
        "colab": {
          "base_uri": "https://localhost:8080/"
        },
        "id": "oftk1uL96OR-",
        "outputId": "df05610e-7c38-47f4-8f24-4ef1283bd850"
      },
      "execution_count": 38,
      "outputs": [
        {
          "output_type": "execute_result",
          "data": {
            "text/plain": [
              "<tf.Tensor: shape=(), dtype=float32, numpy=10.061356>"
            ]
          },
          "metadata": {},
          "execution_count": 38
        }
      ]
    },
    {
      "cell_type": "code",
      "source": [
        "10.061356 / (model_outputs.shape[0]*model_outputs.shape[1])"
      ],
      "metadata": {
        "colab": {
          "base_uri": "https://localhost:8080/"
        },
        "id": "0YJcCF7O6S7t",
        "outputId": "d98e442c-ab8f-4bd8-efed-c20c4b656ba5"
      },
      "execution_count": 42,
      "outputs": [
        {
          "output_type": "execute_result",
          "data": {
            "text/plain": [
              "1.1179284444444444"
            ]
          },
          "metadata": {},
          "execution_count": 42
        }
      ]
    },
    {
      "cell_type": "markdown",
      "source": [
        "**Optimizers**\n",
        "\n",
        "Optimizers adjust the weights of the neural network to minimize the loss function. TensorFlow provides various optimizers under tf.keras.optimizers.\n",
        "Common Optimizers\n",
        "\n",
        "- SGD (Stochastic Gradient Descent): Basic optimizer.\n",
        "- Adam: Adaptive Moment Estimation, combines the benefits of two other extensions of stochastic gradient descent."
      ],
      "metadata": {
        "id": "6uJXCDRMvK00"
      }
    },
    {
      "cell_type": "code",
      "source": [
        "# Stochastic Gradient Descent\n",
        "sgd = tf.keras.optimizers.SGD(learning_rate=0.01)\n",
        "\n",
        "# Adam Optimizer\n",
        "adam = tf.keras.optimizers.Adam(learning_rate=0.001)"
      ],
      "metadata": {
        "id": "dLwvFoqbvcY-"
      },
      "execution_count": null,
      "outputs": []
    },
    {
      "cell_type": "markdown",
      "source": [
        "**<h2>Training the Model</h2>**\n",
        "\n",
        "Let's train the model using some dummy data. We'll generate random data for demonstration purposes."
      ],
      "metadata": {
        "id": "W_bv9g3Qv5rM"
      }
    },
    {
      "cell_type": "code",
      "source": [
        "import numpy as np\n",
        "\n",
        "# Generate dummy data\n",
        "X_train = np.random.random((1000, 8))\n",
        "y_train = np.random.randint(2, size=(1000, 1))\n",
        "\n",
        "# Compile the model with different metrics and loss functions\n",
        "model.compile(optimizer=Adam(),\n",
        "              loss=BinaryCrossentropy(),\n",
        "              metrics=[Accuracy(), MeanAbsoluteError()])\n",
        "\n",
        "# Train the model\n",
        "model.fit(X_train, y_train, epochs=10, batch_size=32)"
      ],
      "metadata": {
        "id": "TgM5KnOMwNah"
      },
      "execution_count": null,
      "outputs": []
    }
  ]
}
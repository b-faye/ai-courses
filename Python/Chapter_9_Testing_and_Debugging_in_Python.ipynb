{
  "nbformat": 4,
  "nbformat_minor": 0,
  "metadata": {
    "colab": {
      "provenance": []
    },
    "kernelspec": {
      "name": "python3",
      "display_name": "Python 3"
    },
    "language_info": {
      "name": "python"
    }
  },
  "cells": [
    {
      "cell_type": "markdown",
      "source": [
        "**Plan**\n",
        "\n",
        "1. **Writing and running tests with unittest**\n",
        "\n",
        "2. **Debugging techniques and tools**\n",
        "\n",
        "3. **Best practices for code testing**"
      ],
      "metadata": {
        "id": "JsuVuBWCK13T"
      }
    },
    {
      "cell_type": "markdown",
      "source": [
        "# **1. Writing and running tests with unittest**"
      ],
      "metadata": {
        "id": "X2mkw0t7LJ8v"
      }
    },
    {
      "cell_type": "markdown",
      "source": [
        "Writing and running tests with unittest involves creating automated test cases and executing them using Python's built-in unittest framework to ensure the correctness and robustness of software code."
      ],
      "metadata": {
        "id": "6u6cqW0dM9sN"
      }
    },
    {
      "cell_type": "code",
      "execution_count": 1,
      "metadata": {
        "id": "bGn_4k9jKxhE"
      },
      "outputs": [],
      "source": [
        "# Function to Calculate Factorial\n",
        "def factorial(n):\n",
        "    if n == 0:\n",
        "        return 1\n",
        "    else:\n",
        "        return n * factorial(n - 1)"
      ]
    },
    {
      "cell_type": "code",
      "source": [
        "# Function to Check if a Number is Prime\n",
        "def is_prime(n):\n",
        "    if n <= 1:\n",
        "        return False\n",
        "    for i in range(2, int(n ** 0.5) + 1):\n",
        "        if n % i == 0:\n",
        "            return False\n",
        "    return True"
      ],
      "metadata": {
        "id": "dDEEcd8sN7NL"
      },
      "execution_count": 2,
      "outputs": []
    },
    {
      "cell_type": "code",
      "source": [
        "import unittest\n",
        "\n",
        "class TestFunctions(unittest.TestCase):\n",
        "    def test_factorial(self):\n",
        "        # Test factorial of 0\n",
        "        self.assertEqual(factorial(0), 1)\n",
        "        # Test factorial of positive integers\n",
        "        self.assertEqual(factorial(1), 1)\n",
        "        self.assertEqual(factorial(5), 120)\n",
        "        self.assertEqual(factorial(10), 3628800)\n",
        "\n",
        "    def test_is_prime(self):\n",
        "        # Test prime numbers\n",
        "        self.assertTrue(is_prime(2))\n",
        "        self.assertTrue(is_prime(3))\n",
        "        self.assertTrue(is_prime(5))\n",
        "        self.assertTrue(is_prime(7))\n",
        "        self.assertTrue(is_prime(11))\n",
        "        # Test non-prime numbers\n",
        "        self.assertFalse(is_prime(1))\n",
        "        self.assertFalse(is_prime(4))\n",
        "        self.assertFalse(is_prime(6))\n",
        "        self.assertFalse(is_prime(8))\n",
        "        self.assertFalse(is_prime(9))\n",
        "\n",
        "    def test_factorial_of_negative_number(self):\n",
        "        with self.assertRaises(ValueError):\n",
        "            factorial(-1)\n",
        "\n",
        "if __name__ == '__main__':\n",
        "    unittest.main()"
      ],
      "metadata": {
        "id": "Q9MSjQudOD5M"
      },
      "execution_count": null,
      "outputs": []
    },
    {
      "cell_type": "code",
      "source": [
        "# Create a file test.py and put all functions bellow on the file\n",
        "! touch test.py"
      ],
      "metadata": {
        "id": "aKp_GtkzONaw"
      },
      "execution_count": 4,
      "outputs": []
    },
    {
      "cell_type": "code",
      "source": [
        "# Execute test.py to see, if there are some errors or not\n",
        "! python test.py"
      ],
      "metadata": {
        "colab": {
          "base_uri": "https://localhost:8080/"
        },
        "id": "wImiN_48Ods-",
        "outputId": "7c05de59-1989-484a-9e54-01fedd9dade7"
      },
      "execution_count": 13,
      "outputs": [
        {
          "output_type": "stream",
          "name": "stdout",
          "text": [
            ".E.\n",
            "======================================================================\n",
            "ERROR: test_factorial_of_negative_number (__main__.TestFunctions)\n",
            "----------------------------------------------------------------------\n",
            "Traceback (most recent call last):\n",
            "  File \"/content/test.py\", line 45, in test_factorial_of_negative_number\n",
            "    factorial(-1)\n",
            "  File \"/content/test.py\", line 6, in factorial\n",
            "    return n * factorial(n - 1)\n",
            "  File \"/content/test.py\", line 6, in factorial\n",
            "    return n * factorial(n - 1)\n",
            "  File \"/content/test.py\", line 6, in factorial\n",
            "    return n * factorial(n - 1)\n",
            "  [Previous line repeated 980 more times]\n",
            "  File \"/content/test.py\", line 3, in factorial\n",
            "    if n == 0:\n",
            "RecursionError: maximum recursion depth exceeded in comparison\n",
            "\n",
            "----------------------------------------------------------------------\n",
            "Ran 3 tests in 0.008s\n",
            "\n",
            "FAILED (errors=1)\n"
          ]
        }
      ]
    },
    {
      "cell_type": "markdown",
      "source": [
        "# **2. Debugging techniques and tools**"
      ],
      "metadata": {
        "id": "zPp5a1vcLPKG"
      }
    },
    {
      "cell_type": "markdown",
      "source": [
        "**Definition of Debugging Techniques and Tools:**\n",
        "\n",
        "Debugging techniques and tools refer to the methodologies and instruments employed in the process of identifying, isolating, and resolving errors, defects, or unexpected behaviors within software programs or systems. Debugging is an essential aspect of software development, aimed at ensuring the correctness, reliability, and optimal performance of software products.\n",
        "\n",
        "**Debugging Techniques:**\n",
        "\n",
        "1. **Print Statements:** Inserting print statements at strategic points in the code to output variable values, control flow information, or diagnostic messages during program execution.\n",
        "\n",
        "2. **Logging:** Utilizing logging frameworks or libraries to generate structured log messages that capture relevant information about the program's execution, errors, and events.\n",
        "\n",
        "3. **Code Review:** Collaborating with peers or team members to review code, identify potential issues, and suggest improvements or alternative approaches.\n",
        "\n",
        "4. **Rubber Duck Debugging:** Explaining the code or problem to an inanimate object, such as a rubber duck or a colleague, to gain insights and uncover potential solutions.\n",
        "\n",
        "5. **Incremental Testing:** Gradually testing and debugging small sections or components of the codebase, focusing on one area at a time to isolate and address issues effectively.\n",
        "\n",
        "6. **Binary Search Method:** Dividing the problem space in half iteratively to narrow down the location of bugs or defects, particularly useful for pinpointing issues in large codebases.\n",
        "\n",
        "7. **Static Code Analysis:** Leveraging automated tools to analyze source code statically, identify potential vulnerabilities, coding errors, or code smells without executing the program.\n",
        "\n",
        "8. **Dynamic Code Analysis:** Employing tools or frameworks to analyze the program's behavior dynamically during execution, detect memory leaks, performance bottlenecks, or runtime errors."
      ],
      "metadata": {
        "id": "J7yOjXl7PK2u"
      }
    },
    {
      "cell_type": "markdown",
      "source": [
        "**Debugging Tools:**\n",
        "\n",
        "1. **Integrated Development Environments (IDEs):** Comprehensive software development environments equipped with debugging features such as breakpoints, variable inspection, step-by-step execution, and stack tracing.\n",
        "\n",
        "2. **Debugger:** Specialized tools or utilities that allow developers to interactively inspect and manipulate the state of a running program, set breakpoints, step through code execution, and analyze runtime behavior.\n",
        "\n",
        "3. **Profiling Tools:** Software utilities designed to measure and analyze the performance characteristics of a program, including CPU usage, memory consumption, and execution time, to identify performance bottlenecks or optimization opportunities.\n",
        "\n",
        "4. **Memory Debuggers:** Tools that assist in detecting memory-related issues, such as memory leaks, buffer overflows, or dangling pointers, by monitoring memory allocations, deallocations, and accesses.\n",
        "\n",
        "5. **Code Linters:** Automated tools that analyze source code for stylistic or syntactic inconsistencies, adherence to coding standards, potential bugs, or security vulnerabilities.\n",
        "\n",
        "6. **Version Control Systems (VCS):** Platforms for managing and tracking changes to source code, facilitating collaboration, and enabling developers to inspect historical revisions, identify introduced bugs, and revert or compare code changes.\n",
        "\n",
        "7. **Remote Debugging Tools:** Utilities that enable developers to debug programs running on remote machines or environments, allowing for real-time debugging and troubleshooting across distributed systems.\n",
        "\n",
        "8. **Browser Developer Tools:** Built-in debugging tools provided by web browsers, allowing developers to inspect and debug client-side web applications, manipulate the Document Object Model (DOM), and analyze network activity.\n",
        "\n",
        "Effective utilization of debugging techniques and tools is crucial for software developers to diagnose and rectify issues efficiently, ultimately ensuring the delivery of high-quality and reliable software products."
      ],
      "metadata": {
        "id": "oh-djBZrPXOp"
      }
    },
    {
      "cell_type": "markdown",
      "source": [
        "**1. Example of Print Statements:**"
      ],
      "metadata": {
        "id": "Pqbbjj4ePoHO"
      }
    },
    {
      "cell_type": "code",
      "source": [
        "# Define a function to calculate the factorial of a number\n",
        "def factorial(n):\n",
        "    result = 1\n",
        "    for i in range(1, n + 1):\n",
        "        result *= i\n",
        "    return result\n",
        "\n",
        "# Call the factorial function with an argument\n",
        "number = 5\n",
        "print(\"Factorial of\", number, \"is\", factorial(number))"
      ],
      "metadata": {
        "colab": {
          "base_uri": "https://localhost:8080/"
        },
        "id": "W7svmnfHPnXv",
        "outputId": "201ab236-e0a2-494d-af2f-8a31d96748ca"
      },
      "execution_count": 6,
      "outputs": [
        {
          "output_type": "stream",
          "name": "stdout",
          "text": [
            "Factorial of 5 is 120\n"
          ]
        }
      ]
    },
    {
      "cell_type": "markdown",
      "source": [
        "**2. Example of Logging:**"
      ],
      "metadata": {
        "id": "2uItnLIxPyU9"
      }
    },
    {
      "cell_type": "code",
      "source": [
        "import logging\n",
        "\n",
        "# Configure the logging module\n",
        "logging.basicConfig(level=logging.INFO)\n",
        "\n",
        "# Define a function to calculate the square of a number\n",
        "def square(x):\n",
        "    result = x * x\n",
        "    logging.info(f\"Square of {x} is {result}\")  # Log the result\n",
        "    return result\n",
        "\n",
        "# Call the square function with an argument\n",
        "number = 3\n",
        "print(\"Square of\", number, \"is\", square(number))"
      ],
      "metadata": {
        "colab": {
          "base_uri": "https://localhost:8080/"
        },
        "id": "2v1TWzHZLTQh",
        "outputId": "b0fa45d4-b0ef-41e8-ce33-da2abd5645f1"
      },
      "execution_count": 7,
      "outputs": [
        {
          "output_type": "stream",
          "name": "stdout",
          "text": [
            "Square of 3 is 9\n"
          ]
        }
      ]
    },
    {
      "cell_type": "markdown",
      "source": [
        "**3. Example of Code Review:**"
      ],
      "metadata": {
        "id": "iWHZb-9_P3LE"
      }
    },
    {
      "cell_type": "code",
      "source": [
        "# Define a function to calculate the average of a list of numbers\n",
        "def calculate_average(numbers):\n",
        "    total = sum(numbers)\n",
        "    average = total / len(numbers)\n",
        "    return average\n",
        "\n",
        "# Call the calculate_average function with a list of numbers\n",
        "numbers = [2, 4, 6, 8, 10]\n",
        "print(\"Average:\", calculate_average(numbers))\n"
      ],
      "metadata": {
        "colab": {
          "base_uri": "https://localhost:8080/"
        },
        "id": "rPSu7nJqQgww",
        "outputId": "382debea-3f8f-4e07-ea68-0931a4844c21"
      },
      "execution_count": 8,
      "outputs": [
        {
          "output_type": "stream",
          "name": "stdout",
          "text": [
            "Average: 6.0\n"
          ]
        }
      ]
    },
    {
      "cell_type": "markdown",
      "source": [
        "**4. Example of Rubber Duck Debugging:**"
      ],
      "metadata": {
        "id": "D9mcnMw4Qlrj"
      }
    },
    {
      "cell_type": "code",
      "source": [
        "# Define a function to check if a number is even\n",
        "def is_even(number):\n",
        "    if number % 2 == 0:\n",
        "        return True\n",
        "    else:\n",
        "        return False\n",
        "\n",
        "# Call the is_even function with an argument\n",
        "number = 7\n",
        "print(\"Is\", number, \"even?\", is_even(number))"
      ],
      "metadata": {
        "colab": {
          "base_uri": "https://localhost:8080/"
        },
        "id": "_OPWZPPSQtr8",
        "outputId": "0cb3b004-76e8-48e4-955a-8af811f29a02"
      },
      "execution_count": 9,
      "outputs": [
        {
          "output_type": "stream",
          "name": "stdout",
          "text": [
            "Is 7 even? False\n"
          ]
        }
      ]
    },
    {
      "cell_type": "markdown",
      "source": [
        "**5. Example of Incremental Testing:**"
      ],
      "metadata": {
        "id": "AU8fYX8PRIvN"
      }
    },
    {
      "cell_type": "code",
      "source": [
        "# Define a function to check if a number is prime\n",
        "def is_prime(number):\n",
        "    if number <= 1:\n",
        "        return False\n",
        "    for i in range(2, int(number**0.5) + 1):\n",
        "        if number % i == 0:\n",
        "            return False\n",
        "    return True\n",
        "\n",
        "# Call the is_prime function with various arguments\n",
        "print(\"Is 5 prime?\", is_prime(5))\n",
        "print(\"Is 10 prime?\", is_prime(10))\n",
        "print(\"Is 17 prime?\", is_prime(17))"
      ],
      "metadata": {
        "colab": {
          "base_uri": "https://localhost:8080/"
        },
        "id": "GUaaPFEiRJ6O",
        "outputId": "9d866ce9-5bf6-4ac4-fedf-a50b3a3bdfbf"
      },
      "execution_count": 10,
      "outputs": [
        {
          "output_type": "stream",
          "name": "stdout",
          "text": [
            "Is 5 prime? True\n",
            "Is 10 prime? False\n",
            "Is 17 prime? True\n"
          ]
        }
      ]
    },
    {
      "cell_type": "markdown",
      "source": [
        "# **3. Best practices for code testing**"
      ],
      "metadata": {
        "id": "ln2poUlILTsP"
      }
    },
    {
      "cell_type": "markdown",
      "source": [
        "Testing is a crucial aspect of software development, ensuring code correctness, reliability, and maintainability. Here are some best practices for code testing:\n",
        "\n",
        "1. **Write Testable Code**: Design your code in a way that makes it easy to test. This includes breaking down complex functions into smaller, more modular components and minimizing dependencies between different parts of the code.\n",
        "\n",
        "2. **Adopt Test-Driven Development (TDD)**: Write tests before writing the actual code. This approach helps in clarifying requirements, improving code design, and ensuring that the code meets the specified criteria.\n",
        "\n",
        "3. **Use Descriptive Test Names**: Write descriptive and meaningful names for your test cases. This makes it easier to understand the purpose of each test and quickly identify any failures.\n",
        "\n",
        "4. **Isolate Tests**: Ensure that each test case is independent of others and does not rely on the state set by other tests. This reduces the likelihood of test failures due to unintended interactions between tests.\n",
        "\n",
        "5. **Test Boundary Conditions**: Test both typical and edge cases to ensure that your code behaves correctly under different scenarios. Consider testing input validation, boundary conditions, and error handling.\n",
        "\n",
        "6. **Maintain Test Coverage**: Aim for high test coverage to ensure that most parts of your code are exercised by tests. However, focus on testing critical and complex code paths first.\n",
        "\n",
        "7. **Use Test Fixtures**: Set up common test fixtures or test data that can be reused across multiple test cases. This helps in reducing code duplication and makes tests more maintainable.\n",
        "\n",
        "8. **Automate Testing**: Automate the execution of tests as much as possible. Continuous Integration (CI) tools can be used to automatically run tests whenever code changes are made, ensuring that new changes do not introduce regressions.\n",
        "\n",
        "9. **Refactor Tests**: Refactor your tests regularly to keep them clean, readable, and maintainable. Eliminate duplicate or unnecessary code, and ensure that tests remain aligned with changes in the production code.\n",
        "\n",
        "10. **Monitor and Analyze Test Results**: Monitor test results regularly to identify patterns of failures or areas of the codebase that are prone to errors. Use metrics and analytics to track test coverage, execution times, and failure rates.\n",
        "\n",
        "11. **Use Mocking and Stubbing**: Use mocking frameworks or libraries to isolate the code under test from external dependencies such as databases, network services, or APIs. This allows you to test components in isolation and simulate various scenarios.\n",
        "\n",
        "12. **Document Test Cases**: Document the purpose, input data, expected behavior, and any preconditions or assumptions for each test case. This helps in understanding the intent of the test and facilitates knowledge sharing among team members.\n",
        "\n",
        "By following these best practices, you can create comprehensive, maintainable, and effective test suites that improve the quality and reliability of your codebase."
      ],
      "metadata": {
        "id": "-ejc4acsSLE1"
      }
    }
  ]
}
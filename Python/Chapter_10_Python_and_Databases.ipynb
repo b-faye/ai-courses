{
  "nbformat": 4,
  "nbformat_minor": 0,
  "metadata": {
    "colab": {
      "provenance": []
    },
    "kernelspec": {
      "name": "python3",
      "display_name": "Python 3"
    },
    "language_info": {
      "name": "python"
    }
  },
  "cells": [
    {
      "cell_type": "markdown",
      "source": [
        "**Plan**\n",
        "\n",
        "**1. Working with SQLite, MySQL, or PostgreSQL**\n",
        "\n",
        "**2. Object-Relational Mapping (ORM)**\n"
      ],
      "metadata": {
        "id": "JIyG5nDPTkB-"
      }
    },
    {
      "cell_type": "markdown",
      "source": [
        "# **1. Working with SQLite, MySQL, or PostgreSQL**"
      ],
      "metadata": {
        "id": "yv2fKVwmUE4X"
      }
    },
    {
      "cell_type": "markdown",
      "source": [
        "**<center><font size=\"+2\">SQLite</center></font>**"
      ],
      "metadata": {
        "id": "gVdjeA7wUOHd"
      }
    },
    {
      "cell_type": "markdown",
      "source": [
        "SQLite is a relational database management system (RDBMS) that is lightweight, self-contained, serverless, and open-source. It is often referred to as an embedded database because it is designed to be embedded into applications rather than running as a separate server process. SQLite databases are stored as single disk files, making them highly portable and suitable for use in a wide range of applications, from mobile apps to desktop software and embedded systems.\n",
        "\n",
        "Key features of SQLite include:\n",
        "\n",
        "1. **Self-contained**: SQLite is self-contained, meaning the entire database engine is implemented in a single library file that can be statically linked with applications. This makes it easy to include SQLite in projects without additional dependencies.\n",
        "\n",
        "2. **Serverless**: Unlike traditional client-server database management systems like MySQL or PostgreSQL, SQLite operates as a serverless database engine. It directly reads and writes to the disk file without the need for a separate server process.\n",
        "\n",
        "3. **Transactional**: SQLite supports ACID (Atomicity, Consistency, Isolation, Durability) transactions, allowing multiple operations to be grouped together as a single unit of work. This ensures data integrity and reliability.\n",
        "\n",
        "4. **Cross-platform**: SQLite is cross-platform and runs on various operating systems, including Windows, macOS, Linux, and mobile platforms like iOS and Android.\n",
        "\n",
        "5. **Zero Configuration**: SQLite requires minimal configuration and administration. There is no need to set up users, permissions, or databases. Simply open a connection to a database file, and SQLite handles the rest.\n",
        "\n",
        "6. **SQL Support**: SQLite supports a subset of the SQL language, including common SQL features such as SELECT, INSERT, UPDATE, DELETE, and JOIN operations. It also supports data types, indexes, and constraints.\n",
        "\n",
        "7. **Embeddable**: SQLite is designed to be embedded into applications, making it suitable for scenarios where a standalone database server is not required or feasible. It is widely used in software development for local storage, caching, and data exchange.\n",
        "\n",
        "Overall, SQLite is a versatile and reliable database engine that provides a lightweight and efficient solution for managing structured data in various types of applications. Its simplicity, portability, and performance make it a popular choice for developers across different platforms and industries."
      ],
      "metadata": {
        "id": "xHpILaFuW0v6"
      }
    },
    {
      "cell_type": "markdown",
      "source": [
        "Table: employees\n",
        "\n",
        "| id | name       | age | department    |\n",
        "|----|------------|-----|---------------|\n",
        "| 1  | John Doe   | 40  | HR            |\n",
        "| 2  | Jane Smith | 35  | Engineering   |"
      ],
      "metadata": {
        "id": "-Hje-ujPUS5l"
      }
    },
    {
      "cell_type": "code",
      "source": [
        "# import sqlite3\n",
        "import sqlite3"
      ],
      "metadata": {
        "id": "VmzUGP8YUqJg"
      },
      "execution_count": 2,
      "outputs": []
    },
    {
      "cell_type": "code",
      "source": [
        "# Connect to SQLite database (creates a new database if it doesn't exist)\n",
        "conn = sqlite3.connect('example.db')"
      ],
      "metadata": {
        "id": "d4_wqvuyUtmP"
      },
      "execution_count": 3,
      "outputs": []
    },
    {
      "cell_type": "code",
      "source": [
        "# Create a cursor object to interact with the database\n",
        "cur = conn.cursor()"
      ],
      "metadata": {
        "id": "9HzU0S9lU8vP"
      },
      "execution_count": 4,
      "outputs": []
    },
    {
      "cell_type": "code",
      "source": [
        "# Create a table\n",
        "cur.execute('''CREATE TABLE IF NOT EXISTS employees (\n",
        "                id INTEGER PRIMARY KEY,\n",
        "                name TEXT NOT NULL,\n",
        "                age INTEGER,\n",
        "                department TEXT\n",
        "            )''')"
      ],
      "metadata": {
        "colab": {
          "base_uri": "https://localhost:8080/"
        },
        "id": "xbP8R0wiVB0D",
        "outputId": "b8142f15-1b4e-41de-febc-6705a4830930"
      },
      "execution_count": 5,
      "outputs": [
        {
          "output_type": "execute_result",
          "data": {
            "text/plain": [
              "<sqlite3.Cursor at 0x7d94b35c25c0>"
            ]
          },
          "metadata": {},
          "execution_count": 5
        }
      ]
    },
    {
      "cell_type": "code",
      "source": [
        "# Insert data into the table\n",
        "cur.execute(\"INSERT INTO employees (name, age, department) VALUES (?, ?, ?)\", ('John Doe', 30, 'HR'))\n",
        "cur.execute(\"INSERT INTO employees (name, age, department) VALUES (?, ?, ?)\", ('Jane Smith', 35, 'Engineering'))\n"
      ],
      "metadata": {
        "colab": {
          "base_uri": "https://localhost:8080/"
        },
        "id": "uLnmoa3bVSgV",
        "outputId": "159572b6-7ba3-4bda-b422-6262897226c7"
      },
      "execution_count": 6,
      "outputs": [
        {
          "output_type": "execute_result",
          "data": {
            "text/plain": [
              "<sqlite3.Cursor at 0x7d94b35c25c0>"
            ]
          },
          "metadata": {},
          "execution_count": 6
        }
      ]
    },
    {
      "cell_type": "code",
      "source": [
        "# Save (commit) the changes\n",
        "conn.commit()"
      ],
      "metadata": {
        "id": "PSk98DchVdtb"
      },
      "execution_count": 7,
      "outputs": []
    },
    {
      "cell_type": "code",
      "source": [
        "# Retrieve and display data from the table (list of tuple)\n",
        "cur.execute(\"SELECT * FROM employees\")\n",
        "print(\"Employee data:\")\n",
        "for row in cur.fetchall():\n",
        "    print(row)"
      ],
      "metadata": {
        "colab": {
          "base_uri": "https://localhost:8080/"
        },
        "id": "ky21F-pBVkyq",
        "outputId": "96ba7d5f-5ba7-4e27-9ff0-e1e0bbbe9954"
      },
      "execution_count": 8,
      "outputs": [
        {
          "output_type": "stream",
          "name": "stdout",
          "text": [
            "Employee data:\n",
            "(1, 'John Doe', 30, 'HR')\n",
            "(2, 'Jane Smith', 35, 'Engineering')\n"
          ]
        }
      ]
    },
    {
      "cell_type": "code",
      "source": [
        "# Update data in the table\n",
        "cur.execute(\"UPDATE employees SET age = ? WHERE name = ?\", (40, 'John Doe'))\n",
        "conn.commit()"
      ],
      "metadata": {
        "id": "LUk0TOPxWIYp"
      },
      "execution_count": 10,
      "outputs": []
    },
    {
      "cell_type": "code",
      "source": [
        "# Retrieve and display data from the table (list of tuple)\n",
        "cur.execute(\"SELECT * FROM employees\")\n",
        "print(\"Employee data:\")\n",
        "for row in cur.fetchall():\n",
        "    print(row)"
      ],
      "metadata": {
        "colab": {
          "base_uri": "https://localhost:8080/"
        },
        "id": "jVt5gdMaWMcG",
        "outputId": "5571e16b-a3f4-4791-c8e2-fb7de238b1e4"
      },
      "execution_count": 11,
      "outputs": [
        {
          "output_type": "stream",
          "name": "stdout",
          "text": [
            "Employee data:\n",
            "(1, 'John Doe', 40, 'HR')\n",
            "(2, 'Jane Smith', 35, 'Engineering')\n"
          ]
        }
      ]
    },
    {
      "cell_type": "code",
      "source": [
        "# Delete data from the table\n",
        "cur.execute(\"DELETE FROM employees WHERE name = ?\", ('Jane Smith',))\n",
        "conn.commit()"
      ],
      "metadata": {
        "id": "f5Gw5ryiWRrC"
      },
      "execution_count": 12,
      "outputs": []
    },
    {
      "cell_type": "code",
      "source": [
        "# Retrieve and display data from the table (list of tuple)\n",
        "cur.execute(\"SELECT * FROM employees\")\n",
        "print(\"Employee data:\")\n",
        "for row in cur.fetchall():\n",
        "    print(row)"
      ],
      "metadata": {
        "colab": {
          "base_uri": "https://localhost:8080/"
        },
        "id": "qXu3iVrmWWoG",
        "outputId": "bfb42a0a-61a6-41c7-eba7-1976c96ee904"
      },
      "execution_count": 13,
      "outputs": [
        {
          "output_type": "stream",
          "name": "stdout",
          "text": [
            "Employee data:\n",
            "(1, 'John Doe', 40, 'HR')\n"
          ]
        }
      ]
    },
    {
      "cell_type": "code",
      "source": [
        "# Close the cursor and connection\n",
        "cur.close()\n",
        "conn.close()"
      ],
      "metadata": {
        "id": "UY_qnY8KWbRG"
      },
      "execution_count": 14,
      "outputs": []
    },
    {
      "cell_type": "markdown",
      "source": [
        "**<center><font size=\"+2\">MySQL</center></font>**"
      ],
      "metadata": {
        "id": "UR43jsekXAN4"
      }
    },
    {
      "cell_type": "markdown",
      "source": [
        "MySQL is an open-source relational database management system (RDBMS) that is widely used for managing and storing structured data. It is developed, distributed, and supported by Oracle Corporation. MySQL is one of the most popular database systems in the world, known for its reliability, scalability, and ease of use.\n",
        "\n",
        "Key features of MySQL include:\n",
        "\n",
        "1. **Relational Database**: MySQL follows the relational model and organizes data into tables consisting of rows and columns. It supports SQL (Structured Query Language) for querying and manipulating data.\n",
        "\n",
        "2. **Client-Server Architecture**: MySQL uses a client-server architecture where multiple client applications can connect to a MySQL server simultaneously over a network. The server manages database operations and provides access to data.\n",
        "\n",
        "3. **Cross-platform**: MySQL is cross-platform and runs on various operating systems, including Windows, macOS, Linux, and various Unix variants. This allows it to be deployed in diverse environments.\n",
        "\n",
        "4. **Scalability**: MySQL supports scalability through features like replication, clustering, and partitioning. It can handle large volumes of data and high concurrent user traffic, making it suitable for both small-scale and enterprise-level applications.\n",
        "\n",
        "5. **High Performance**: MySQL is optimized for performance and can efficiently execute queries and transactions. It includes features like indexing, caching, and query optimization to improve performance.\n",
        "\n",
        "6. **Security**: MySQL provides robust security features to protect data, including user authentication, access control, encryption, and SSL/TLS support for secure connections.\n",
        "\n",
        "7. **Community and Enterprise Editions**: MySQL is available in two editions: Community Edition (open-source) and Enterprise Edition (commercial). The Community Edition is free to use and is supported by a large community of developers, while the Enterprise Edition includes additional features and commercial support.\n",
        "\n",
        "8. **Storage Engines**: MySQL supports multiple storage engines, including InnoDB (the default), MyISAM, and others. Each storage engine has its own characteristics and is optimized for different use cases.\n",
        "\n",
        "9. **Replication and High Availability**: MySQL supports replication, allowing data to be copied across multiple servers for fault tolerance and scalability. It also offers features for high availability, such as automatic failover and clustering.\n",
        "\n",
        "Overall, MySQL is a powerful and versatile database system that is widely used in web development, e-commerce, content management systems, data warehousing, and many other applications. Its combination of performance, scalability, and ease of use makes it a popular choice for developers and organizations worldwide."
      ],
      "metadata": {
        "id": "GkGJIyrIXyfN"
      }
    },
    {
      "cell_type": "code",
      "source": [
        "! pip install mysql-connector-python"
      ],
      "metadata": {
        "id": "NB0245LBXWkH"
      },
      "execution_count": null,
      "outputs": []
    },
    {
      "cell_type": "code",
      "source": [
        "import mysql.connector\n",
        "\n",
        "# Connect to MySQL database\n",
        "conn = mysql.connector.connect(\n",
        "    host=\"localhost\",\n",
        "    user=\"your_username\",\n",
        "    password=\"your_password\",\n",
        "    database=\"your_database\"\n",
        ")\n",
        "\n",
        "# Create a cursor object to interact with the database\n",
        "cur = conn.cursor()\n",
        "\n",
        "# Create a table\n",
        "cur.execute('''CREATE TABLE IF NOT EXISTS employees (\n",
        "                id INT AUTO_INCREMENT PRIMARY KEY,\n",
        "                name VARCHAR(255) NOT NULL,\n",
        "                age INT,\n",
        "                department VARCHAR(255)\n",
        "            )''')\n",
        "\n",
        "# Insert data into the table\n",
        "cur.execute(\"INSERT INTO employees (name, age, department) VALUES (%s, %s, %s)\", ('John Doe', 30, 'HR'))\n",
        "cur.execute(\"INSERT INTO employees (name, age, department) VALUES (%s, %s, %s)\", ('Jane Smith', 35, 'Engineering'))\n",
        "\n",
        "# Commit the transaction\n",
        "conn.commit()\n",
        "\n",
        "# Retrieve and display data from the table\n",
        "cur.execute(\"SELECT * FROM employees\")\n",
        "print(\"Employee data:\")\n",
        "for row in cur.fetchall():\n",
        "    print(row)\n",
        "\n",
        "# Close the cursor and connection\n",
        "cur.close()\n",
        "conn.close()\n"
      ],
      "metadata": {
        "id": "VsqW1OScXZfh"
      },
      "execution_count": null,
      "outputs": []
    },
    {
      "cell_type": "markdown",
      "source": [
        "**<center><font size=\"+2\">PostgreSQL</center></font>**"
      ],
      "metadata": {
        "id": "FfZBvz61X2po"
      }
    },
    {
      "cell_type": "markdown",
      "source": [
        "PostgreSQL, often referred to as Postgres, is an open-source relational database management system (RDBMS) known for its advanced features, extensibility, and reliability. It is developed and maintained by the PostgreSQL Global Development Group.\n",
        "\n",
        "Here's a concise definition of PostgreSQL:\n",
        "\n",
        "\"PostgreSQL is an open-source relational database management system (RDBMS) that provides robust support for SQL queries, data integrity, concurrency control, and extensibility. It offers advanced features such as ACID compliance, full-text search, JSON support, and support for geospatial data types, making it suitable for a wide range of applications.\"\n",
        "\n",
        "Key features of PostgreSQL include:\n",
        "\n",
        "1. **ACID Compliance**: PostgreSQL ensures Atomicity, Consistency, Isolation, and Durability (ACID properties) for transactions, ensuring data integrity and reliability.\n",
        "\n",
        "2. **SQL Support**: PostgreSQL supports the SQL language and provides extensive support for SQL queries, data manipulation, and schema definition.\n",
        "\n",
        "3. **Extensibility**: PostgreSQL is highly extensible, allowing users to define custom data types, functions, and extensions using various programming languages such as PL/pgSQL, PL/Python, PL/Perl, and others.\n",
        "\n",
        "4. **Advanced Data Types**: PostgreSQL supports advanced data types such as JSON, XML, arrays, hstore, and geospatial data types (e.g., Point, LineString, Polygon) for storing and querying complex data.\n",
        "\n",
        "5. **Concurrency Control**: PostgreSQL provides robust concurrency control mechanisms, including Multi-Version Concurrency Control (MVCC), to ensure data consistency and enable high concurrency in multi-user environments.\n",
        "\n",
        "6. **Indexing**: PostgreSQL supports various types of indexes, including B-tree, Hash, GiST, GIN, and BRIN indexes, for efficient data retrieval and query optimization.\n",
        "\n",
        "7. **Full-Text Search**: PostgreSQL includes full-text search capabilities, allowing users to perform advanced search operations on textual data stored in the database.\n",
        "\n",
        "8. **Replication**: PostgreSQL supports various replication methods, including asynchronous replication, synchronous replication, and logical replication, for creating scalable and fault-tolerant database clusters.\n",
        "\n",
        "9. **Security**: PostgreSQL provides robust security features, including authentication mechanisms, access control, SSL/TLS support, and data encryption, to protect sensitive data.\n",
        "\n",
        "10. **Community and Ecosystem**: PostgreSQL has a vibrant community of developers, contributors, and users who actively contribute to its development and provide support through mailing lists, forums, and conferences. Additionally, PostgreSQL has a rich ecosystem of third-party tools, libraries, and extensions that extend its functionality.\n",
        "\n",
        "Overall, PostgreSQL is a powerful and feature-rich relational database management system that is widely used in various industries, including finance, healthcare, e-commerce, and government, for storing, querying, and managing structured data."
      ],
      "metadata": {
        "id": "hHvgIC8TYVTj"
      }
    },
    {
      "cell_type": "code",
      "source": [
        "! pip install psycopg2-binary"
      ],
      "metadata": {
        "id": "6LQw7uinYBaO"
      },
      "execution_count": null,
      "outputs": []
    },
    {
      "cell_type": "code",
      "source": [
        "import psycopg2\n",
        "\n",
        "# Connect to PostgreSQL database\n",
        "conn = psycopg2.connect(\n",
        "    dbname=\"your_database\",\n",
        "    user=\"your_username\",\n",
        "    password=\"your_password\",\n",
        "    host=\"localhost\",\n",
        "    port=\"5432\"\n",
        ")\n",
        "\n",
        "# Create a cursor object to interact with the database\n",
        "cur = conn.cursor()\n",
        "\n",
        "# Create a table\n",
        "cur.execute('''CREATE TABLE IF NOT EXISTS employees (\n",
        "                id SERIAL PRIMARY KEY,\n",
        "                name VARCHAR(255) NOT NULL,\n",
        "                age INT,\n",
        "                department VARCHAR(255)\n",
        "            )''')\n",
        "\n",
        "# Insert data into the table\n",
        "cur.execute(\"INSERT INTO employees (name, age, department) VALUES (%s, %s, %s)\", ('John Doe', 30, 'HR'))\n",
        "cur.execute(\"INSERT INTO employees (name, age, department) VALUES (%s, %s, %s)\", ('Jane Smith', 35, 'Engineering'))\n",
        "\n",
        "# Commit the transaction\n",
        "conn.commit()\n",
        "\n",
        "# Retrieve and display data from the table\n",
        "cur.execute(\"SELECT * FROM employees\")\n",
        "print(\"Employee data:\")\n",
        "for row in cur.fetchall():\n",
        "    print(row)\n",
        "\n",
        "# Close the cursor and connection\n",
        "cur.close()\n",
        "conn.close()\n"
      ],
      "metadata": {
        "id": "ra5dWN2aYEsW"
      },
      "execution_count": null,
      "outputs": []
    },
    {
      "cell_type": "markdown",
      "source": [
        "# **2. Object-Relational Mapping (ORM)**"
      ],
      "metadata": {
        "id": "Z2caexcMYQqx"
      }
    },
    {
      "cell_type": "markdown",
      "source": [
        "Object-Relational Mapping (ORM) is a programming technique that enables developers to map object-oriented models to relational database tables. It provides a high-level abstraction layer that allows developers to work with database objects using the syntax and semantics of object-oriented programming languages, such as Python, Java, or C#. ORM frameworks automate the process of translating data between the database and the application's object model, eliminating the need for developers to write low-level SQL queries manually.\n",
        "\n",
        "Key components of ORM include:\n",
        "\n",
        "1. **Object-Relational Mapping**: ORM frameworks map database tables to classes and database rows to objects. Each class represents a table in the database, and each instance of the class represents a row in that table. Attributes of the class correspond to columns in the table.\n",
        "\n",
        "2. **Transparent Persistence**: ORM frameworks handle the persistence of objects to the database transparently, automatically generating SQL statements to insert, update, delete, and query data. Developers can manipulate objects in memory without having to worry about the underlying database operations.\n",
        "\n",
        "3. **Query Language**: ORM frameworks provide a query language that allows developers to express database queries using object-oriented syntax. This query language is usually more expressive and concise than raw SQL, making it easier to work with complex data structures.\n",
        "\n",
        "4. **Relationship Mapping**: ORM frameworks support defining relationships between classes, such as one-to-one, one-to-many, and many-to-many relationships. These relationships are translated into foreign key constraints in the database schema.\n",
        "\n",
        "5. **Lazy Loading and Eager Loading**: ORM frameworks provide mechanisms for loading related objects lazily or eagerly, optimizing performance and minimizing database queries.\n",
        "\n",
        "6. **Transaction Management**: ORM frameworks often include features for managing database transactions, ensuring data consistency and integrity. Developers can commit or rollback transactions programmatically.\n",
        "\n",
        "Popular ORM frameworks include SQLAlchemy for Python, Hibernate for Java, Entity Framework for .NET, and Django ORM for Python Django web framework.\n",
        "\n",
        "ORM simplifies database interactions by abstracting away the complexities of relational databases and allowing developers to focus on writing application logic rather than dealing with low-level database operations. It promotes code reuse, maintainability, and portability by providing a unified interface for working with databases across different platforms and environments."
      ],
      "metadata": {
        "id": "wN3ZSo1gYk_u"
      }
    },
    {
      "cell_type": "code",
      "source": [
        "from sqlalchemy import create_engine, Column, Integer, String\n",
        "from sqlalchemy.ext.declarative import declarative_base\n",
        "from sqlalchemy.orm import sessionmaker"
      ],
      "metadata": {
        "id": "F1rfZTy3Ylct"
      },
      "execution_count": 18,
      "outputs": []
    },
    {
      "cell_type": "code",
      "source": [
        "# Create an SQLite in-memory database engine with a specific name\n",
        "db_name = 'example.db'\n",
        "engine = create_engine(f'sqlite:///{db_name}', echo=True)"
      ],
      "metadata": {
        "id": "Alce7ZwpYp88"
      },
      "execution_count": 41,
      "outputs": []
    },
    {
      "cell_type": "code",
      "source": [
        "# Create a base class for declarative ORM models\n",
        "Base = declarative_base()\n"
      ],
      "metadata": {
        "colab": {
          "base_uri": "https://localhost:8080/"
        },
        "id": "H2OO6eMgYwCi",
        "outputId": "6f3f944f-c6a2-48b9-d556-9d4fa8a793dc"
      },
      "execution_count": 42,
      "outputs": [
        {
          "output_type": "stream",
          "name": "stderr",
          "text": [
            "<ipython-input-42-03925acb9590>:2: MovedIn20Warning: The ``declarative_base()`` function is now available as sqlalchemy.orm.declarative_base(). (deprecated since: 2.0) (Background on SQLAlchemy 2.0 at: https://sqlalche.me/e/b8d9)\n",
            "  Base = declarative_base()\n"
          ]
        }
      ]
    },
    {
      "cell_type": "code",
      "source": [
        "# Define a database model representing a User\n",
        "class User(Base):\n",
        "    __tablename__ = 'users'\n",
        "    id = Column(Integer, primary_key=True)\n",
        "    name = Column(String)\n",
        "    age = Column(Integer)\n",
        "    department = Column(String)\n"
      ],
      "metadata": {
        "id": "K4Ch1vb7Y5nX"
      },
      "execution_count": 43,
      "outputs": []
    },
    {
      "cell_type": "code",
      "source": [
        "# Create all defined tables in the database\n",
        "Base.metadata.create_all(engine)"
      ],
      "metadata": {
        "colab": {
          "base_uri": "https://localhost:8080/"
        },
        "id": "dq3zOVNOZFaP",
        "outputId": "d5ff4733-8cbd-4047-8d90-4ee8069675c2"
      },
      "execution_count": 44,
      "outputs": [
        {
          "output_type": "stream",
          "name": "stdout",
          "text": [
            "2024-02-16 10:31:57,594 INFO sqlalchemy.engine.Engine BEGIN (implicit)\n"
          ]
        },
        {
          "output_type": "stream",
          "name": "stderr",
          "text": [
            "INFO:sqlalchemy.engine.Engine:BEGIN (implicit)\n"
          ]
        },
        {
          "output_type": "stream",
          "name": "stdout",
          "text": [
            "2024-02-16 10:31:57,598 INFO sqlalchemy.engine.Engine PRAGMA main.table_info(\"users\")\n"
          ]
        },
        {
          "output_type": "stream",
          "name": "stderr",
          "text": [
            "INFO:sqlalchemy.engine.Engine:PRAGMA main.table_info(\"users\")\n"
          ]
        },
        {
          "output_type": "stream",
          "name": "stdout",
          "text": [
            "2024-02-16 10:31:57,601 INFO sqlalchemy.engine.Engine [raw sql] ()\n"
          ]
        },
        {
          "output_type": "stream",
          "name": "stderr",
          "text": [
            "INFO:sqlalchemy.engine.Engine:[raw sql] ()\n"
          ]
        },
        {
          "output_type": "stream",
          "name": "stdout",
          "text": [
            "2024-02-16 10:31:57,605 INFO sqlalchemy.engine.Engine PRAGMA temp.table_info(\"users\")\n"
          ]
        },
        {
          "output_type": "stream",
          "name": "stderr",
          "text": [
            "INFO:sqlalchemy.engine.Engine:PRAGMA temp.table_info(\"users\")\n"
          ]
        },
        {
          "output_type": "stream",
          "name": "stdout",
          "text": [
            "2024-02-16 10:31:57,610 INFO sqlalchemy.engine.Engine [raw sql] ()\n"
          ]
        },
        {
          "output_type": "stream",
          "name": "stderr",
          "text": [
            "INFO:sqlalchemy.engine.Engine:[raw sql] ()\n"
          ]
        },
        {
          "output_type": "stream",
          "name": "stdout",
          "text": [
            "2024-02-16 10:31:57,613 INFO sqlalchemy.engine.Engine \n",
            "CREATE TABLE users (\n",
            "\tid INTEGER NOT NULL, \n",
            "\tname VARCHAR, \n",
            "\tage INTEGER, \n",
            "\tdepartment VARCHAR, \n",
            "\tPRIMARY KEY (id)\n",
            ")\n",
            "\n",
            "\n"
          ]
        },
        {
          "output_type": "stream",
          "name": "stderr",
          "text": [
            "INFO:sqlalchemy.engine.Engine:\n",
            "CREATE TABLE users (\n",
            "\tid INTEGER NOT NULL, \n",
            "\tname VARCHAR, \n",
            "\tage INTEGER, \n",
            "\tdepartment VARCHAR, \n",
            "\tPRIMARY KEY (id)\n",
            ")\n",
            "\n",
            "\n"
          ]
        },
        {
          "output_type": "stream",
          "name": "stdout",
          "text": [
            "2024-02-16 10:31:57,615 INFO sqlalchemy.engine.Engine [no key 0.00240s] ()\n"
          ]
        },
        {
          "output_type": "stream",
          "name": "stderr",
          "text": [
            "INFO:sqlalchemy.engine.Engine:[no key 0.00240s] ()\n"
          ]
        },
        {
          "output_type": "stream",
          "name": "stdout",
          "text": [
            "2024-02-16 10:31:57,631 INFO sqlalchemy.engine.Engine COMMIT\n"
          ]
        },
        {
          "output_type": "stream",
          "name": "stderr",
          "text": [
            "INFO:sqlalchemy.engine.Engine:COMMIT\n"
          ]
        }
      ]
    },
    {
      "cell_type": "code",
      "source": [
        "# Create a sessionmaker bound to the engine\n",
        "Session = sessionmaker(bind=engine)"
      ],
      "metadata": {
        "id": "KT5Tn7DCZQj8"
      },
      "execution_count": 45,
      "outputs": []
    },
    {
      "cell_type": "code",
      "source": [
        "# Create a session\n",
        "session = Session()\n"
      ],
      "metadata": {
        "id": "JruADuhrZU0k"
      },
      "execution_count": 46,
      "outputs": []
    },
    {
      "cell_type": "code",
      "source": [
        "# Create and add users to the database\n",
        "user1 = User(name='John Doe', age=30, department='HR')\n",
        "user2 = User(name='Jane Smith', age=35, department='Engineering')\n",
        "session.add(user1)\n",
        "session.add(user2)\n",
        "session.commit()"
      ],
      "metadata": {
        "colab": {
          "base_uri": "https://localhost:8080/"
        },
        "id": "qAcZVRJ6ZbYd",
        "outputId": "6cd18887-d60c-4c72-b760-f21be7cb4e1d"
      },
      "execution_count": 47,
      "outputs": [
        {
          "output_type": "stream",
          "name": "stdout",
          "text": [
            "2024-02-16 10:32:02,753 INFO sqlalchemy.engine.Engine BEGIN (implicit)\n"
          ]
        },
        {
          "output_type": "stream",
          "name": "stderr",
          "text": [
            "INFO:sqlalchemy.engine.Engine:BEGIN (implicit)\n"
          ]
        },
        {
          "output_type": "stream",
          "name": "stdout",
          "text": [
            "2024-02-16 10:32:02,765 INFO sqlalchemy.engine.Engine INSERT INTO users (name, age, department) VALUES (?, ?, ?) RETURNING id\n"
          ]
        },
        {
          "output_type": "stream",
          "name": "stderr",
          "text": [
            "INFO:sqlalchemy.engine.Engine:INSERT INTO users (name, age, department) VALUES (?, ?, ?) RETURNING id\n"
          ]
        },
        {
          "output_type": "stream",
          "name": "stdout",
          "text": [
            "2024-02-16 10:32:02,769 INFO sqlalchemy.engine.Engine [generated in 0.00021s (insertmanyvalues) 1/2 (ordered; batch not supported)] ('John Doe', 30, 'HR')\n"
          ]
        },
        {
          "output_type": "stream",
          "name": "stderr",
          "text": [
            "INFO:sqlalchemy.engine.Engine:[generated in 0.00021s (insertmanyvalues) 1/2 (ordered; batch not supported)] ('John Doe', 30, 'HR')\n"
          ]
        },
        {
          "output_type": "stream",
          "name": "stdout",
          "text": [
            "2024-02-16 10:32:02,774 INFO sqlalchemy.engine.Engine INSERT INTO users (name, age, department) VALUES (?, ?, ?) RETURNING id\n"
          ]
        },
        {
          "output_type": "stream",
          "name": "stderr",
          "text": [
            "INFO:sqlalchemy.engine.Engine:INSERT INTO users (name, age, department) VALUES (?, ?, ?) RETURNING id\n"
          ]
        },
        {
          "output_type": "stream",
          "name": "stdout",
          "text": [
            "2024-02-16 10:32:02,777 INFO sqlalchemy.engine.Engine [insertmanyvalues 2/2 (ordered; batch not supported)] ('Jane Smith', 35, 'Engineering')\n"
          ]
        },
        {
          "output_type": "stream",
          "name": "stderr",
          "text": [
            "INFO:sqlalchemy.engine.Engine:[insertmanyvalues 2/2 (ordered; batch not supported)] ('Jane Smith', 35, 'Engineering')\n"
          ]
        },
        {
          "output_type": "stream",
          "name": "stdout",
          "text": [
            "2024-02-16 10:32:02,781 INFO sqlalchemy.engine.Engine COMMIT\n"
          ]
        },
        {
          "output_type": "stream",
          "name": "stderr",
          "text": [
            "INFO:sqlalchemy.engine.Engine:COMMIT\n"
          ]
        }
      ]
    },
    {
      "cell_type": "code",
      "source": [
        "# Query all users\n",
        "print(\"All users:\")\n",
        "users = session.query(User).all()\n",
        "for user in users:\n",
        "    print(user.id, user.name, user.age, user.department)\n"
      ],
      "metadata": {
        "colab": {
          "base_uri": "https://localhost:8080/"
        },
        "id": "tv3zp1H7dr3A",
        "outputId": "bca77aa8-85b6-4b73-9f2b-4c0c1cf223b3"
      },
      "execution_count": 48,
      "outputs": [
        {
          "output_type": "stream",
          "name": "stdout",
          "text": [
            "All users:\n",
            "2024-02-16 10:32:05,719 INFO sqlalchemy.engine.Engine BEGIN (implicit)\n"
          ]
        },
        {
          "output_type": "stream",
          "name": "stderr",
          "text": [
            "INFO:sqlalchemy.engine.Engine:BEGIN (implicit)\n"
          ]
        },
        {
          "output_type": "stream",
          "name": "stdout",
          "text": [
            "2024-02-16 10:32:05,725 INFO sqlalchemy.engine.Engine SELECT users.id AS users_id, users.name AS users_name, users.age AS users_age, users.department AS users_department \n",
            "FROM users\n"
          ]
        },
        {
          "output_type": "stream",
          "name": "stderr",
          "text": [
            "INFO:sqlalchemy.engine.Engine:SELECT users.id AS users_id, users.name AS users_name, users.age AS users_age, users.department AS users_department \n",
            "FROM users\n"
          ]
        },
        {
          "output_type": "stream",
          "name": "stdout",
          "text": [
            "2024-02-16 10:32:05,728 INFO sqlalchemy.engine.Engine [generated in 0.00378s] ()\n"
          ]
        },
        {
          "output_type": "stream",
          "name": "stderr",
          "text": [
            "INFO:sqlalchemy.engine.Engine:[generated in 0.00378s] ()\n"
          ]
        },
        {
          "output_type": "stream",
          "name": "stdout",
          "text": [
            "1 John Doe 30 HR\n",
            "2 Jane Smith 35 Engineering\n"
          ]
        }
      ]
    },
    {
      "cell_type": "code",
      "source": [
        "# Query all users\n",
        "print(\"All users:\")\n",
        "users = session.query(User).all()\n",
        "for user in users:\n",
        "    print(user.id, user.name, user.age, user.department)\n"
      ],
      "metadata": {
        "colab": {
          "base_uri": "https://localhost:8080/"
        },
        "id": "dOqIurg6Zjz9",
        "outputId": "520fed1a-4fae-446d-e023-2b56eddee02e"
      },
      "execution_count": 49,
      "outputs": [
        {
          "output_type": "stream",
          "name": "stdout",
          "text": [
            "All users:\n",
            "2024-02-16 10:32:08,059 INFO sqlalchemy.engine.Engine SELECT users.id AS users_id, users.name AS users_name, users.age AS users_age, users.department AS users_department \n",
            "FROM users\n"
          ]
        },
        {
          "output_type": "stream",
          "name": "stderr",
          "text": [
            "INFO:sqlalchemy.engine.Engine:SELECT users.id AS users_id, users.name AS users_name, users.age AS users_age, users.department AS users_department \n",
            "FROM users\n"
          ]
        },
        {
          "output_type": "stream",
          "name": "stdout",
          "text": [
            "2024-02-16 10:32:08,063 INFO sqlalchemy.engine.Engine [cached since 2.338s ago] ()\n"
          ]
        },
        {
          "output_type": "stream",
          "name": "stderr",
          "text": [
            "INFO:sqlalchemy.engine.Engine:[cached since 2.338s ago] ()\n"
          ]
        },
        {
          "output_type": "stream",
          "name": "stdout",
          "text": [
            "1 John Doe 30 HR\n",
            "2 Jane Smith 35 Engineering\n"
          ]
        }
      ]
    },
    {
      "cell_type": "code",
      "source": [
        "# Update a user's age\n",
        "user1.age = 40\n",
        "session.commit()"
      ],
      "metadata": {
        "colab": {
          "base_uri": "https://localhost:8080/"
        },
        "id": "rf4kMsS8ZpQX",
        "outputId": "4e579958-ed3c-4b9b-d400-be61e27efa96"
      },
      "execution_count": 50,
      "outputs": [
        {
          "output_type": "stream",
          "name": "stdout",
          "text": [
            "2024-02-16 10:32:11,206 INFO sqlalchemy.engine.Engine UPDATE users SET age=? WHERE users.id = ?\n"
          ]
        },
        {
          "output_type": "stream",
          "name": "stderr",
          "text": [
            "INFO:sqlalchemy.engine.Engine:UPDATE users SET age=? WHERE users.id = ?\n"
          ]
        },
        {
          "output_type": "stream",
          "name": "stdout",
          "text": [
            "2024-02-16 10:32:11,209 INFO sqlalchemy.engine.Engine [generated in 0.00322s] (40, 1)\n"
          ]
        },
        {
          "output_type": "stream",
          "name": "stderr",
          "text": [
            "INFO:sqlalchemy.engine.Engine:[generated in 0.00322s] (40, 1)\n"
          ]
        },
        {
          "output_type": "stream",
          "name": "stdout",
          "text": [
            "2024-02-16 10:32:11,216 INFO sqlalchemy.engine.Engine COMMIT\n"
          ]
        },
        {
          "output_type": "stream",
          "name": "stderr",
          "text": [
            "INFO:sqlalchemy.engine.Engine:COMMIT\n"
          ]
        }
      ]
    },
    {
      "cell_type": "code",
      "source": [
        "# Query all users\n",
        "print(\"All users:\")\n",
        "users = session.query(User).all()\n",
        "for user in users:\n",
        "    print(user.id, user.name, user.age, user.department)\n"
      ],
      "metadata": {
        "colab": {
          "base_uri": "https://localhost:8080/"
        },
        "id": "-XPXLrKIZx73",
        "outputId": "41e0410e-d07e-4b81-9bc6-e310bb7ddafb"
      },
      "execution_count": 51,
      "outputs": [
        {
          "output_type": "stream",
          "name": "stdout",
          "text": [
            "All users:\n",
            "2024-02-16 10:32:12,231 INFO sqlalchemy.engine.Engine BEGIN (implicit)\n"
          ]
        },
        {
          "output_type": "stream",
          "name": "stderr",
          "text": [
            "INFO:sqlalchemy.engine.Engine:BEGIN (implicit)\n"
          ]
        },
        {
          "output_type": "stream",
          "name": "stdout",
          "text": [
            "2024-02-16 10:32:12,236 INFO sqlalchemy.engine.Engine SELECT users.id AS users_id, users.name AS users_name, users.age AS users_age, users.department AS users_department \n",
            "FROM users\n"
          ]
        },
        {
          "output_type": "stream",
          "name": "stderr",
          "text": [
            "INFO:sqlalchemy.engine.Engine:SELECT users.id AS users_id, users.name AS users_name, users.age AS users_age, users.department AS users_department \n",
            "FROM users\n"
          ]
        },
        {
          "output_type": "stream",
          "name": "stdout",
          "text": [
            "2024-02-16 10:32:12,241 INFO sqlalchemy.engine.Engine [cached since 6.517s ago] ()\n"
          ]
        },
        {
          "output_type": "stream",
          "name": "stderr",
          "text": [
            "INFO:sqlalchemy.engine.Engine:[cached since 6.517s ago] ()\n"
          ]
        },
        {
          "output_type": "stream",
          "name": "stdout",
          "text": [
            "1 John Doe 40 HR\n",
            "2 Jane Smith 35 Engineering\n"
          ]
        }
      ]
    },
    {
      "cell_type": "code",
      "source": [
        "# Query users with age greater than 35\n",
        "print(\"Users with age greater than 35:\")\n",
        "users = session.query(User).filter(User.age > 35).all()\n",
        "for user in users:\n",
        "    print(user.id, user.name, user.age, user.department)\n"
      ],
      "metadata": {
        "colab": {
          "base_uri": "https://localhost:8080/"
        },
        "id": "GKZWsxpwZ4-o",
        "outputId": "20cb8574-6826-4bb5-ac8d-61fd6c5a03cc"
      },
      "execution_count": 52,
      "outputs": [
        {
          "output_type": "stream",
          "name": "stdout",
          "text": [
            "Users with age greater than 35:\n",
            "2024-02-16 10:32:15,037 INFO sqlalchemy.engine.Engine SELECT users.id AS users_id, users.name AS users_name, users.age AS users_age, users.department AS users_department \n",
            "FROM users \n",
            "WHERE users.age > ?\n"
          ]
        },
        {
          "output_type": "stream",
          "name": "stderr",
          "text": [
            "INFO:sqlalchemy.engine.Engine:SELECT users.id AS users_id, users.name AS users_name, users.age AS users_age, users.department AS users_department \n",
            "FROM users \n",
            "WHERE users.age > ?\n"
          ]
        },
        {
          "output_type": "stream",
          "name": "stdout",
          "text": [
            "2024-02-16 10:32:15,041 INFO sqlalchemy.engine.Engine [generated in 0.00475s] (35,)\n"
          ]
        },
        {
          "output_type": "stream",
          "name": "stderr",
          "text": [
            "INFO:sqlalchemy.engine.Engine:[generated in 0.00475s] (35,)\n"
          ]
        },
        {
          "output_type": "stream",
          "name": "stdout",
          "text": [
            "1 John Doe 40 HR\n"
          ]
        }
      ]
    },
    {
      "cell_type": "code",
      "source": [
        "# Delete a user\n",
        "session.delete(user2)\n",
        "session.commit()"
      ],
      "metadata": {
        "colab": {
          "base_uri": "https://localhost:8080/"
        },
        "id": "YY9fEQ24aGps",
        "outputId": "a7f03ad1-e3b3-4d05-ffdb-250f3c4cd5c1"
      },
      "execution_count": 53,
      "outputs": [
        {
          "output_type": "stream",
          "name": "stdout",
          "text": [
            "2024-02-16 10:32:19,842 INFO sqlalchemy.engine.Engine DELETE FROM users WHERE users.id = ?\n"
          ]
        },
        {
          "output_type": "stream",
          "name": "stderr",
          "text": [
            "INFO:sqlalchemy.engine.Engine:DELETE FROM users WHERE users.id = ?\n"
          ]
        },
        {
          "output_type": "stream",
          "name": "stdout",
          "text": [
            "2024-02-16 10:32:19,845 INFO sqlalchemy.engine.Engine [generated in 0.00380s] (2,)\n"
          ]
        },
        {
          "output_type": "stream",
          "name": "stderr",
          "text": [
            "INFO:sqlalchemy.engine.Engine:[generated in 0.00380s] (2,)\n"
          ]
        },
        {
          "output_type": "stream",
          "name": "stdout",
          "text": [
            "2024-02-16 10:32:19,849 INFO sqlalchemy.engine.Engine COMMIT\n"
          ]
        },
        {
          "output_type": "stream",
          "name": "stderr",
          "text": [
            "INFO:sqlalchemy.engine.Engine:COMMIT\n"
          ]
        }
      ]
    },
    {
      "cell_type": "code",
      "source": [
        "# Query all users\n",
        "print(\"All users:\")\n",
        "users = session.query(User).all()\n",
        "for user in users:\n",
        "    print(user.id, user.name, user.age, user.department)\n"
      ],
      "metadata": {
        "colab": {
          "base_uri": "https://localhost:8080/"
        },
        "id": "7bDMcp0aaKHF",
        "outputId": "850ad4ab-11ed-4b30-b838-cabadc78ef22"
      },
      "execution_count": 54,
      "outputs": [
        {
          "output_type": "stream",
          "name": "stdout",
          "text": [
            "All users:\n",
            "2024-02-16 10:32:23,050 INFO sqlalchemy.engine.Engine BEGIN (implicit)\n"
          ]
        },
        {
          "output_type": "stream",
          "name": "stderr",
          "text": [
            "INFO:sqlalchemy.engine.Engine:BEGIN (implicit)\n"
          ]
        },
        {
          "output_type": "stream",
          "name": "stdout",
          "text": [
            "2024-02-16 10:32:23,057 INFO sqlalchemy.engine.Engine SELECT users.id AS users_id, users.name AS users_name, users.age AS users_age, users.department AS users_department \n",
            "FROM users\n"
          ]
        },
        {
          "output_type": "stream",
          "name": "stderr",
          "text": [
            "INFO:sqlalchemy.engine.Engine:SELECT users.id AS users_id, users.name AS users_name, users.age AS users_age, users.department AS users_department \n",
            "FROM users\n"
          ]
        },
        {
          "output_type": "stream",
          "name": "stdout",
          "text": [
            "2024-02-16 10:32:23,060 INFO sqlalchemy.engine.Engine [cached since 17.33s ago] ()\n"
          ]
        },
        {
          "output_type": "stream",
          "name": "stderr",
          "text": [
            "INFO:sqlalchemy.engine.Engine:[cached since 17.33s ago] ()\n"
          ]
        },
        {
          "output_type": "stream",
          "name": "stdout",
          "text": [
            "1 John Doe 40 HR\n"
          ]
        }
      ]
    },
    {
      "cell_type": "code",
      "source": [
        "# Close the session\n",
        "session.close()"
      ],
      "metadata": {
        "colab": {
          "base_uri": "https://localhost:8080/"
        },
        "id": "DsIEN3fTaRAO",
        "outputId": "da111892-c913-4e10-8aa0-865e08dffd02"
      },
      "execution_count": 55,
      "outputs": [
        {
          "output_type": "stream",
          "name": "stdout",
          "text": [
            "2024-02-16 10:32:26,634 INFO sqlalchemy.engine.Engine ROLLBACK\n"
          ]
        },
        {
          "output_type": "stream",
          "name": "stderr",
          "text": [
            "INFO:sqlalchemy.engine.Engine:ROLLBACK\n"
          ]
        }
      ]
    },
    {
      "cell_type": "code",
      "source": [
        "# Reopen the database and display all existing rows\n",
        "session = Session()\n",
        "existing_users = session.query(User).all()\n",
        "print(\"Number of existing users:\", len(existing_users))\n",
        "\n",
        "# Close the session again\n",
        "session.close()\n",
        "\n",
        "# Try to access the objects from the closed session\n",
        "# This will result in an error because the session is closed\n",
        "try:\n",
        "    print(\"Number of existing users:\", len(existing_users))\n",
        "except Exception as e:\n",
        "    print(\"Error:\", e)"
      ],
      "metadata": {
        "colab": {
          "base_uri": "https://localhost:8080/"
        },
        "id": "zcdQXgAqeiJq",
        "outputId": "4df73e22-cdb7-4edf-bf80-7cea1efcc545"
      },
      "execution_count": 58,
      "outputs": [
        {
          "output_type": "stream",
          "name": "stdout",
          "text": [
            "2024-02-16 10:41:05,937 INFO sqlalchemy.engine.Engine BEGIN (implicit)\n"
          ]
        },
        {
          "output_type": "stream",
          "name": "stderr",
          "text": [
            "INFO:sqlalchemy.engine.Engine:BEGIN (implicit)\n"
          ]
        },
        {
          "output_type": "stream",
          "name": "stdout",
          "text": [
            "2024-02-16 10:41:05,943 INFO sqlalchemy.engine.Engine SELECT users.id AS users_id, users.name AS users_name, users.age AS users_age, users.department AS users_department \n",
            "FROM users\n"
          ]
        },
        {
          "output_type": "stream",
          "name": "stderr",
          "text": [
            "INFO:sqlalchemy.engine.Engine:SELECT users.id AS users_id, users.name AS users_name, users.age AS users_age, users.department AS users_department \n",
            "FROM users\n"
          ]
        },
        {
          "output_type": "stream",
          "name": "stdout",
          "text": [
            "2024-02-16 10:41:05,946 INFO sqlalchemy.engine.Engine [cached since 540.2s ago] ()\n"
          ]
        },
        {
          "output_type": "stream",
          "name": "stderr",
          "text": [
            "INFO:sqlalchemy.engine.Engine:[cached since 540.2s ago] ()\n"
          ]
        },
        {
          "output_type": "stream",
          "name": "stdout",
          "text": [
            "Number of existing users: 1\n",
            "2024-02-16 10:41:05,950 INFO sqlalchemy.engine.Engine ROLLBACK\n"
          ]
        },
        {
          "output_type": "stream",
          "name": "stderr",
          "text": [
            "INFO:sqlalchemy.engine.Engine:ROLLBACK\n"
          ]
        },
        {
          "output_type": "stream",
          "name": "stdout",
          "text": [
            "Number of existing users: 1\n"
          ]
        }
      ]
    }
  ]
}
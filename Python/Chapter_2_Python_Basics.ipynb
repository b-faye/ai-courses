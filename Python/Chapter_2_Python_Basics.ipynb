{
  "nbformat": 4,
  "nbformat_minor": 0,
  "metadata": {
    "colab": {
      "provenance": []
    },
    "kernelspec": {
      "name": "python3",
      "display_name": "Python 3"
    },
    "language_info": {
      "name": "python"
    }
  },
  "cells": [
    {
      "cell_type": "markdown",
      "source": [
        "**Plan:**\n",
        "\n",
        "**1. Variables, data types, and operators**\n",
        "\n",
        "**2. Control flow: if statements, loops, and branching**\n",
        "\n",
        "**3. Functions and modules**"
      ],
      "metadata": {
        "id": "WsEx0jOtVRoP"
      }
    },
    {
      "cell_type": "markdown",
      "source": [
        "**<h1>1. Variables data types, and operators</h1>**"
      ],
      "metadata": {
        "id": "CWtlTm_hVoPb"
      }
    },
    {
      "cell_type": "markdown",
      "source": [
        "**<h2>Introduction to variables</h2>**"
      ],
      "metadata": {
        "id": "ADF4zE8gWetX"
      }
    },
    {
      "cell_type": "markdown",
      "source": [
        "Variables are used to store data in a program. In Python, you don't need to declare the type of a variable explicitly. The interpreter automatically detects the data type based on the value assigned to it."
      ],
      "metadata": {
        "id": "UMhSu6PbXBhh"
      }
    },
    {
      "cell_type": "code",
      "source": [
        "# Variable declaration and assignment\n",
        "x = 5\n",
        "y = \"Hello, world!\"\n",
        "\n",
        "# Printing variables\n",
        "print(x)  # Output: 5\n",
        "print(y)  # Output: Hello, world!"
      ],
      "metadata": {
        "id": "c1ts4jGsW8JJ"
      },
      "execution_count": null,
      "outputs": []
    },
    {
      "cell_type": "markdown",
      "source": [
        "**Exercise:**<br>\n",
        "Declare three variables: name, age, and city, assign values of your choice to them, and print them out."
      ],
      "metadata": {
        "id": "d25ooKeoXOvu"
      }
    },
    {
      "cell_type": "markdown",
      "source": [
        "---------------------------------------------------------------------------"
      ],
      "metadata": {
        "id": "80DCNrvjYNiY"
      }
    },
    {
      "cell_type": "markdown",
      "source": [
        "**<h2>Data Types</h2>**"
      ],
      "metadata": {
        "id": "XistRSUWXdd3"
      }
    },
    {
      "cell_type": "markdown",
      "source": [
        "Python supports various data types such as integers, floats, strings, lists, tuples, dictionaries, etc. Each data type has its own characteristics and uses."
      ],
      "metadata": {
        "id": "EeBnL13jXnwm"
      }
    },
    {
      "cell_type": "code",
      "source": [
        "# Integer\n",
        "num1 = 10\n",
        "\n",
        "# Float\n",
        "num2 = 3.14\n",
        "\n",
        "# String\n",
        "text = \"Python Programming\"\n",
        "\n",
        "# Boolean\n",
        "is_true = True\n",
        "\n",
        "# List\n",
        "my_list = [1, 2, 3, 4, 5]\n",
        "\n",
        "# Tuple\n",
        "my_tuple = (1, 2, 3)\n",
        "\n",
        "# Set\n",
        "my_set = {1, 2, 3}\n",
        "\n",
        "# Dictionary\n",
        "my_dict = {'name': 'John', 'age': 30}"
      ],
      "metadata": {
        "id": "9DPjj2TVXrEf"
      },
      "execution_count": null,
      "outputs": []
    },
    {
      "cell_type": "markdown",
      "source": [
        "**Exercise:**<br>\n",
        "Create variables of different data types and print their types using the **type()** function."
      ],
      "metadata": {
        "id": "aFAwjJFEYS9E"
      }
    },
    {
      "cell_type": "markdown",
      "source": [
        "---------------------------------------------------------------------------"
      ],
      "metadata": {
        "id": "HW9PW2GXYFp7"
      }
    },
    {
      "cell_type": "markdown",
      "source": [
        "**<h2>Operators</h2>**"
      ],
      "metadata": {
        "id": "rDMKsUuuYkVo"
      }
    },
    {
      "cell_type": "markdown",
      "source": [
        "Operators are used to perform operations on variables and values. Python supports various types of operators such as arithmetic, assignment, comparison, logical, etc."
      ],
      "metadata": {
        "id": "JS7276PCYrA2"
      }
    },
    {
      "cell_type": "code",
      "source": [
        "# Arithmetic Operators\n",
        "a = 10\n",
        "b = 5\n",
        "print(a + b)  # Addition\n",
        "print(a - b)  # Subtraction\n",
        "print(a * b)  # Multiplication\n",
        "print(a / b)  # Division\n",
        "print(a % b)  # Modulus\n",
        "print(a ** b)  # Exponentiation\n",
        "print(a // b)  # Floor Division\n",
        "\n",
        "# Assignment Operators\n",
        "x = 5\n",
        "x += 3  # Equivalent to x = x + 3\n",
        "print(x)  # Output: 8\n",
        "\n",
        "# Comparison Operators\n",
        "print(5 > 3)   # Output: True\n",
        "print(5 == 3)  # Output: False\n",
        "print(5 != 3)  # Output: True\n",
        "\n",
        "# Logical Operators\n",
        "print(True and False)  # Output: False\n",
        "print(True or False)   # Output: True\n",
        "print(not True)        # Output: False"
      ],
      "metadata": {
        "id": "AI2F7cB1Ymy6"
      },
      "execution_count": null,
      "outputs": []
    },
    {
      "cell_type": "markdown",
      "source": [
        "**Exercise:**<br>\n",
        "Write a program that calculates the area of a rectangle using variables for length and width. Then, print out the result.\n",
        "\n",
        "**Formula:** area of rectangele = length * width"
      ],
      "metadata": {
        "id": "MffzAT_-ZPaO"
      }
    },
    {
      "cell_type": "markdown",
      "source": [
        "**<h1>2. Control flow: if statements, loops, and branching</h1>**"
      ],
      "metadata": {
        "id": "2tojIy4WZyZY"
      }
    },
    {
      "cell_type": "markdown",
      "source": [
        "**<h2>Introduction to If Statements</h2>**"
      ],
      "metadata": {
        "id": "HCceQQ1BagDK"
      }
    },
    {
      "cell_type": "markdown",
      "source": [
        "If statements are used for decision-making in Python. They allow you to execute certain blocks of code based on conditions."
      ],
      "metadata": {
        "id": "Zn3aFNpSaqP5"
      }
    },
    {
      "cell_type": "code",
      "source": [
        "# If statement\n",
        "x = 10\n",
        "if x > 5:\n",
        "    print(\"x is greater than 5\")"
      ],
      "metadata": {
        "id": "7qpcgz1ialRv"
      },
      "execution_count": null,
      "outputs": []
    },
    {
      "cell_type": "markdown",
      "source": [
        "**Exercise:**<br>\n",
        "Write a program that checks if a given number is even or odd using an if statement and prints out the result."
      ],
      "metadata": {
        "id": "SFSLSmN_a4EM"
      }
    },
    {
      "cell_type": "markdown",
      "source": [
        "---------------------------------------------------------------------------"
      ],
      "metadata": {
        "id": "I5WPjetSj8Td"
      }
    },
    {
      "cell_type": "markdown",
      "source": [
        "**<h2>Branching - elif and else</h2>**"
      ],
      "metadata": {
        "id": "_eFAUHaQbH4E"
      }
    },
    {
      "cell_type": "markdown",
      "source": [
        "Branching allows you to handle multiple conditions using elif and else statements."
      ],
      "metadata": {
        "id": "CkUCToMqbhl-"
      }
    },
    {
      "cell_type": "code",
      "source": [
        "# Branching with if, elif, and else\n",
        "x = 10\n",
        "if x > 10:\n",
        "    print(\"x is greater than 10\")\n",
        "elif x < 10:\n",
        "    print(\"x is less than 10\")\n",
        "else:\n",
        "    print(\"x is equal to 10\")\n"
      ],
      "metadata": {
        "id": "f8ZXvkokbMzB"
      },
      "execution_count": null,
      "outputs": []
    },
    {
      "cell_type": "markdown",
      "source": [
        "**Exercise:**<br>\n",
        "Write a program that takes a user input for their age and prints out messages according to the following conditions:\n",
        "\n",
        "- If age is less than 18, print \"You are a minor.\"\n",
        "- If age is between 18 and 65 (inclusive), print \"You are an adult.\"\n",
        "- If age is greater than 65, print \"You are a senior citizen.\""
      ],
      "metadata": {
        "id": "no4wvUQZbu4l"
      }
    },
    {
      "cell_type": "markdown",
      "source": [
        "---------------------------------------------------------------------------"
      ],
      "metadata": {
        "id": "di4nPhcwj4Si"
      }
    },
    {
      "cell_type": "markdown",
      "source": [
        "**<h2>Loops - For and While</h2>**"
      ],
      "metadata": {
        "id": "3btq_IFScRaJ"
      }
    },
    {
      "cell_type": "markdown",
      "source": [
        "Loops are used to iterate over a sequence of elements or execute a block of code repeatedly until a condition is met."
      ],
      "metadata": {
        "id": "Kl-BDdYmcWrm"
      }
    },
    {
      "cell_type": "code",
      "source": [
        "# For loop\n",
        "for i in range(5):\n",
        "    print(i)  # Output: 0 1 2 3 4"
      ],
      "metadata": {
        "id": "Cg1Dfh5Cclt-"
      },
      "execution_count": null,
      "outputs": []
    },
    {
      "cell_type": "code",
      "source": [
        "# While loop\n",
        "x = 0\n",
        "while x < 5:\n",
        "    print(x)\n",
        "    x += 1  # Increment x by 1 in each iteration"
      ],
      "metadata": {
        "id": "68KF_Z8jceXe"
      },
      "execution_count": null,
      "outputs": []
    },
    {
      "cell_type": "markdown",
      "source": [
        "**Exercise:**<br>\n",
        "Write a program that prints all the even numbers between 1 and 20 using a for loop."
      ],
      "metadata": {
        "id": "P-4vscegcuwD"
      }
    },
    {
      "cell_type": "markdown",
      "source": [
        "#**2. Control flow: if statements, loops, and branching**"
      ],
      "metadata": {
        "id": "dbGhlVpIeEkM"
      }
    },
    {
      "cell_type": "markdown",
      "source": [
        "**<h2>Introduction to Functions</h2>**"
      ],
      "metadata": {
        "id": "ojk7ZnoieLR1"
      }
    },
    {
      "cell_type": "markdown",
      "source": [
        "Functions are blocks of reusable code that perform a specific task. They help in organizing code and promoting reusability."
      ],
      "metadata": {
        "id": "W0Q50QDUedMK"
      }
    },
    {
      "cell_type": "code",
      "source": [
        "# Defining a function\n",
        "def greet():\n",
        "    print(\"Hello, welcome to Python!\")\n",
        "\n",
        "# Calling the function\n",
        "greet()  # Output: Hello, welcome to Python!"
      ],
      "metadata": {
        "id": "C5uNisf3eknK"
      },
      "execution_count": null,
      "outputs": []
    },
    {
      "cell_type": "markdown",
      "source": [
        "**Exercise:**<br>\n",
        "Write a function called calculate_area that takes the length and width of a rectangle as parameters and returns the area. Test the function with different values."
      ],
      "metadata": {
        "id": "3_9RoOdgeyzX"
      }
    },
    {
      "cell_type": "markdown",
      "source": [
        "---------------------------------------------------------------------------"
      ],
      "metadata": {
        "id": "4JAH_hwdgWau"
      }
    },
    {
      "cell_type": "markdown",
      "source": [
        "**<h2>Introduction to Functions</h2>**"
      ],
      "metadata": {
        "id": "J8huheBne_Y0"
      }
    },
    {
      "cell_type": "markdown",
      "source": [
        "Functions can take parameters as input and return values as output."
      ],
      "metadata": {
        "id": "IFGA8gwSfFzc"
      }
    },
    {
      "cell_type": "code",
      "source": [
        "# Function with parameters and return value\n",
        "def add(a, b):\n",
        "    return a + b\n",
        "\n",
        "result = add(5, 3)\n",
        "print(result)  # Output: 8"
      ],
      "metadata": {
        "id": "FIjSoBBwexuh"
      },
      "execution_count": null,
      "outputs": []
    },
    {
      "cell_type": "markdown",
      "source": [
        "Exercise:\n",
        "Write a function called calculate_volume that takes the length, width, and height of a rectangular prism as parameters and returns the volume.\n",
        "\n",
        "**Formula:** volume prism = length × width × height"
      ],
      "metadata": {
        "id": "p-OzzNMgfazB"
      }
    },
    {
      "cell_type": "markdown",
      "source": [
        "---------------------------------------------------------------------------"
      ],
      "metadata": {
        "id": "cdAPNCUJgaAY"
      }
    },
    {
      "cell_type": "markdown",
      "source": [
        "**<h2>Modules</h2>**"
      ],
      "metadata": {
        "id": "Si6NoAaZgboK"
      }
    },
    {
      "cell_type": "markdown",
      "source": [
        "Modules are files containing Python code. They can define functions, classes, and variables. You can use the functions defined in a module by importing it."
      ],
      "metadata": {
        "id": "8ELHMpgLgnJe"
      }
    },
    {
      "cell_type": "code",
      "source": [
        "# Importing a module\n",
        "import math\n",
        "\n",
        "# Using a function from the math module\n",
        "print(math.sqrt(16))  # Output: 4.0"
      ],
      "metadata": {
        "id": "vrBMbBEUgmLl"
      },
      "execution_count": null,
      "outputs": []
    },
    {
      "cell_type": "markdown",
      "source": [
        "**Exercise:**<br>\n",
        "Create a Python module named **calculator.py** that contains functions for addition, subtraction, multiplication, and division. Import this module into your main program and use these functions to perform arithmetic operations."
      ],
      "metadata": {
        "id": "ZYh8qLqrgyEV"
      }
    },
    {
      "cell_type": "markdown",
      "source": [
        "---------------------------------------------------------------------------"
      ],
      "metadata": {
        "id": "a52WmPEYib8d"
      }
    },
    {
      "cell_type": "markdown",
      "source": [
        "\n",
        "\n",
        "1. **Math Module** (`math`):\n",
        "   Provides mathematical functions like `sqrt()`, `sin()`, `cos()`, etc.\n",
        "   ```python\n",
        "   import math\n",
        "   print(math.sqrt(25))  # Output: 5.0\n",
        "   ```\n",
        "\n",
        "2. **Random Module** (`random`):\n",
        "   Used for generating random numbers and shuffling sequences.\n",
        "   ```python\n",
        "   import random\n",
        "   print(random.randint(1, 10))  # Output: Random integer between 1 and 10\n",
        "   ```\n",
        "\n",
        "3. **Datetime Module** (`datetime`):\n",
        "   Helps in working with dates and times.\n",
        "   ```python\n",
        "   import datetime\n",
        "   now = datetime.datetime.now()\n",
        "   print(now)  # Output: Current date and time\n",
        "   ```\n",
        "\n",
        "4. **OS Module** (`os`):\n",
        "   Provides a portable way to interact with the operating system.\n",
        "   ```python\n",
        "   import os\n",
        "   print(os.getcwd())  # Output: Current working directory\n",
        "   ```\n",
        "\n",
        "5. **Sys Module** (`sys`):\n",
        "   Provides access to some variables used or maintained by the Python interpreter.\n",
        "   ```python\n",
        "   import sys\n",
        "   print(sys.platform)  # Output: Operating system platform\n",
        "   ```\n",
        "\n",
        "6. **JSON Module** (`json`):\n",
        "   Used for encoding and decoding JSON data.\n",
        "   ```python\n",
        "   import json\n",
        "   data = '{\"name\": \"John\", \"age\": 30}'\n",
        "   parsed_data = json.loads(data)\n",
        "   print(parsed_data['name'])  # Output: John\n",
        "   ```\n",
        "\n",
        "7. **Requests Module** (`requests`):\n",
        "   Used for making HTTP requests.\n",
        "   ```python\n",
        "   import requests\n",
        "   response = requests.get('https://api.example.com/data')\n",
        "   print(response.json())  # Output: Parsed JSON response\n",
        "   ```\n",
        "\n",
        "8. **CSV Module** (`csv`):\n",
        "   Helps in reading and writing CSV files.\n",
        "   ```python\n",
        "   import csv\n",
        "   with open('data.csv', 'r') as file:\n",
        "       reader = csv.reader(file)\n",
        "       for row in reader:\n",
        "           print(row)\n",
        "   ```\n",
        "\n",
        "9. **Pandas Module** (`pandas`):\n",
        "   Provides data structures and data analysis tools.\n",
        "   ```python\n",
        "   import pandas as pd\n",
        "   df = pd.read_csv('data.csv')\n",
        "   print(df.head())  # Output: First 5 rows of the DataFrame\n",
        "   ```\n",
        "\n",
        "10. **Matplotlib Module** (`matplotlib`):\n",
        "    Used for creating visualizations like plots, histograms, etc.\n",
        "    ```python\n",
        "    import matplotlib.pyplot as plt\n",
        "    plt.plot([1, 2, 3, 4], [1, 4, 9, 16])\n",
        "    plt.show()\n",
        "    ```"
      ],
      "metadata": {
        "id": "paPCY9rhhutC"
      }
    }
  ]
}
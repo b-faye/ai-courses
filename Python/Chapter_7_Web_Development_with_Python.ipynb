{
  "nbformat": 4,
  "nbformat_minor": 0,
  "metadata": {
    "colab": {
      "provenance": []
    },
    "kernelspec": {
      "name": "python3",
      "display_name": "Python 3"
    },
    "language_info": {
      "name": "python"
    }
  },
  "cells": [
    {
      "cell_type": "markdown",
      "source": [
        "**Plan:**\n",
        "\n",
        "**1. Flask**\n",
        "\n",
        "**2. FastAPI & Streamlit**\n",
        "\n",
        "**3. Gradio**\n",
        "\n",
        "**Others: Django and Python Dash**"
      ],
      "metadata": {
        "id": "j3-sey15B7vy"
      }
    },
    {
      "cell_type": "markdown",
      "source": [
        "# **1. Flask**"
      ],
      "metadata": {
        "id": "rQ6V9fqRB0if"
      }
    },
    {
      "cell_type": "markdown",
      "source": [
        "Flask is a lightweight and versatile web application framework written in Python. It is designed to make the process of building web applications easier and more efficient by providing a simple yet powerful toolkit for developers. Flask is known for its simplicity, flexibility, and extensibility, allowing developers to quickly create web applications ranging from small personal projects to large-scale enterprise solutions.\n",
        "\n",
        "Key features of Flask include:\n",
        "\n",
        "1. **Routing**: Flask allows developers to define URL routes and bind them to specific functions, making it easy to handle different HTTP requests (e.g., GET, POST) and serve dynamic content.\n",
        "\n",
        "2. **Templates**: Flask comes with a built-in template engine called Jinja2, which enables developers to create HTML templates with placeholders for dynamic content. This allows for the separation of logic and presentation in web applications.\n",
        "\n",
        "3. **HTTP Request Handling**: Flask provides easy access to incoming HTTP request data, allowing developers to parse form data, cookies, headers, and other request parameters effortlessly.\n",
        "\n",
        "4. **HTTP Response Handling**: With Flask, developers can generate HTTP responses dynamically, allowing for the creation of custom responses such as JSON, XML, or HTML.\n",
        "\n",
        "5. **Extension Ecosystem**: Flask has a rich ecosystem of extensions that provide additional functionality such as database integration, authentication, authorization, caching, and more. These extensions help developers enhance their applications without reinventing the wheel.\n",
        "\n",
        "6. **Development Server**: Flask comes with a built-in development server that simplifies the process of testing and debugging applications locally before deploying them to production environments.\n",
        "\n",
        "Overall, Flask empowers developers to create web applications with minimal boilerplate code, allowing them to focus on solving specific problems rather than dealing with the complexities of web development. Its simplicity and flexibility have made it a popular choice among Python developers for building web applications of all sizes and complexities."
      ],
      "metadata": {
        "id": "NJl-JnNPB3Z3"
      }
    },
    {
      "cell_type": "markdown",
      "source": [
        "**Example 1: Flask First example**"
      ],
      "metadata": {
        "id": "wQ964Q_sFI1z"
      }
    },
    {
      "cell_type": "code",
      "execution_count": null,
      "metadata": {
        "id": "Sfp4vFQcBcHD"
      },
      "outputs": [],
      "source": [
        "'''\n",
        "INSTRUCTIONS:\n",
        "\n",
        "Put this content in main.py\n",
        "To execute the code execute in the terminal, the command line:\n",
        ">>> python3 main.py\n",
        "\n",
        "'''\n",
        "from flask import Flask\n",
        "\n",
        "# Create an instance of the Flask class\n",
        "app = Flask(__name__)\n",
        "\n",
        "# Define a route and the corresponding view function\n",
        "@app.route('/')\n",
        "def hello():\n",
        "    return 'Hello, World!'\n",
        "\n",
        "# Run the application\n",
        "if __name__ == '__main__':\n",
        "    app.run(debug=True)"
      ]
    },
    {
      "cell_type": "markdown",
      "source": [
        "**Example 2: Flask with html file (flask send string data to html file (index))**"
      ],
      "metadata": {
        "id": "Iyswiw5sF4nB"
      }
    },
    {
      "cell_type": "code",
      "source": [
        "'''\n",
        "INSTRUCTIONS:\n",
        "\n",
        "Put this content in main.py\n",
        "To execute the code execute in the terminal, the command line:\n",
        ">>> python3 main.py\n",
        "\n",
        "'''\n",
        "from flask import Flask, render_template\n",
        "\n",
        "# Create an instance of the Flask class\n",
        "app = Flask(__name__)\n",
        "\n",
        "# Define a route and the corresponding view function\n",
        "@app.route('/')\n",
        "def index():\n",
        "    # Open index.html file and give it variable message to display\n",
        "    return render_template('index.html', message='Hello, World!')\n",
        "\n",
        "# Define another route\n",
        "@app.route('/about')\n",
        "def about():\n",
        "    return render_template('about.html')\n",
        "\n",
        "# Run the application\n",
        "if __name__ == '__main__':\n",
        "    app.run(debug=True)\n"
      ],
      "metadata": {
        "id": "SS_vhcy8GF7d"
      },
      "execution_count": null,
      "outputs": []
    },
    {
      "cell_type": "code",
      "source": [
        "'''\n",
        "INSTRUCTIONS:\n",
        "\n",
        "Create a directory templates using:\n",
        ">>> mkdir templates\n",
        "\n",
        "In templates directory, create a file index.html, and put this html content:\n",
        ">>> vi index.html\n",
        "\n",
        "'''\n",
        "<!DOCTYPE html>\n",
        "<html>\n",
        "<head>\n",
        "    <title>Flask Example</title>\n",
        "</head>\n",
        "<body>\n",
        "    <h1>{{ message }}</h1>\n",
        "    <p>Welcome to my Flask application!</p>\n",
        "</body>\n",
        "</html>"
      ],
      "metadata": {
        "id": "L4N5bcwKGfyV"
      },
      "execution_count": null,
      "outputs": []
    },
    {
      "cell_type": "code",
      "source": [
        "'''\n",
        "INSTRUCTIONS:\n",
        "\n",
        "In templates directory, create a file about.html, and put this html content:\n",
        ">>> vi about.html\n",
        "\n",
        "'''\n",
        "<!DOCTYPE html>\n",
        "<html>\n",
        "<head>\n",
        "    <title>About</title>\n",
        "</head>\n",
        "<body>\n",
        "    <h1>About Us</h1>\n",
        "    <p>This is a simple Flask application.</p>\n",
        "</body>\n",
        "</html>"
      ],
      "metadata": {
        "id": "g45uaAUXHSF1"
      },
      "execution_count": null,
      "outputs": []
    },
    {
      "cell_type": "markdown",
      "source": [
        "**Example 3: Flask with html file (flask send dictionary data to html file (index))**"
      ],
      "metadata": {
        "id": "LDxKHuYFMJay"
      }
    },
    {
      "cell_type": "code",
      "source": [
        "'''\n",
        "INSTRUCTIONS:\n",
        "\n",
        "Put this content in main.py\n",
        "To execute the code execute in the terminal, the command line:\n",
        ">>> python3 main.py\n",
        "\n",
        "'''\n",
        "from flask import Flask, render_template\n",
        "\n",
        "# Create an instance of the Flask class\n",
        "app = Flask(__name__)\n",
        "\n",
        "# Define a route and the corresponding view function\n",
        "@app.route('/')\n",
        "def index():\n",
        "    message_data = {\n",
        "        'title': 'Flask Example',\n",
        "        'message': 'Hello, World!',\n",
        "        'author': 'FAYE',\n",
        "        'date': 'February 16, 2024'\n",
        "    }\n",
        "    return render_template('index.html', data=message_data)\n",
        "\n",
        "# Define another route\n",
        "@app.route('/about')\n",
        "def about():\n",
        "    return render_template('about.html')\n",
        "\n",
        "# Run the application\n",
        "if __name__ == '__main__':\n",
        "    app.run(debug=True)"
      ],
      "metadata": {
        "id": "t4SNANEzMWdl"
      },
      "execution_count": null,
      "outputs": []
    },
    {
      "cell_type": "code",
      "source": [
        "'''\n",
        "INSTRUCTIONS:\n",
        "\n",
        "Create a directory templates using:\n",
        ">>> mkdir templates\n",
        "\n",
        "In templates directory, create a file index.html, and put this html content:\n",
        ">>> vi index.html\n",
        "\n",
        "'''\n",
        "<!DOCTYPE html>\n",
        "<html>\n",
        "<head>\n",
        "    <title>{{ data.title }}</title>\n",
        "    <style>\n",
        "        table {\n",
        "            border-collapse: collapse;\n",
        "            width: 50%;\n",
        "            margin: auto;\n",
        "        }\n",
        "        th, td {\n",
        "            border: 1px solid black;\n",
        "            padding: 8px;\n",
        "            text-align: left;\n",
        "        }\n",
        "        th {\n",
        "            background-color: #f2f2f2;\n",
        "        }\n",
        "    </style>\n",
        "</head>\n",
        "<body>\n",
        "    <h1>{{ data.message }}</h1>\n",
        "    <table>\n",
        "        <tr>\n",
        "            <th>Key</th>\n",
        "            <th>Value</th>\n",
        "        </tr>\n",
        "        {% for key, value in data.items() %}\n",
        "            <tr>\n",
        "                <td>{{ key }}</td>\n",
        "                <td>{{ value }}</td>\n",
        "            </tr>\n",
        "        {% endfor %}\n",
        "    </table>\n",
        "</body>\n",
        "</html>"
      ],
      "metadata": {
        "id": "SzrpjOmDMpy6"
      },
      "execution_count": null,
      "outputs": []
    },
    {
      "cell_type": "code",
      "source": [
        "'''\n",
        "INSTRUCTIONS:\n",
        "\n",
        "In templates directory, create a file about.html, and put this html content:\n",
        ">>> vi about.html\n",
        "\n",
        "'''\n",
        "<!DOCTYPE html>\n",
        "<html>\n",
        "<head>\n",
        "    <title>About</title>\n",
        "</head>\n",
        "<body>\n",
        "    <h1>About Us</h1>\n",
        "    <p>This is a simple Flask application.</p>\n",
        "</body>\n",
        "</html>"
      ],
      "metadata": {
        "id": "wJZcb5qhM2j4"
      },
      "execution_count": null,
      "outputs": []
    },
    {
      "cell_type": "markdown",
      "source": [
        "**Example 4: Flask with HTML and SQLite, display all rows in the database on index file**"
      ],
      "metadata": {
        "id": "xDB_2HqCODRZ"
      }
    },
    {
      "cell_type": "code",
      "source": [
        "'''\n",
        "INSTRUCTIONS:\n",
        "\n",
        "1. Create a sqlite database called your_database.db and\n",
        "creata in your_database a table called users by using\n",
        "the function create_database().\n",
        "\n",
        "2. Insert into the table users some samples using\n",
        "the function insert_users().\n",
        "'''\n",
        "import sqlite3\n",
        "\n",
        "def create_database():\n",
        "    connection = sqlite3.connect('your_database.db')\n",
        "    cursor = connection.cursor()\n",
        "\n",
        "    # Create a users table\n",
        "    cursor.execute('''\n",
        "        CREATE TABLE IF NOT EXISTS users (\n",
        "            id INTEGER PRIMARY KEY,\n",
        "            name TEXT NOT NULL,\n",
        "            email TEXT NOT NULL\n",
        "        )\n",
        "    ''')\n",
        "\n",
        "    connection.commit()\n",
        "    connection.close()\n",
        "\n",
        "def insert_users():\n",
        "    connection = sqlite3.connect('your_database.db')\n",
        "    cursor = connection.cursor()\n",
        "\n",
        "    # Insert some sample users\n",
        "    users = [\n",
        "        ('John Doe', 'john@example.com'),\n",
        "        ('Jane Smith', 'jane@example.com'),\n",
        "        ('Alice Johnson', 'alice@example.com')\n",
        "    ]\n",
        "\n",
        "    cursor.executemany('''\n",
        "        INSERT INTO users (name, email) VALUES (?, ?)\n",
        "    ''', users)\n",
        "\n",
        "    connection.commit()\n",
        "    connection.close()"
      ],
      "metadata": {
        "id": "r1LyytEFORgm"
      },
      "execution_count": null,
      "outputs": []
    },
    {
      "cell_type": "code",
      "source": [
        "'''\n",
        "INSTRUCTIONS:\n",
        "\n",
        "Put this content in main.py\n",
        "To execute the code execute in the terminal, the command line:\n",
        ">>> python3 main.py\n",
        "\n",
        "'''\n",
        "import sqlite3\n",
        "from flask import Flask, render_template\n",
        "\n",
        "app = Flask(__name__)\n",
        "\n",
        "# Function to fetch data from SQLite database\n",
        "def get_users_from_database():\n",
        "    connection = sqlite3.connect('your_database.db')\n",
        "    cursor = connection.cursor()\n",
        "    cursor.execute('SELECT * FROM users')\n",
        "    users = cursor.fetchall()\n",
        "    connection.close()\n",
        "    return users\n",
        "\n",
        "@app.route('/')\n",
        "def index():\n",
        "    # Fetch data from the database\n",
        "    users = get_users_from_database()\n",
        "    # Pass the data to the template\n",
        "    return render_template('index.html', users=users)\n",
        "\n",
        "if __name__ == '__main__':\n",
        "    app.run(debug=True)"
      ],
      "metadata": {
        "id": "yYM6oVblOoMe"
      },
      "execution_count": null,
      "outputs": []
    },
    {
      "cell_type": "code",
      "source": [
        "'''\n",
        "INSTRUCTIONS:\n",
        "\n",
        "Create a directory templates using:\n",
        ">>> mkdir templates\n",
        "\n",
        "In templates directory, create a file index.html, and put this html content:\n",
        ">>> vi index.html\n",
        "'''\n",
        "<!DOCTYPE html>\n",
        "<html>\n",
        "<head>\n",
        "    <title>User Data</title>\n",
        "    <style>\n",
        "        table {\n",
        "            border-collapse: collapse;\n",
        "            width: 50%;\n",
        "            margin: auto;\n",
        "        }\n",
        "        th, td {\n",
        "            border: 1px solid black;\n",
        "            padding: 8px;\n",
        "            text-align: left;\n",
        "        }\n",
        "        th {\n",
        "            background-color: #f2f2f2;\n",
        "        }\n",
        "    </style>\n",
        "</head>\n",
        "<body>\n",
        "    <h1>User Data</h1>\n",
        "    <table>\n",
        "        <tr>\n",
        "            <th>ID</th>\n",
        "            <th>Name</th>\n",
        "            <th>Email</th>\n",
        "        </tr>\n",
        "        {% for user in users %}\n",
        "            <tr>\n",
        "                <td>{{ user[0] }}</td>\n",
        "                <td>{{ user[1] }}</td>\n",
        "                <td>{{ user[2] }}</td>\n",
        "            </tr>\n",
        "        {% endfor %}\n",
        "    </table>\n",
        "</body>\n",
        "</html>"
      ],
      "metadata": {
        "id": "EuzH6vcMO9Vs"
      },
      "execution_count": null,
      "outputs": []
    },
    {
      "cell_type": "markdown",
      "source": [
        "**Flask with HTML and SQLite, add new user in the database using html**"
      ],
      "metadata": {
        "id": "5KFzP1BoPQjA"
      }
    },
    {
      "cell_type": "code",
      "source": [
        "'''\n",
        "INSTRUCTIONS:\n",
        "\n",
        "Create a directory templates using:\n",
        ">>> mkdir templates\n",
        "\n",
        "In templates directory, create a file index.html, and put this html content:\n",
        ">>> vi index.html\n",
        "'''\n",
        "<!DOCTYPE html>\n",
        "<html>\n",
        "<head>\n",
        "    <title>User Data</title>\n",
        "    <style>\n",
        "        table {\n",
        "            border-collapse: collapse;\n",
        "            width: 50%;\n",
        "            margin: auto;\n",
        "        }\n",
        "        th, td {\n",
        "            border: 1px solid black;\n",
        "            padding: 8px;\n",
        "            text-align: left;\n",
        "        }\n",
        "        th {\n",
        "            background-color: #f2f2f2;\n",
        "        }\n",
        "        form {\n",
        "            margin-top: 20px;\n",
        "        }\n",
        "    </style>\n",
        "</head>\n",
        "<body>\n",
        "    <h1>User Data</h1>\n",
        "    <table>\n",
        "        <tr>\n",
        "            <th>ID</th>\n",
        "            <th>Name</th>\n",
        "            <th>Email</th>\n",
        "        </tr>\n",
        "        {% for user in users %}\n",
        "            <tr>\n",
        "                <td>{{ user[0] }}</td>\n",
        "                <td>{{ user[1] }}</td>\n",
        "                <td>{{ user[2] }}</td>\n",
        "            </tr>\n",
        "        {% endfor %}\n",
        "    </table>\n",
        "    <h2>Add New User</h2>\n",
        "    <form action=\"/add_user\" method=\"post\">\n",
        "        <label for=\"name\">Name:</label><br>\n",
        "        <input type=\"text\" id=\"name\" name=\"name\"><br>\n",
        "        <label for=\"email\">Email:</label><br>\n",
        "        <input type=\"email\" id=\"email\" name=\"email\"><br><br>\n",
        "        <input type=\"submit\" value=\"Submit\">\n",
        "    </form>\n",
        "</body>\n",
        "</html>"
      ],
      "metadata": {
        "id": "ra9RjHsVVc8W"
      },
      "execution_count": null,
      "outputs": []
    },
    {
      "cell_type": "code",
      "source": [
        "'''\n",
        "INSTRUCTIONS:\n",
        "\n",
        "Put this content in main.py\n",
        "To execute the code execute in the terminal, the command line:\n",
        ">>> python3 main.py\n",
        "\n",
        "'''\n",
        "from flask import Flask, render_template, request, redirect\n",
        "import sqlite3\n",
        "\n",
        "app = Flask(__name__)\n",
        "\n",
        "# Function to fetch data from SQLite database\n",
        "def get_users_from_database():\n",
        "    connection = sqlite3.connect('your_database.db')\n",
        "    cursor = connection.cursor()\n",
        "    cursor.execute('SELECT * FROM users')\n",
        "    users = cursor.fetchall()\n",
        "    connection.close()\n",
        "    return users\n",
        "\n",
        "# Route to display index page\n",
        "@app.route('/')\n",
        "def index():\n",
        "    users = get_users_from_database()\n",
        "    return render_template('index.html', users=users)\n",
        "\n",
        "# Route to handle adding new user\n",
        "@app.route('/add_user', methods=['POST'])\n",
        "def add_user():\n",
        "    name = request.form['name']\n",
        "    email = request.form['email']\n",
        "    if name and email:\n",
        "        add_user_to_database(name, email)\n",
        "    return redirect('/')\n",
        "\n",
        "# Function to add a new user to the SQLite database\n",
        "def add_user_to_database(name, email):\n",
        "    connection = sqlite3.connect('your_database.db')\n",
        "    cursor = connection.cursor()\n",
        "    cursor.execute('INSERT INTO users (name, email) VALUES (?, ?)', (name, email))\n",
        "    connection.commit()\n",
        "    connection.close()\n",
        "\n",
        "if __name__ == '__main__':\n",
        "    app.run(debug=True)"
      ],
      "metadata": {
        "id": "t9NmQt9kVmpm"
      },
      "execution_count": null,
      "outputs": []
    },
    {
      "cell_type": "markdown",
      "source": [
        "# **2. FastAPI & Streamlit**"
      ],
      "metadata": {
        "id": "3xKZiYEqXOSR"
      }
    },
    {
      "cell_type": "markdown",
      "source": [
        "**<center><font size=\"+2\">FastAPI</font></center>**"
      ],
      "metadata": {
        "id": "S8kQJwiOnZ1e"
      }
    },
    {
      "cell_type": "markdown",
      "source": [
        "FastAPI is a modern, fast (hence the name), web framework for building APIs with Python. It's designed to be easy to use, fast to develop with, and highly performant. FastAPI leverages Python's type hinting system to provide automatic data validation and documentation generation, making it both efficient and self-documenting.\n",
        "\n",
        "Key features of FastAPI include:\n",
        "\n",
        "1. **Fast**: FastAPI is built on top of Starlette and Pydantic, which are asynchronous frameworks. It leverages the asynchronous capabilities of Python, making it highly performant and suitable for handling a large number of concurrent requests.\n",
        "\n",
        "2. **Easy to Use**: FastAPI is designed to be easy to learn and use. It provides a clean and intuitive syntax for defining API endpoints, request and response models, and dependencies.\n",
        "\n",
        "3. **Automatic Documentation**: FastAPI automatically generates interactive API documentation based on the Python type hints provided in the code. This documentation is generated using the OpenAPI (formerly known as Swagger) specification and can be accessed via a web browser.\n",
        "\n",
        "4. **Data Validation**: FastAPI uses Pydantic models to automatically validate request data based on the defined data types and constraints. This helps ensure that the input data is valid before processing it in the API endpoint.\n",
        "\n",
        "5. **Dependency Injection**: FastAPI supports dependency injection, allowing developers to easily inject dependencies (such as database connections, authentication logic, etc.) into their API endpoints. This promotes code reusability and makes it easy to manage dependencies across different parts of the application.\n",
        "\n",
        "6. **WebSocket Support**: FastAPI provides built-in support for handling WebSocket connections, allowing developers to build real-time applications such as chat applications, live updates, and more.\n",
        "\n",
        "7. **Security Features**: FastAPI includes features for implementing security measures such as authentication, authorization, and rate limiting. It also integrates seamlessly with popular authentication mechanisms and frameworks.\n",
        "\n",
        "8. **Asynchronous Programming**: FastAPI fully supports asynchronous programming, allowing developers to write asynchronous code using Python's async/await syntax. This enables high concurrency and scalability, especially for I/O-bound operations.\n",
        "\n",
        "Overall, FastAPI is a powerful and versatile web framework that combines the simplicity of Python with the performance and scalability of asynchronous programming. It's well-suited for building a wide range of APIs, from simple CRUD APIs to complex real-time applications."
      ],
      "metadata": {
        "id": "BXmriY9uXfFG"
      }
    },
    {
      "cell_type": "markdown",
      "source": [
        "**Example 1: Basic example**"
      ],
      "metadata": {
        "id": "dV8aviIHZIMP"
      }
    },
    {
      "cell_type": "code",
      "source": [
        "'''\n",
        "INSTRUCTIONS:\n",
        "\n",
        "Put this content in main.py\n",
        "To execute the code execute in the terminal, the command line:\n",
        ">>> uvicorn main:app --reload\n",
        "To test the code use this url:\n",
        ">>> http://127.0.0.1:8000/greet/Elon\n",
        "'''\n",
        "### Put this code on python file after intalling fastapi and uvicorn using main\n",
        "from fastapi import FastAPI\n",
        "\n",
        "# Create an instance of the FastAPI class\n",
        "app = FastAPI()\n",
        "\n",
        "# Define a route and the corresponding view function\n",
        "@app.get(\"/greet/{name}\")\n",
        "def greet(name: str):\n",
        "    return {\"message\": f\"Hello, {name}!\"}"
      ],
      "metadata": {
        "id": "9FX3JLBRWgrv"
      },
      "execution_count": null,
      "outputs": []
    },
    {
      "cell_type": "markdown",
      "source": [
        "**Example 2: Manipulate List**"
      ],
      "metadata": {
        "id": "R8MoOui6crm5"
      }
    },
    {
      "cell_type": "code",
      "source": [
        "'''\n",
        "INSTRUCTIONS:\n",
        "\n",
        "Put this content in main.py\n",
        "\n",
        "To execute the code execute in the terminal, the command line:\n",
        ">>> uvicorn main:app --reload\n",
        "\n",
        "To test the code using POST (add a new item), use this command line in the terminal:\n",
        ">>> curl -X POST \"http://localhost:8000/items/\" -H \"Content-Type: application/json\" -d '{\"name\": \"Machine Learning\", \"description\": \"Machine Learning is a field of AI, that ...\"}'\n",
        "\n",
        "To test the code using DELETE (delete an item), use this command line in the terminal:\n",
        ">>> curl -X DELETE \"http://localhost:8000/items/{item_index}\"\n",
        "\n",
        "To get an item on index item_index\n",
        ">>> http://127.0.0.1:8000/items/item_index\n",
        "'''\n",
        "from fastapi import FastAPI, HTTPException\n",
        "from pydantic import BaseModel\n",
        "from typing import List\n",
        "\n",
        "app = FastAPI()\n",
        "\n",
        "# Define a Pydantic model to represent an item\n",
        "class Item(BaseModel):\n",
        "    name: str\n",
        "    description: str = None\n",
        "\n",
        "# Create an empty list to store items\n",
        "items = []\n",
        "\n",
        "# Endpoint to add a new item to the list\n",
        "@app.post(\"/items/\", response_model=Item)\n",
        "def create_item(item: Item):\n",
        "    items.append(item)\n",
        "    return item\n",
        "\n",
        "# Endpoint to get all items\n",
        "@app.get(\"/items/\", response_model=List[Item])\n",
        "def read_items():\n",
        "    return items\n",
        "\n",
        "# Endpoint to get a single item by its index in the list\n",
        "@app.get(\"/items/{item_id}\", response_model=Item)\n",
        "def read_item(item_id: int):\n",
        "    if item_id < len(items):\n",
        "        return items[item_id]\n",
        "    raise HTTPException(status_code=404, detail=\"Item not found\")\n",
        "\n",
        "# Endpoint to delete a single item by its index in the list\n",
        "@app.delete(\"/items/{item_id}\", response_model=Item)\n",
        "def delete_item(item_id: int):\n",
        "    if item_id < len(items):\n",
        "        deleted_item = items.pop(item_id)\n",
        "        return deleted_item\n",
        "    raise HTTPException(status_code=404, detail=\"Item not found\")\n"
      ],
      "metadata": {
        "id": "M9YlFGNKcvyv"
      },
      "execution_count": null,
      "outputs": []
    },
    {
      "cell_type": "markdown",
      "source": [
        "**<center><font size=\"+2\">Streamlit</font></center>**"
      ],
      "metadata": {
        "id": "sLU1kNglnpbe"
      }
    },
    {
      "cell_type": "markdown",
      "source": [
        "Streamlit is an open-source Python library used for creating web applications with minimal effort. It allows developers to build interactive web apps quickly by leveraging their existing Python skills and without needing expertise in web development languages like HTML, CSS, or JavaScript. With Streamlit, developers can create data-driven applications for tasks such as data visualization, machine learning model deployment, prototyping, and more, all through a simple and intuitive Python script interface. Streamlit handles the web app's backend, enabling developers to focus on the functionality and visualization aspects of their applications."
      ],
      "metadata": {
        "id": "92-pot1QnU4A"
      }
    },
    {
      "cell_type": "markdown",
      "source": [
        "**Example 1: Basic test**"
      ],
      "metadata": {
        "id": "H4AO3b3X5ouP"
      }
    },
    {
      "cell_type": "code",
      "source": [
        "'''\n",
        "INSTRUCTIONS:\n",
        "\n",
        "Put this content in main.py\n",
        "To execute the code execute in the terminal, the command line:\n",
        ">>> streamlit run main.py\n",
        "\n",
        "'''\n",
        "import streamlit as st\n",
        "import numpy as np\n",
        "\n",
        "# Set page title\n",
        "st.set_page_config(page_title=\"Random Number Generator\")\n",
        "\n",
        "# Define the main content of the app\n",
        "def main():\n",
        "    st.title(\"Random Number Generator\")\n",
        "    st.write(\"Click the button below to generate a random number between 0 and 100:\")\n",
        "\n",
        "    # Generate a random number when the button is clicked\n",
        "    if st.button(\"Generate Random Number\"):\n",
        "        random_number = np.random.randint(0, 101)\n",
        "        st.success(f\"Random Number: {random_number}\")\n",
        "\n",
        "# Run the app\n",
        "if __name__ == \"__main__\":\n",
        "    main()"
      ],
      "metadata": {
        "id": "I0vYXTyhn5Qa"
      },
      "execution_count": null,
      "outputs": []
    },
    {
      "cell_type": "markdown",
      "source": [
        "**Example 2: Some functions with streamlit**"
      ],
      "metadata": {
        "id": "59QVuNcD5_je"
      }
    },
    {
      "cell_type": "markdown",
      "source": [
        "Streamlit functions (`st.`) along with comments containing examples:\n",
        "\n",
        "1. `st.title()`: Adds a title to the app.\n",
        "   ```python\n",
        "   st.title(\"Welcome to My Streamlit App\")\n",
        "   ```\n",
        "\n",
        "2. `st.write()`: Writes text or data to the app.\n",
        "   ```python\n",
        "   st.write(\"This is a Streamlit app.\")\n",
        "   ```\n",
        "\n",
        "3. `st.header()`: Adds a header to the app.\n",
        "   ```python\n",
        "   st.header(\"This is a header\")\n",
        "   ```\n",
        "\n",
        "4. `st.subheader()`: Adds a subheader to the app.\n",
        "   ```python\n",
        "   st.subheader(\"This is a subheader\")\n",
        "   ```\n",
        "\n",
        "5. `st.text()`: Displays text.\n",
        "   ```python\n",
        "   st.text(\"This is some text.\")\n",
        "   ```\n",
        "\n",
        "6. `st.markdown()`: Renders markdown text.\n",
        "   ```python\n",
        "   st.markdown(\"**This** is markdown text.\")\n",
        "   ```\n",
        "\n",
        "7. `st.image()`: Displays an image.\n",
        "   ```python\n",
        "   from PIL import Image\n",
        "   image = Image.open(\"example.png\")\n",
        "   st.image(image, caption='Sunset', use_column_width=True)\n",
        "   ```\n",
        "\n",
        "8. `st.button()`: Adds a button.\n",
        "   ```python\n",
        "   if st.button(\"Click me!\"):\n",
        "       st.write(\"Button clicked!\")\n",
        "   ```\n",
        "\n",
        "9. `st.checkbox()`: Adds a checkbox.\n",
        "   ```python\n",
        "   if st.checkbox(\"Show/hide\"):\n",
        "       st.write(\"Checkbox is checked.\")\n",
        "   ```\n",
        "\n",
        "10. `st.selectbox()`: Adds a select box.\n",
        "    ```python\n",
        "    option = st.selectbox('Choose an option', ['Option 1', 'Option 2', 'Option 3'])\n",
        "    st.write('You selected:', option)\n",
        "    ```\n",
        "\n",
        "11. `st.slider()`: Adds a slider.\n",
        "    ```python\n",
        "    value = st.slider('Select a value', 0, 100, 50)\n",
        "    st.write('Value:', value)\n",
        "    ```\n",
        "\n",
        "12. `st.text_input()`: Adds a text input box.\n",
        "    ```python\n",
        "    text = st.text_input('Enter some text')\n",
        "    st.write('You entered:', text)\n",
        "    ```\n",
        "\n",
        "13. `st.file_uploader()`: Adds a file uploader.\n",
        "    ```python\n",
        "    uploaded_file = st.file_uploader(\"Upload a file\", type=[\"csv\", \"txt\"])\n",
        "    if uploaded_file is not None:\n",
        "        data = pd.read_csv(uploaded_file)\n",
        "        st.write(data)\n",
        "    ```\n",
        "\n",
        "14. `st.pyplot()`: Displays a Matplotlib plot.\n",
        "    ```python\n",
        "    import matplotlib.pyplot as plt\n",
        "    plt.plot([1, 2, 3, 4])\n",
        "    st.pyplot()\n",
        "    ```\n",
        "\n",
        "These are just a few examples of what Streamlit offers. There are many more widgets and functionalities available in the library to create rich and interactive web applications."
      ],
      "metadata": {
        "id": "Wzzp-EBgq-WY"
      }
    },
    {
      "cell_type": "markdown",
      "source": [
        "**Example 3: Create a basic Machine Learning App, to display, visualize and train model, in a given dataset (iris in this example)**"
      ],
      "metadata": {
        "id": "BPO2e72h6MQc"
      }
    },
    {
      "cell_type": "code",
      "source": [
        "'''\n",
        "INSTRUCTIONS:\n",
        "\n",
        "Put this content in main.py\n",
        "To execute the code execute in the terminal, the command line:\n",
        ">>> streamlit run main.py\n",
        "\n",
        "'''\n",
        "import streamlit as st\n",
        "import seaborn as sns\n",
        "from sklearn import datasets\n",
        "import pandas as pd\n",
        "\n",
        "# Load the Iris dataset\n",
        "iris = datasets.load_iris()\n",
        "iris_df = pd.DataFrame(data=iris.data, columns=iris.feature_names)\n",
        "\n",
        "def main():\n",
        "    st.title(\"Iris Dataset Exploration\")\n",
        "    # Romove warnings\n",
        "\n",
        "    st.set_option('deprecation.showPyplotGlobalUse', False)\n",
        "    # Navigation Bar\n",
        "    nav_option = st.sidebar.radio(\"Navigation\", [\"Dataset\", \"Visualization\", \"Prediction\"])\n",
        "\n",
        "    if nav_option == \"Dataset\":\n",
        "        st.header(\"Iris Dataset\")\n",
        "        st.write(iris_df)\n",
        "\n",
        "    elif nav_option == \"Visualization\":\n",
        "        st.header(\"Iris Data Visualization\")\n",
        "        sns.pairplot(iris_df, diag_kind=\"kde\")\n",
        "        st.pyplot()\n",
        "\n",
        "    elif nav_option == \"Prediction\":\n",
        "        st.header(\"Iris Data Prediction\")\n",
        "        st.write(\"Prediction functionality coming soon...\")\n",
        "\n",
        "if __name__ == \"__main__\":\n",
        "    main()\n"
      ],
      "metadata": {
        "id": "NeAJ5usyyRgz"
      },
      "execution_count": null,
      "outputs": []
    },
    {
      "cell_type": "markdown",
      "source": [
        "**<center><font size=\"+2\">FastAPI & Streamlit</font></center>**"
      ],
      "metadata": {
        "id": "STjsiIHNvFdm"
      }
    },
    {
      "cell_type": "markdown",
      "source": [
        "In this example, we will use FastAPI as backend and Streamlit as front-end."
      ],
      "metadata": {
        "id": "WWA5IHr87SKp"
      }
    },
    {
      "cell_type": "markdown",
      "source": [
        "**Example 1: Using the module requests for the communication of the backend and the frontend**"
      ],
      "metadata": {
        "id": "rZKovJ6bwmg4"
      }
    },
    {
      "cell_type": "code",
      "source": [
        "# backend.py\n",
        "'''\n",
        "INSTRUCTIONS:\n",
        "\n",
        "Put this content in backend.py\n",
        "To execute the code execute in the terminal, the command line:\n",
        ">>> uvicorn backend:app --reload\n",
        "\n",
        "'''\n",
        "from fastapi import FastAPI\n",
        "import uvicorn\n",
        "\n",
        "app = FastAPI()\n",
        "\n",
        "@app.get(\"/data\")\n",
        "async def get_data():\n",
        "    return {\"data\": [1, 2, 3, 4, 5]}\n",
        "\n",
        "if __name__ == \"__main__\":\n",
        "    uvicorn.run(app, host=\"localhost\", port=8000)"
      ],
      "metadata": {
        "id": "w54C0w4Wwcfl"
      },
      "execution_count": null,
      "outputs": []
    },
    {
      "cell_type": "code",
      "source": [
        "'''\n",
        "INSTRUCTIONS:\n",
        "\n",
        "Put this content in frontend.py\n",
        "To execute the code execute in the terminal, the command line:\n",
        ">>> streamlit run frontend.py\n",
        "\n",
        "'''\n",
        "# frontend.py\n",
        "import streamlit as st\n",
        "import requests\n",
        "\n",
        "def fetch_data():\n",
        "    response = requests.get(\"http://localhost:8000/data\")\n",
        "    if response.status_code == 200:\n",
        "        return response.json()[\"data\"]\n",
        "    else:\n",
        "        return None\n",
        "\n",
        "def main():\n",
        "    st.title(\"FastAPI + Streamlit Example\")\n",
        "    st.write(\"Fetching data from FastAPI...\")\n",
        "\n",
        "    data = fetch_data()\n",
        "    if data is not None:\n",
        "        st.write(\"Data fetched successfully:\")\n",
        "        st.write(data)\n",
        "    else:\n",
        "        st.error(\"Failed to fetch data from FastAPI.\")\n",
        "\n",
        "if __name__ == \"__main__\":\n",
        "    main()\n"
      ],
      "metadata": {
        "id": "7izPprXTxBOR"
      },
      "execution_count": null,
      "outputs": []
    },
    {
      "cell_type": "markdown",
      "source": [
        "**Example 2: The backend generates a dataset and then transmits it to the frontend for presentation.**"
      ],
      "metadata": {
        "id": "Tfy8mmpG0fHl"
      }
    },
    {
      "cell_type": "code",
      "source": [
        "'''\n",
        "INSTRUCTIONS:\n",
        "\n",
        "Put this content in backend.py\n",
        "To execute the code execute in the terminal, the command line:\n",
        ">>> uvicorn backend:app --reload\n",
        "\n",
        "'''\n",
        "from fastapi import FastAPI\n",
        "from typing import List\n",
        "from pydantic import BaseModel\n",
        "\n",
        "app = FastAPI()\n",
        "\n",
        "class IrisData(BaseModel):\n",
        "    sepal_length: float\n",
        "    sepal_width: float\n",
        "    petal_length: float\n",
        "    petal_width: float\n",
        "\n",
        "# Mock data for demonstration\n",
        "fake_iris_data = [\n",
        "    {\"sepal_length\": 5.1, \"sepal_width\": 3.5, \"petal_length\": 1.4, \"petal_width\": 0.2},\n",
        "    {\"sepal_length\": 4.9, \"sepal_width\": 3.0, \"petal_length\": 1.4, \"petal_width\": 0.2},\n",
        "    {\"sepal_length\": 4.7, \"sepal_width\": 3.2, \"petal_length\": 1.3, \"petal_width\": 0.2},\n",
        "    # More mock data...\n",
        "]\n",
        "\n",
        "@app.get(\"/iris\", response_model=List[IrisData])\n",
        "async def get_iris_data():\n",
        "    return fake_iris_data\n"
      ],
      "metadata": {
        "id": "WyO71g7p0iGy"
      },
      "execution_count": null,
      "outputs": []
    },
    {
      "cell_type": "code",
      "source": [
        "'''\n",
        "INSTRUCTIONS:\n",
        "\n",
        "Put this content in frontend.py\n",
        "To execute the code execute in the terminal, the command line:\n",
        ">>> streamlit run frontend.py\n",
        "\n",
        "'''\n",
        "# streamlit_app.py\n",
        "import streamlit as st\n",
        "import requests\n",
        "import seaborn as sns\n",
        "import pandas as pd\n",
        "\n",
        "# Function to fetch Iris data from FastAPI\n",
        "def fetch_iris_data():\n",
        "    response = requests.get(\"http://localhost:8000/iris\")\n",
        "    if response.status_code == 200:\n",
        "        return response.json()\n",
        "    else:\n",
        "        return None\n",
        "\n",
        "# Function to visualize Iris data using Seaborn\n",
        "def visualize_iris_data(iris_data):\n",
        "    df = pd.DataFrame(iris_data)\n",
        "    sns.pairplot(df, kind=\"scatter\", diag_kind=\"kde\")\n",
        "    st.pyplot()\n",
        "\n",
        "def main():\n",
        "    st.title(\"Iris Dataset Exploration\")\n",
        "\n",
        "    # Navigation Bar\n",
        "    nav_option = st.sidebar.radio(\"Navigation\", [\"Dataset\", \"Visualization\", \"Prediction\"])\n",
        "\n",
        "    if nav_option == \"Dataset\":\n",
        "        st.header(\"Iris Dataset\")\n",
        "        iris_data = fetch_iris_data()\n",
        "        if iris_data:\n",
        "            st.write(pd.DataFrame(iris_data))\n",
        "\n",
        "    elif nav_option == \"Visualization\":\n",
        "        st.header(\"Iris Data Visualization\")\n",
        "        iris_data = fetch_iris_data()\n",
        "        if iris_data:\n",
        "            visualize_iris_data(iris_data)\n",
        "\n",
        "    elif nav_option == \"Prediction\":\n",
        "        st.header(\"Iris Data Prediction\")\n",
        "        st.write(\"Prediction functionality coming soon...\")\n",
        "\n",
        "if __name__ == \"__main__\":\n",
        "    main()"
      ],
      "metadata": {
        "id": "EvWtZ5lZ0l_E"
      },
      "execution_count": null,
      "outputs": []
    },
    {
      "cell_type": "markdown",
      "source": [
        "**Example 3: In the example, the frontend transmits two values to the backend, that make the sum and returns the result to the frontend.**"
      ],
      "metadata": {
        "id": "weIPaKtTgEGn"
      }
    },
    {
      "cell_type": "code",
      "source": [
        "'''\n",
        "INSTRUCTIONS:\n",
        "\n",
        "Put this content in backend.py\n",
        "To execute the code execute in the terminal, the command line:\n",
        ">>> uvicorn backend:app --reload\n",
        "\n",
        "'''\n",
        "from fastapi import FastAPI\n",
        "\n",
        "app = FastAPI()\n",
        "\n",
        "@app.get(\"/sum/{num1}/{num2}\")\n",
        "async def calculate_sum(num1: int, num2: int):\n",
        "    return {\"result\": num1 + num2}"
      ],
      "metadata": {
        "id": "NItlbreiga6B"
      },
      "execution_count": null,
      "outputs": []
    },
    {
      "cell_type": "code",
      "source": [
        "'''\n",
        "INSTRUCTIONS:\n",
        "\n",
        "Put this content in frontend.py\n",
        "To execute the code execute in the terminal, the command line:\n",
        ">>> streamlit run frontend.py\n",
        "\n",
        "'''\n",
        "# streamlit_app.py\n",
        "import streamlit as st\n",
        "import requests\n",
        "\n",
        "def main():\n",
        "    st.title('Streamlit and FastAPI Example')\n",
        "\n",
        "    # Get user input\n",
        "    num1 = st.number_input(\"Enter the first number:\", value=0)\n",
        "    num2 = st.number_input(\"Enter the second number:\", value=0)\n",
        "\n",
        "    if st.button('Calculate Sum'):\n",
        "        # Send input data to FastAPI\n",
        "        response = requests.get(f'http://localhost:8000/sum/{num1}/{num2}')\n",
        "\n",
        "        if response.status_code == 200:\n",
        "            result = response.json()['result']\n",
        "            st.success(f\"The sum of {num1} and {num2} is: {result}\")\n",
        "        else:\n",
        "            st.error(\"Failed to calculate sum\")\n",
        "\n",
        "\n",
        "if __name__ == \"__main__\":\n",
        "    main()"
      ],
      "metadata": {
        "id": "Oa-cV1tQgzeO"
      },
      "execution_count": null,
      "outputs": []
    },
    {
      "cell_type": "markdown",
      "source": [
        "# **3. Gradio**"
      ],
      "metadata": {
        "id": "k2HwR_Ki0--l"
      }
    },
    {
      "cell_type": "markdown",
      "source": [
        "Gradio is an open-source Python library that allows machine learning practitioners and developers to rapidly create and share customizable, interactive interfaces for their models. These interfaces can be used to visualize model outputs, provide input controls for users, and facilitate model experimentation and exploration without needing deep knowledge of web development or user interface design. Gradio supports a wide range of machine learning frameworks and models, making it accessible to a broad audience of users. It is commonly used for tasks such as image classification, text generation, and natural language processing, among others. With its simple API and rich set of features, Gradio is widely used in research, education, and industry for building user-friendly machine learning applications."
      ],
      "metadata": {
        "id": "UxEGZZB51Tef"
      }
    },
    {
      "cell_type": "markdown",
      "source": [
        "Gradio supports a variety of input and output types for creating interactive interfaces. Here's a list of some of the possible input and output types:\n",
        "\n",
        "**Input Types:**\n",
        "\n",
        "1. **Text**: Single-line text input.\n",
        "2. **Text Area**: Multi-line text input.\n",
        "3. **Image**: Input for image data.\n",
        "4. **Webcam**: Input from a webcam.\n",
        "5. **Video**: Input from a video file.\n",
        "6. **Audio**: Input for audio data.\n",
        "7. **Slider**: Slider input for numerical values.\n",
        "8. **Dropdown**: Dropdown menu for selecting options.\n",
        "9. **Checkbox**: Checkbox for boolean values.\n",
        "10. **Radio**: Radio buttons for selecting options.\n",
        "11. **File**: File uploader for uploading files.\n",
        "\n",
        "**Output Types:**\n",
        "\n",
        "1. **Text**: Output text.\n",
        "2. **HTML**: Output HTML content.\n",
        "3. **Image**: Output image.\n",
        "4. **Plot**: Output plot (e.g., matplotlib or seaborn).\n",
        "5. **Audio**: Output audio.\n",
        "6. **Video**: Output video.\n",
        "7. **File**: Output file download link.\n",
        "8. **ProgressBar**: Progress bar visualization.\n",
        "9. **KeyValues**: Key-value pairs display.\n",
        "\n",
        "These are just some of the possible input and output types supported by Gradio. Depending on your specific use case, you can choose the appropriate input and output types to create interactive interfaces for your machine learning models."
      ],
      "metadata": {
        "id": "RQsgwl-I2ByQ"
      }
    },
    {
      "cell_type": "markdown",
      "source": [
        "**Example 1: Simulate a Chatbot**"
      ],
      "metadata": {
        "id": "Lnmw4oRT1y9N"
      }
    },
    {
      "cell_type": "code",
      "source": [
        "'''\n",
        "INSTRUCTIONS:\n",
        "\n",
        "Put this content in main.py\n",
        "To execute the code execute in the terminal, the command line:\n",
        ">>> python3 main.py\n",
        "\n",
        "'''\n",
        "import gradio as gr\n",
        "\n",
        "# Define a simple function to make predictions\n",
        "def predict(text):\n",
        "    if \"hello\" in text.lower():\n",
        "        return \"Greetings! How can I assist you today?\"\n",
        "    else:\n",
        "        return \"I'm sorry, I didn't understand that.\"\n",
        "\n",
        "# Create an interface with Gradio\n",
        "iface = gr.Interface(\n",
        "    fn=predict,\n",
        "    inputs=\"text\",\n",
        "    outputs=\"text\",\n",
        "    title=\"Simple Greeting Model\",\n",
        "    description=\"Enter a message to receive a response.\"\n",
        ")\n",
        "\n",
        "# Launch the interface\n",
        "iface.launch()"
      ],
      "metadata": {
        "id": "nLebn2vR120m"
      },
      "execution_count": null,
      "outputs": []
    },
    {
      "cell_type": "markdown",
      "source": [
        "**Example 2: Load and display image**"
      ],
      "metadata": {
        "id": "T-JgYFKR2P30"
      }
    },
    {
      "cell_type": "code",
      "source": [
        "'''\n",
        "INSTRUCTIONS:\n",
        "\n",
        "Put this content in main.py\n",
        "To execute the code execute in the terminal, the command line:\n",
        ">>> python3 main.py\n",
        "\n",
        "'''\n",
        "import gradio as gr\n",
        "import cv2\n",
        "\n",
        "# Define a function to load and display an image\n",
        "def load_and_display_image(image):\n",
        "    # Read the image file\n",
        "    img = cv2.imdecode(image.read(), cv2.IMREAD_COLOR)\n",
        "    # Convert BGR to RGB (OpenCV uses BGR by default)\n",
        "    img_rgb = cv2.cvtColor(img, cv2.COLOR_BGR2RGB)\n",
        "    return img_rgb\n",
        "\n",
        "# Create the Gradio interface\n",
        "iface = gr.Interface(\n",
        "    fn=load_and_display_image,\n",
        "    inputs=\"file\",\n",
        "    outputs=\"image\",\n",
        "    title=\"Image Viewer\",\n",
        "    description=\"Upload an image file to view it.\"\n",
        ")\n",
        "\n",
        "# Launch the interface\n",
        "iface.launch()"
      ],
      "metadata": {
        "id": "az9NXYgh2SMp"
      },
      "execution_count": null,
      "outputs": []
    },
    {
      "cell_type": "markdown",
      "source": [
        "**Example 3: Dropdown illustration**"
      ],
      "metadata": {
        "id": "9LBDK9fp2eyx"
      }
    },
    {
      "cell_type": "code",
      "source": [
        "'''\n",
        "INSTRUCTIONS:\n",
        "\n",
        "Put this content in main.py\n",
        "To execute the code execute in the terminal, the command line:\n",
        ">>> python3 main.py\n",
        "\n",
        "'''\n",
        "import gradio as gr\n",
        "\n",
        "# Define a function to simply return the selected option\n",
        "def display_selected_option(option):\n",
        "    return f\"Selected option: {option}\"\n",
        "\n",
        "# Define options for the dropdown menu\n",
        "dropdown_options = [\"Option 1\", \"Option 2\", \"Option 3\"]\n",
        "\n",
        "# Create the Gradio interface with a dropdown menu\n",
        "iface = gr.Interface(\n",
        "    fn=display_selected_option,\n",
        "    inputs=gr.inputs.Dropdown(choices=dropdown_options, label=\"Select an option\"),\n",
        "    outputs=\"text\",\n",
        "    title=\"Dropdown Menu Example\",\n",
        "    description=\"Choose an option from the dropdown menu.\"\n",
        ")\n",
        "\n",
        "# Launch the interface\n",
        "iface.launch()"
      ],
      "metadata": {
        "id": "--0pQwWB2hXd"
      },
      "execution_count": null,
      "outputs": []
    },
    {
      "cell_type": "markdown",
      "source": [
        "**Example 4: Chat with pretrained llm**"
      ],
      "metadata": {
        "id": "OcVCMFT73ED5"
      }
    },
    {
      "cell_type": "code",
      "source": [
        "'''\n",
        "INSTRUCTIONS:\n",
        "\n",
        "Put this content in main.py\n",
        "To execute the code execute in the terminal, the command line:\n",
        ">>> python3 main.py\n",
        "\n",
        "'''\n",
        "import gradio as gr\n",
        "from transformers import pipeline\n",
        "\n",
        "# Load the model\n",
        "qa_pipeline = pipeline(\"question-answering\")\n",
        "\n",
        "# Define a function to answer questions\n",
        "def answer_question(context, question):\n",
        "    # Answer the question based on the context\n",
        "    answer = qa_pipeline(question=question, context=context)\n",
        "    return answer['answer']\n",
        "\n",
        "# Create Gradio interface\n",
        "iface = gr.Interface(\n",
        "    fn=answer_question,\n",
        "    inputs=[\"text\", \"text\"],\n",
        "    outputs=\"text\",\n",
        "    title=\"Question Answering with LLM\",\n",
        "    description=\"Enter a context and a question to get an answer.\"\n",
        ")\n",
        "\n",
        "# Launch the interface\n",
        "iface.launch()"
      ],
      "metadata": {
        "id": "_PYbho-e3HPM"
      },
      "execution_count": null,
      "outputs": []
    },
    {
      "cell_type": "markdown",
      "source": [
        "**Example 5: pretrained image classification**"
      ],
      "metadata": {
        "id": "XD5d7rqt3Rlt"
      }
    },
    {
      "cell_type": "code",
      "source": [
        "'''\n",
        "INSTRUCTIONS:\n",
        "\n",
        "Put this content in main.py\n",
        "To execute the code execute in the terminal, the command line:\n",
        ">>> python3 main.py\n",
        "\n",
        "'''\n",
        "import gradio as gr\n",
        "from PIL import Image\n",
        "from transformers import pipeline\n",
        "\n",
        "# Load the model\n",
        "classifier_pipeline = pipeline(\"image-classification\")\n",
        "\n",
        "# Define a function to classify images\n",
        "def classify_image(image):\n",
        "    # Open and preprocess the image\n",
        "    img = Image.open(image)\n",
        "    # Classify the image\n",
        "    result = classifier_pipeline(img)\n",
        "    return result[0]['label']\n",
        "\n",
        "# Custom style for the interface\n",
        "custom_style = {\n",
        "    \"input\": \"text\",\n",
        "    \"output\": \"text\",\n",
        "    \"default_font\": \"Arial\",\n",
        "    \"theme\": \"light\",\n",
        "    \"base\": \"light\",\n",
        "    \"font_color\": \"#333333\",\n",
        "    \"font_size\": 16,\n",
        "    \"input_font_size\": 18,\n",
        "    \"output_font_size\": 18,\n",
        "    \"button_color\": \"#4CAF50\",\n",
        "    \"button_hover_color\": \"#45a049\",\n",
        "    \"width\": \"800px\",\n",
        "    \"padding\": \"20px\",\n",
        "    \"margin\": \"20px\",\n",
        "    \"box-shadow\": \"0px 0px 10px rgba(0, 0, 0, 0.1)\",\n",
        "    \"border-radius\": \"10px\",\n",
        "    \"border\": \"1px solid #E1E1E1\",\n",
        "    \"background-color\": \"#FFFFFF\",\n",
        "    \"label\": {\n",
        "        \"color\": \"#666666\"\n",
        "    },\n",
        "    \"dropdown\": {\n",
        "        \"font-size\": 16\n",
        "    },\n",
        "    \"checkbox\": {\n",
        "        \"color\": \"#4CAF50\"\n",
        "    }\n",
        "}\n",
        "\n",
        "# Create Gradio interface with custom style\n",
        "iface = gr.Interface(\n",
        "    fn=classify_image,\n",
        "    inputs=\"image\",\n",
        "    outputs=\"text\",\n",
        "    title=\"Image Classifier\",\n",
        "    description=\"Upload an image to classify.\",\n",
        "    theme=\"compact\",\n",
        "    style=custom_style\n",
        ")\n",
        "\n",
        "# Launch the interface\n",
        "# To create a public link, set `share=True` in `launch()`.\n",
        "iface.launch()"
      ],
      "metadata": {
        "id": "WF1Fe9Z43Q1N"
      },
      "execution_count": null,
      "outputs": []
    },
    {
      "cell_type": "markdown",
      "source": [
        "You can test with other methods:\n",
        "\n",
        "'audio-classification'\n",
        "\n",
        "'automatic-speech-recognition'\n",
        "\n",
        "'conversational'\n",
        "\n",
        "'depth-estimation'\n",
        "\n",
        "'document-question-answering'\n",
        "\n",
        "\n",
        "'feature-extraction'\n",
        "\n",
        "'fill-mask'\n",
        "\n",
        "'image-classification'\n",
        "\n",
        "\n",
        "'image-segmentation'\n",
        "\n",
        "'image-to-image'\n",
        "\n",
        "'image-to-text'\n",
        "\n",
        "'mask-generation'\n",
        "\n",
        "\n",
        "'ner'\n",
        "\n",
        "'object-detection'\n",
        "\n",
        "'question-answering'\n",
        "\n",
        "'sentiment-analysis'\n",
        "\n",
        "'summarization'\n",
        "\n",
        "'table-question-answering'\n",
        "\n",
        "'text-classification'\n",
        "\n",
        "'text-generation'\n",
        "\n",
        "'text-to-audio'\n",
        "\n",
        "'text-to-speech'\n",
        "\n",
        "'text2text-generation',\n",
        "\n",
        "'token-classification'\n",
        "\n",
        "'translation'\n",
        "\n",
        "'video-classification'\n",
        "\n",
        "\n",
        "'visual-question-answering'\n",
        "\n",
        "'vqa'\n",
        "\n",
        "'zero-shot-audio-classification',\n",
        "\n",
        "\n",
        "'zero-shot-classification'\n",
        "\n",
        "'zero-shot-image-classification',\n",
        "\n",
        "'zero-shot-object-detection'\n",
        "\n",
        "'translation_XX_to_YY' (eg. translation_en_to_fr)"
      ],
      "metadata": {
        "id": "SPXZa1_BCHc2"
      }
    }
  ]
}
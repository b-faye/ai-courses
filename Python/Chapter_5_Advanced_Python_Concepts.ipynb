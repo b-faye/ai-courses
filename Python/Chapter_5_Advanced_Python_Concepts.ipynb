{
  "nbformat": 4,
  "nbformat_minor": 0,
  "metadata": {
    "colab": {
      "provenance": []
    },
    "kernelspec": {
      "name": "python3",
      "display_name": "Python 3"
    },
    "language_info": {
      "name": "python"
    }
  },
  "cells": [
    {
      "cell_type": "markdown",
      "source": [
        "**Plan:**\n",
        "\n",
        "**1. Decorators and generators**\n",
        "\n",
        "**2. Context managers**\n",
        "\n",
        "**3. Lambda functions and functional programming**"
      ],
      "metadata": {
        "id": "h_f5-pobb8Mx"
      }
    },
    {
      "cell_type": "markdown",
      "source": [
        "# **1. Decorators and generators**"
      ],
      "metadata": {
        "id": "dvs6WFmNcOwg"
      }
    },
    {
      "cell_type": "markdown",
      "source": [
        "---------------------------------------------------------------------------"
      ],
      "metadata": {
        "id": "Duym6AXMcTPD"
      }
    },
    {
      "cell_type": "markdown",
      "source": [
        "**<h2>Decorators</h2>**"
      ],
      "metadata": {
        "id": "pJ36SZvpcY2p"
      }
    },
    {
      "cell_type": "markdown",
      "source": [
        "Decorators are functions that modify the behavior of other functions or methods. They allow you to add functionality to existing code without modifying its structure.\n",
        "\n"
      ],
      "metadata": {
        "id": "ohfOIsR4cpKM"
      }
    },
    {
      "cell_type": "code",
      "execution_count": 1,
      "metadata": {
        "colab": {
          "base_uri": "https://localhost:8080/"
        },
        "id": "c42CwrSBb1RX",
        "outputId": "fd9307ad-f4ed-4a3b-f169-24630250fe2b"
      },
      "outputs": [
        {
          "output_type": "stream",
          "name": "stdout",
          "text": [
            "HELLO, ALICE!\n"
          ]
        }
      ],
      "source": [
        "def uppercase_decorator(func):\n",
        "    def wrapper(*args, **kwargs):\n",
        "        result = func(*args, **kwargs)\n",
        "        return result.upper()\n",
        "    return wrapper\n",
        "\n",
        "@uppercase_decorator\n",
        "def greet(name):\n",
        "    return f\"Hello, {name}!\"\n",
        "\n",
        "print(greet(\"Alice\"))  # Output: HELLO, ALICE!"
      ]
    },
    {
      "cell_type": "code",
      "source": [
        "\"\"\"\n",
        "Exercise:\n",
        "Write a decorator function called timer_decorator that prints the time taken by a function to execute.\n",
        "\"\"\"\n",
        "import time\n",
        "def time_decorator(func): # func: name of called function (greet)\n",
        "    def wrapper(*args, **kwargs): # arguments of called function (greet)\n",
        "        start = time.time()\n",
        "        func(*args, **kwargs)\n",
        "        end = time.time()\n",
        "        return end - start\n",
        "    return wrapper\n",
        "\n",
        "@time_decorator\n",
        "def greet(n):\n",
        "    for i in range(n):\n",
        "      pass\n",
        "\n",
        "print(greet(100))"
      ],
      "metadata": {
        "colab": {
          "base_uri": "https://localhost:8080/"
        },
        "id": "-cMDlMcNdalt",
        "outputId": "6b23630e-7426-4361-9e2e-f0a797673507"
      },
      "execution_count": 6,
      "outputs": [
        {
          "output_type": "stream",
          "name": "stdout",
          "text": [
            "3.337860107421875e-06\n"
          ]
        }
      ]
    },
    {
      "cell_type": "markdown",
      "source": [
        "---------------------------------------------------------------------------"
      ],
      "metadata": {
        "id": "i92ZidTGfplx"
      }
    },
    {
      "cell_type": "markdown",
      "source": [
        "**<h2>Generators</h2>**"
      ],
      "metadata": {
        "id": "huDYKHaUevoB"
      }
    },
    {
      "cell_type": "markdown",
      "source": [
        "Generators are functions that enable the creation of iterators. They produce a sequence of values lazily, one at a time, allowing for efficient memory usage."
      ],
      "metadata": {
        "id": "3RibflcMe0fe"
      }
    },
    {
      "cell_type": "code",
      "source": [
        "def fibonacci_generator():\n",
        "    a, b = 0, 1\n",
        "    while True:\n",
        "        yield a\n",
        "        a, b = b, a + b\n",
        "\n",
        "fib = fibonacci_generator()\n",
        "for _ in range(10):\n",
        "    print(next(fib))"
      ],
      "metadata": {
        "id": "BnvO68RFezii"
      },
      "execution_count": null,
      "outputs": []
    },
    {
      "cell_type": "code",
      "source": [
        "\"\"\"\n",
        "Exercise:\n",
        "Write a generator function called even_numbers that yields even numbers up to a specified limit.\n",
        "\"\"\"\n",
        "def even_numbers(n):\n",
        "    a = n\n",
        "    while True:\n",
        "        yield a\n",
        "        a += 2\n",
        "\n",
        "even = even_numbers(10)\n",
        "for _ in range(10):\n",
        "    print(next(even))"
      ],
      "metadata": {
        "id": "fdCylo17fkaJ"
      },
      "execution_count": null,
      "outputs": []
    },
    {
      "cell_type": "markdown",
      "source": [
        "# **2. Context managers**"
      ],
      "metadata": {
        "id": "zPYbzC0LiIaD"
      }
    },
    {
      "cell_type": "markdown",
      "source": [
        "Context managers are objects that manage resources within a with statement. They ensure that resources are properly initialized and cleaned up, even in the presence of exceptions."
      ],
      "metadata": {
        "id": "mGEolUFviRLw"
      }
    },
    {
      "cell_type": "code",
      "source": [
        "class FileManager:\n",
        "    def __init__(self, filename, mode):\n",
        "        self.filename = filename\n",
        "        self.mode = mode\n",
        "\n",
        "    def __enter__(self):\n",
        "        self.file = open(self.filename, self.mode)\n",
        "        return self.file\n",
        "\n",
        "    def __exit__(self, exc_type, exc_value, traceback):\n",
        "        self.file.close()\n",
        "\n",
        "# Using FileManager as a context manager\n",
        "with FileManager(\"example.txt\", \"w\") as file:\n",
        "    file.write(\"Hello, world!\")"
      ],
      "metadata": {
        "id": "COKfZYF3iNMF"
      },
      "execution_count": null,
      "outputs": []
    },
    {
      "cell_type": "code",
      "source": [
        "\"\"\"\n",
        "Exercise:\n",
        "Create a context manager called timer_context that measures the time taken to execute a block of code within a with statement.\n",
        "\"\"\"\n",
        "import time\n",
        "\n",
        "class TimerContextManager:\n",
        "    def __enter__(self):\n",
        "        self.start_time = time.time()\n",
        "        return self\n",
        "\n",
        "    def __exit__(self, exc_type, exc_value, traceback):\n",
        "        self.end_time = time.time()\n",
        "        execution_time = self.end_time - self.start_time\n",
        "        print(f\"Execution time: {execution_time} seconds\")\n",
        "\n",
        "# Example usage of the TimerContextManager\n",
        "with TimerContextManager():\n",
        "    # code block goes here\n",
        "    time.sleep(2)  # Simulating some time-consuming operation"
      ],
      "metadata": {
        "id": "3Tur_8ocjEMS"
      },
      "execution_count": null,
      "outputs": []
    },
    {
      "cell_type": "markdown",
      "source": [
        "# **3. Lambda Functions and Functional Programming**"
      ],
      "metadata": {
        "id": "oaAE3dQbjiYH"
      }
    },
    {
      "cell_type": "markdown",
      "source": [
        "**<h2>Lambda Functions</h2>**"
      ],
      "metadata": {
        "id": "2HCqH1REkFBd"
      }
    },
    {
      "cell_type": "markdown",
      "source": [
        "Lambda functions, also known as anonymous functions, are small, inline functions defined using the lambda keyword. They are useful for one-time use cases and simple operations."
      ],
      "metadata": {
        "id": "Grkx7xzqjpPA"
      }
    },
    {
      "cell_type": "code",
      "source": [
        "# Regular function\n",
        "def add(x, y):\n",
        "    return x + y\n",
        "\n",
        "# Lambda function\n",
        "add_lambda = lambda x, y: x + y\n",
        "\n",
        "print(add(2, 3))        # Output: 5\n",
        "print(add_lambda(2, 3)) # Output: 5"
      ],
      "metadata": {
        "id": "pKBx7r9sjtvM"
      },
      "execution_count": null,
      "outputs": []
    },
    {
      "cell_type": "markdown",
      "source": [],
      "metadata": {
        "id": "BSHvo_mpkPQ3"
      }
    },
    {
      "cell_type": "markdown",
      "source": [
        "**<h2>Functional Programming</h2>**"
      ],
      "metadata": {
        "id": "f2-MAkW_kPWB"
      }
    },
    {
      "cell_type": "markdown",
      "source": [
        "Functional programming is a programming paradigm that treats computation as the evaluation of mathematical functions and avoids changing state and mutable data. Python supports functional programming constructs such as map, filter, and reduce."
      ],
      "metadata": {
        "id": "QfUhOmRekcjR"
      }
    },
    {
      "cell_type": "code",
      "source": [
        "# Map\n",
        "numbers = [1, 2, 3, 4, 5]\n",
        "squared = list(map(lambda x: x ** 2, numbers))\n",
        "print(squared)  # Output: [1, 4, 9, 16, 25]\n",
        "\n",
        "# Filter\n",
        "even_numbers = list(filter(lambda x: x % 2 == 0, numbers))\n",
        "print(even_numbers)  # Output: [2, 4]\n",
        "\n",
        "# Reduce\n",
        "from functools import reduce\n",
        "sum_all = reduce(lambda x, y: x + y, numbers)\n",
        "print(sum_all)  # Output: 15"
      ],
      "metadata": {
        "id": "56rwDE4AkVdx"
      },
      "execution_count": null,
      "outputs": []
    },
    {
      "cell_type": "markdown",
      "source": [
        "**Exercise:** <br>\n",
        "Use map and lambda to convert a list of strings to uppercase.<br>\n",
        "**Indication:** Use upper()"
      ],
      "metadata": {
        "id": "R6R9a0Adla6Y"
      }
    }
  ]
}
{
  "nbformat": 4,
  "nbformat_minor": 0,
  "metadata": {
    "colab": {
      "provenance": []
    },
    "kernelspec": {
      "name": "python3",
      "display_name": "Python 3"
    },
    "language_info": {
      "name": "python"
    }
  },
  "cells": [
    {
      "cell_type": "markdown",
      "source": [
        "**Plan:**\n",
        "\n",
        "**1. Lists, tuples, and dictionaries**\n",
        "\n",
        "**2. Sets and their applications**\n",
        "\n",
        "**3. Working with files and input/output**"
      ],
      "metadata": {
        "id": "ZL9vWWDynSjd"
      }
    },
    {
      "cell_type": "markdown",
      "source": [
        "# **1. Lists, tuples, and dictionaries**"
      ],
      "metadata": {
        "id": "0NGiyvk5nhIK"
      }
    },
    {
      "cell_type": "markdown",
      "source": [
        "**<h2>Introduction To Lists</h2>**"
      ],
      "metadata": {
        "id": "y3uwBEy2pmK4"
      }
    },
    {
      "cell_type": "markdown",
      "source": [
        "A list is a versatile data structure in Python used to store an ordered collection of items. Lists are mutable, meaning you can modify, add, and remove elements after the list has been created."
      ],
      "metadata": {
        "id": "QAyOP0_Ppr7u"
      }
    },
    {
      "cell_type": "markdown",
      "source": [
        "**Example of a list**"
      ],
      "metadata": {
        "id": "vZAL-uqYp7Tz"
      }
    },
    {
      "cell_type": "code",
      "execution_count": null,
      "metadata": {
        "id": "P8Ul6SUlnMxq"
      },
      "outputs": [],
      "source": [
        "my_list = [1, 2, 3, 4, 5]\n",
        "print(my_list)"
      ]
    },
    {
      "cell_type": "markdown",
      "source": [
        "**get element with index**"
      ],
      "metadata": {
        "id": "L0OpzC0j7Ndo"
      }
    },
    {
      "cell_type": "code",
      "source": [
        "first_element = my_list[0]\n",
        "last_element = my_list[-1]\n",
        "print(\"First element of the list: \", first_element)\n",
        "print(\"Last element of the list: \", last_element)"
      ],
      "metadata": {
        "colab": {
          "base_uri": "https://localhost:8080/"
        },
        "id": "fb-_1vEa7RKL",
        "outputId": "3d2ce2d1-9862-47fe-f764-6fac06ba8e4f"
      },
      "execution_count": 44,
      "outputs": [
        {
          "output_type": "stream",
          "name": "stdout",
          "text": [
            "First element of the list:  1\n",
            "Last element of the list:  5\n"
          ]
        }
      ]
    },
    {
      "cell_type": "markdown",
      "source": [
        "**subset of the list**"
      ],
      "metadata": {
        "id": "hb5LSaAl7tWr"
      }
    },
    {
      "cell_type": "code",
      "source": [
        "first_subset = my_list[:3]\n",
        "second_subset = my_list[1:4]\n",
        "third_subset = my_list[-3:-1]\n",
        "print(first_subset)\n",
        "print(second_subset)\n",
        "print(third_subset)"
      ],
      "metadata": {
        "colab": {
          "base_uri": "https://localhost:8080/"
        },
        "id": "L0ms3uv67wXy",
        "outputId": "f98ec2d8-40b1-4114-9daa-7e6e17e502a0"
      },
      "execution_count": 45,
      "outputs": [
        {
          "output_type": "stream",
          "name": "stdout",
          "text": [
            "[1, 2, 3]\n",
            "[2, 3, 4]\n",
            "[3, 4]\n"
          ]
        }
      ]
    },
    {
      "cell_type": "markdown",
      "source": [
        "**append(element): Adds a single element to the end of the list.**"
      ],
      "metadata": {
        "id": "unLsHNXQp-iw"
      }
    },
    {
      "cell_type": "code",
      "source": [
        "my_list.append(6)\n",
        "print(my_list)  # Output: [1, 2, 3, 4, 5, 6]"
      ],
      "metadata": {
        "id": "N9SySfybqDQv"
      },
      "execution_count": null,
      "outputs": []
    },
    {
      "cell_type": "markdown",
      "source": [
        "**extend(iterable): Appends all the elements from the iterable to the end of the list.**"
      ],
      "metadata": {
        "id": "8wYjWPe7qR9A"
      }
    },
    {
      "cell_type": "code",
      "source": [
        "another_list = [7, 8, 9]\n",
        "my_list.extend(another_list)\n",
        "print(my_list)  # Output: [1, 2, 3, 4, 5, 6, 7, 8, 9]"
      ],
      "metadata": {
        "id": "QLmWN_F8qXKk"
      },
      "execution_count": null,
      "outputs": []
    },
    {
      "cell_type": "markdown",
      "source": [
        "**insert(index, element): Inserts an element at the specified index.**"
      ],
      "metadata": {
        "id": "Izx5KKVFqccj"
      }
    },
    {
      "cell_type": "code",
      "source": [
        "my_list.insert(2, 'a')\n",
        "print(my_list)  # Output: [1, 2, 'a', 3, 4, 5, 6, 7, 8, 9]"
      ],
      "metadata": {
        "id": "-NAfkK5oqf9L"
      },
      "execution_count": null,
      "outputs": []
    },
    {
      "cell_type": "markdown",
      "source": [
        "**remove(element): Removes the first occurrence of the specified element from the list.**"
      ],
      "metadata": {
        "id": "7Vyzp7ISqjUP"
      }
    },
    {
      "cell_type": "code",
      "source": [
        "my_list.remove('a')\n",
        "print(my_list)  # Output: [1, 2, 3, 4, 5, 6, 7, 8, 9]"
      ],
      "metadata": {
        "id": "_Y6V_wsxqnk5"
      },
      "execution_count": null,
      "outputs": []
    },
    {
      "cell_type": "markdown",
      "source": [
        "**pop([index]): Removes and returns the element at the specified index. If no index is specified, removes and returns the last element.**"
      ],
      "metadata": {
        "id": "u8-gHuSfqvJ9"
      }
    },
    {
      "cell_type": "code",
      "source": [
        "popped_element = my_list.pop(2)\n",
        "print(popped_element)  # Output: 3\n",
        "print(my_list)  # Output: [1, 2, 4, 5, 6, 7, 8, 9]"
      ],
      "metadata": {
        "id": "550O27qrqwh1"
      },
      "execution_count": null,
      "outputs": []
    },
    {
      "cell_type": "markdown",
      "source": [
        "**index(element): Returns the index of the first occurrence of the specified element.**"
      ],
      "metadata": {
        "id": "d-vs7RAhq5I5"
      }
    },
    {
      "cell_type": "code",
      "source": [
        "index = my_list.index(5)\n",
        "print(index)  # Output: 4"
      ],
      "metadata": {
        "id": "-I9qsfJwq4Px"
      },
      "execution_count": null,
      "outputs": []
    },
    {
      "cell_type": "markdown",
      "source": [
        "**count(element): Returns the number of occurrences of the specified element in the list.**"
      ],
      "metadata": {
        "id": "UAOvdzrqrDYV"
      }
    },
    {
      "cell_type": "code",
      "source": [
        "count = my_list.count(5)\n",
        "print(count)  # Output: 1"
      ],
      "metadata": {
        "id": "zlPXugxPrEcm"
      },
      "execution_count": null,
      "outputs": []
    },
    {
      "cell_type": "markdown",
      "source": [
        "**reverse(): Reverses the order of elements in the list.**"
      ],
      "metadata": {
        "id": "PqkBrRmkrIUe"
      }
    },
    {
      "cell_type": "code",
      "source": [
        "my_list.reverse()\n",
        "print(my_list)  # Output: [9, 8, 7, 6, 5, 4, 2, 1]"
      ],
      "metadata": {
        "id": "HUBWkkOVrL9P"
      },
      "execution_count": null,
      "outputs": []
    },
    {
      "cell_type": "markdown",
      "source": [
        "**sort(): Sorts the elements of the list in ascending order.**"
      ],
      "metadata": {
        "id": "a4YxZ6UHrRFn"
      }
    },
    {
      "cell_type": "code",
      "source": [
        "my_list.sort()\n",
        "print(my_list)  # Output: [1, 2, 4, 5, 6, 7, 8, 9]"
      ],
      "metadata": {
        "id": "0oa7_qoErR7U"
      },
      "execution_count": null,
      "outputs": []
    },
    {
      "cell_type": "markdown",
      "source": [
        "**Exercise:**<br>\n",
        "Write a Python function that takes a list of integers as input and returns a new list containing only the even numbers from the original list. Test your function with different input lists to ensure its correctness."
      ],
      "metadata": {
        "id": "j_YRBoHsrnW1"
      }
    },
    {
      "cell_type": "markdown",
      "source": [
        "**<h2>Introduction To Tuples</h2>**"
      ],
      "metadata": {
        "id": "TDRn1zlrra5p"
      }
    },
    {
      "cell_type": "markdown",
      "source": [
        "A tuple is an **immutable sequence** of Python objects. Once a tuple is created, you cannot modify its contents - it's fixed during its lifespan. Tuples are typically used for heterogeneous data (data that doesn't change) like coordinates, database records, etc."
      ],
      "metadata": {
        "id": "ZvbmVPN9sB25"
      }
    },
    {
      "cell_type": "markdown",
      "source": [
        "**Example of a Tuple:**"
      ],
      "metadata": {
        "id": "fnOXTjzCsNJC"
      }
    },
    {
      "cell_type": "code",
      "source": [
        "my_tuple = (1, 2, 3, 4, 5)\n",
        "print(my_tuple)"
      ],
      "metadata": {
        "colab": {
          "base_uri": "https://localhost:8080/"
        },
        "id": "1mj4xT0TrdC0",
        "outputId": "72bbec79-79ab-4e03-eb75-27916d47dc00"
      },
      "execution_count": 11,
      "outputs": [
        {
          "output_type": "stream",
          "name": "stdout",
          "text": [
            "(1, 2, 3, 4, 5)\n"
          ]
        }
      ]
    },
    {
      "cell_type": "markdown",
      "source": [
        "**index(element): Returns the index of the first occurrence of the specified element.**"
      ],
      "metadata": {
        "id": "GnUD6b0OsZ-i"
      }
    },
    {
      "cell_type": "code",
      "source": [
        "index = my_tuple.index(3)\n",
        "print(index)  # Output: 2"
      ],
      "metadata": {
        "id": "Lp_lRVYzsVMQ"
      },
      "execution_count": null,
      "outputs": []
    },
    {
      "cell_type": "markdown",
      "source": [
        "**count(element): Returns the number of occurrences of the specified element in the tuple.**"
      ],
      "metadata": {
        "id": "A4FzCvk0seLt"
      }
    },
    {
      "cell_type": "code",
      "source": [
        "count = my_tuple.count(3)\n",
        "print(count)  # Output: 1"
      ],
      "metadata": {
        "id": "72j67W4cshTn"
      },
      "execution_count": null,
      "outputs": []
    },
    {
      "cell_type": "markdown",
      "source": [
        "**Exercise:**<br>\n",
        "Write a Python function that takes two tuples as input, representing coordinates in 2D space, and calculates the Euclidean distance between the points. Test your function with different input tuples to ensure its correctness."
      ],
      "metadata": {
        "id": "0CXT-sp0s5aH"
      }
    },
    {
      "cell_type": "markdown",
      "source": [
        "**<h2>Introduction To Dictionaries</h2>**"
      ],
      "metadata": {
        "id": "XMXQV59dtAyy"
      }
    },
    {
      "cell_type": "markdown",
      "source": [
        "A dictionary in Python is an unordered collection of items. Each item is stored as a key-value pair, where each key is unique. Dictionaries are mutable, allowing for the addition, modification, and deletion of items."
      ],
      "metadata": {
        "id": "KAY-kOqBtHGH"
      }
    },
    {
      "cell_type": "markdown",
      "source": [
        "**Example of a Dictionary:**"
      ],
      "metadata": {
        "id": "ojxK0y19vUwy"
      }
    },
    {
      "cell_type": "code",
      "source": [
        "my_dict = {'name': 'John', 'age': 30, 'city': 'New York'}\n",
        "print(my_dict)"
      ],
      "metadata": {
        "id": "S5x5zPVzvRBf"
      },
      "execution_count": null,
      "outputs": []
    },
    {
      "cell_type": "markdown",
      "source": [
        "**get(key[, default]): Returns the value for the specified key. If the key is not found, it returns the default value (if provided) or None.**"
      ],
      "metadata": {
        "id": "89-xVEPNvaIO"
      }
    },
    {
      "cell_type": "code",
      "source": [
        "age = my_dict.get('age')\n",
        "print(age)  # Output: 30"
      ],
      "metadata": {
        "id": "2IF12hQ1vZXr"
      },
      "execution_count": null,
      "outputs": []
    },
    {
      "cell_type": "markdown",
      "source": [
        "**keys(): Returns a view object that displays a list of all the keys in the dictionary.**"
      ],
      "metadata": {
        "id": "cLb9ZD7EwzOa"
      }
    },
    {
      "cell_type": "code",
      "source": [
        "all_keys = my_dict.keys()\n",
        "print(all_keys)  # Output: dict_keys(['name', 'age', 'city'])"
      ],
      "metadata": {
        "id": "69avGg3nxF9A"
      },
      "execution_count": null,
      "outputs": []
    },
    {
      "cell_type": "markdown",
      "source": [
        "**values(): Returns a view object that displays a list of all the values in the dictionary.**"
      ],
      "metadata": {
        "id": "ZG1zMWtnxJZr"
      }
    },
    {
      "cell_type": "code",
      "source": [
        "all_values = my_dict.values()\n",
        "print(all_values)  # Output: dict_values(['John', 30, 'New York'])"
      ],
      "metadata": {
        "id": "s6xr2jaFxM_R"
      },
      "execution_count": null,
      "outputs": []
    },
    {
      "cell_type": "markdown",
      "source": [
        "**items(): Returns a view object that displays a list of key-value tuple pairs.**"
      ],
      "metadata": {
        "id": "lv2WY7XtxP7I"
      }
    },
    {
      "cell_type": "code",
      "source": [
        "all_items = my_dict.items()\n",
        "print(all_items)  # Output: dict_items([('name', 'John'), ('age', 30), ('city', 'New York')])"
      ],
      "metadata": {
        "id": "SRtRKU9FxXIR"
      },
      "execution_count": null,
      "outputs": []
    },
    {
      "cell_type": "markdown",
      "source": [
        "**pop(key[, default]): Removes and returns the value for the specified key. If the key is not found, it returns the default value (if provided) or raises a KeyError.**"
      ],
      "metadata": {
        "id": "YaQz-GY6xZiq"
      }
    },
    {
      "cell_type": "code",
      "source": [
        "removed_value = my_dict.pop('age')\n",
        "print(removed_value)  # Output: 30"
      ],
      "metadata": {
        "id": "iQhPR7Wqxd6T"
      },
      "execution_count": null,
      "outputs": []
    },
    {
      "cell_type": "markdown",
      "source": [
        "**popitem(): Removes and returns the last key-value pair inserted into the dictionary.**"
      ],
      "metadata": {
        "id": "3qJI43fTxhcY"
      }
    },
    {
      "cell_type": "code",
      "source": [
        "removed_item = my_dict.popitem()\n",
        "print(removed_item)  # Output: ('city', 'New York')"
      ],
      "metadata": {
        "id": "gvKIHL9-x6HN"
      },
      "execution_count": null,
      "outputs": []
    },
    {
      "cell_type": "markdown",
      "source": [
        "**update(iterable): Updates the dictionary with the key-value pairs from the iterable.**"
      ],
      "metadata": {
        "id": "cTAY6jjjx9eE"
      }
    },
    {
      "cell_type": "code",
      "source": [
        "another_dict = {'country': 'USA'}\n",
        "my_dict.update(another_dict)\n",
        "print(my_dict)  # Output: {'name': 'John', 'country': 'USA'}"
      ],
      "metadata": {
        "id": "9xO73bMFyAuz"
      },
      "execution_count": null,
      "outputs": []
    },
    {
      "cell_type": "markdown",
      "source": [
        "**Exercise:**<br>\n",
        "Write a Python function that takes a dictionary as input and returns a new dictionary with only the key-value pairs where the key is a string. Test your function with different input dictionaries to ensure its correctness."
      ],
      "metadata": {
        "id": "BcIN7zT0yDPj"
      }
    },
    {
      "cell_type": "markdown",
      "source": [
        "# **2. Sets and their applications**"
      ],
      "metadata": {
        "id": "5iNKWkqinjUn"
      }
    },
    {
      "cell_type": "markdown",
      "source": [
        "A set in Python is an unordered collection of unique elements. Sets are mutable, allowing for the addition and removal of elements, but the elements themselves must be immutable."
      ],
      "metadata": {
        "id": "PBg-0Mq0yhhP"
      }
    },
    {
      "cell_type": "markdown",
      "source": [
        "**Example of a Set:**"
      ],
      "metadata": {
        "id": "bag3O8nIymHK"
      }
    },
    {
      "cell_type": "code",
      "source": [
        "my_set = {1, 2, 3, 4, 5}\n",
        "print(my_set)"
      ],
      "metadata": {
        "id": "KMgPsqr3nlxs"
      },
      "execution_count": null,
      "outputs": []
    },
    {
      "cell_type": "markdown",
      "source": [
        "**add(element): Adds a single element to the set.**"
      ],
      "metadata": {
        "id": "WyQWXLYRypOZ"
      }
    },
    {
      "cell_type": "markdown",
      "source": [],
      "metadata": {
        "id": "BHWxJmvH0D-B"
      }
    },
    {
      "cell_type": "code",
      "source": [],
      "metadata": {
        "id": "2h65bSys0FHf"
      },
      "execution_count": null,
      "outputs": []
    },
    {
      "cell_type": "code",
      "source": [
        "my_set.add(6)\n",
        "print(my_set)  # Output: {1, 2, 3, 4, 5, 6}"
      ],
      "metadata": {
        "id": "7ccI7HcYzZOf"
      },
      "execution_count": null,
      "outputs": []
    },
    {
      "cell_type": "markdown",
      "source": [
        "**update(iterable): Adds all elements from the iterable to the set.**"
      ],
      "metadata": {
        "id": "E814NSbtzc8V"
      }
    },
    {
      "cell_type": "code",
      "source": [
        "another_set = {7, 8, 9}\n",
        "my_set.update(another_set)\n",
        "print(my_set)  # Output: {1, 2, 3, 4, 5, 6, 7, 8, 9}"
      ],
      "metadata": {
        "id": "TN8pDkD8zss9"
      },
      "execution_count": null,
      "outputs": []
    },
    {
      "cell_type": "markdown",
      "source": [
        "**remove(element): Removes the specified element from the set. Raises KeyError if the element is not found.**"
      ],
      "metadata": {
        "id": "e4zlvrP_zvX1"
      }
    },
    {
      "cell_type": "code",
      "source": [
        "my_set.remove(6)\n",
        "print(my_set)  # Output: {1, 2, 3, 4, 5, 7, 8, 9}"
      ],
      "metadata": {
        "id": "ZsyYJEMwz4OX"
      },
      "execution_count": null,
      "outputs": []
    },
    {
      "cell_type": "markdown",
      "source": [
        "**discard(element): Removes the specified element from the set if it is present.**"
      ],
      "metadata": {
        "id": "pngr4lbQz6nY"
      }
    },
    {
      "cell_type": "code",
      "source": [
        "my_set.discard(8)\n",
        "print(my_set)  # Output: {1, 2, 3, 4, 5, 7, 9}"
      ],
      "metadata": {
        "id": "7vbLIv_7z94k"
      },
      "execution_count": null,
      "outputs": []
    },
    {
      "cell_type": "markdown",
      "source": [
        "**pop(): Removes and returns an arbitrary element from the set. Raises KeyError if the set is empty.**"
      ],
      "metadata": {
        "id": "nwhW7uPl0AJk"
      }
    },
    {
      "cell_type": "code",
      "source": [
        "popped_element = my_set.pop()\n",
        "print(popped_element)  # Output: 1\n",
        "print(my_set)  # Output: {2, 3, 4, 5, 7, 9}"
      ],
      "metadata": {
        "id": "ZEgr8yAE0Ht5"
      },
      "execution_count": null,
      "outputs": []
    },
    {
      "cell_type": "markdown",
      "source": [
        "**clear(): Removes all elements from the set.**"
      ],
      "metadata": {
        "id": "w8nGRt8B0LIw"
      }
    },
    {
      "cell_type": "code",
      "source": [
        "my_set.clear()\n",
        "print(my_set)  # Output: set()"
      ],
      "metadata": {
        "id": "NdqoC8mh0MDL"
      },
      "execution_count": null,
      "outputs": []
    },
    {
      "cell_type": "markdown",
      "source": [
        "**Exercise:**<br>\n",
        "Write a Python function that takes two sets as input and returns a new set containing the elements that are common to both sets. Test your function with different input sets to ensure its correctness."
      ],
      "metadata": {
        "id": "CDiPuNu70RCU"
      }
    },
    {
      "cell_type": "markdown",
      "source": [
        "# **3. Working with files and input/output**"
      ],
      "metadata": {
        "id": "rK4Q6kUEnl-3"
      }
    },
    {
      "cell_type": "markdown",
      "source": [
        "File I/O operations are crucial for reading and writing data from/to files in Python. Python provides built-in functions and methods for performing these operations efficiently."
      ],
      "metadata": {
        "id": "TblHj9DD3kYe"
      }
    },
    {
      "cell_type": "code",
      "source": [
        "# Put this text in example.txt\n",
        "\"\"\"\n",
        "Python is a popular programming language.\n",
        "It is known for its simplicity and readability.\n",
        "Python is widely used in various fields such as web development, data science, and artificial intelligence.\n",
        "Learning Python can open up many opportunities for programmers.\n",
        "\"\"\""
      ],
      "metadata": {
        "id": "0wpZJNoknr_Y"
      },
      "execution_count": null,
      "outputs": []
    },
    {
      "cell_type": "markdown",
      "source": [
        "---------------------------------------------------------"
      ],
      "metadata": {
        "id": "eNcng2Go8peb"
      }
    },
    {
      "cell_type": "markdown",
      "source": [
        "**<h2>Reading from Files:</h2>**"
      ],
      "metadata": {
        "id": "aLYN5yrg3qMW"
      }
    },
    {
      "cell_type": "markdown",
      "source": [
        "**open(): Opens a file and returns a file object.**"
      ],
      "metadata": {
        "id": "lPqmy4Of4v4A"
      }
    },
    {
      "cell_type": "code",
      "source": [
        "file = open('example.txt', 'r')"
      ],
      "metadata": {
        "id": "4n3loWNo4q3T"
      },
      "execution_count": 24,
      "outputs": []
    },
    {
      "cell_type": "markdown",
      "source": [
        "**read(): Reads the entire contents of the file.**"
      ],
      "metadata": {
        "id": "SToIaXV_41Tg"
      }
    },
    {
      "cell_type": "code",
      "source": [
        "content = file.read()\n",
        "print(content)"
      ],
      "metadata": {
        "colab": {
          "base_uri": "https://localhost:8080/"
        },
        "id": "ci_nhE_I40E3",
        "outputId": "5b486734-ba36-4314-d50c-bf9553fb2016"
      },
      "execution_count": 25,
      "outputs": [
        {
          "output_type": "stream",
          "name": "stdout",
          "text": [
            "Python is a popular programming language.\n",
            "It is known for its simplicity and readability.\n",
            "Python is widely used in various fields such as web development, data science, and artificial intelligence.\n",
            "Learning Python can open up many opportunities for programmers.\n"
          ]
        }
      ]
    },
    {
      "cell_type": "markdown",
      "source": [
        "**close(): Close the file**"
      ],
      "metadata": {
        "id": "93ZeFyEr6Cx2"
      }
    },
    {
      "cell_type": "code",
      "source": [
        "file.close()"
      ],
      "metadata": {
        "id": "f6U4jZ426GGb"
      },
      "execution_count": 34,
      "outputs": []
    },
    {
      "cell_type": "markdown",
      "source": [
        "**readline(): Reads a single line from the file.**"
      ],
      "metadata": {
        "id": "MA_v4zTE5tIG"
      }
    },
    {
      "cell_type": "code",
      "source": [
        "# Read the first line\n",
        "file = open('example.txt', 'r')\n",
        "line = file.readline()\n",
        "print(line)"
      ],
      "metadata": {
        "colab": {
          "base_uri": "https://localhost:8080/"
        },
        "id": "LWDyb3QB5uCl",
        "outputId": "6f04f45b-e0ae-47fc-e1c3-5449e2bb78c5"
      },
      "execution_count": 36,
      "outputs": [
        {
          "output_type": "stream",
          "name": "stdout",
          "text": [
            "Python is a popular programming language.\n",
            "\n"
          ]
        }
      ]
    },
    {
      "cell_type": "code",
      "source": [
        "# Read the second line\n",
        "line = file.readline()\n",
        "print(line)\n",
        "file.close()"
      ],
      "metadata": {
        "colab": {
          "base_uri": "https://localhost:8080/"
        },
        "id": "dLRO2EH26TZ2",
        "outputId": "7e17b039-5486-4c69-893a-9f57d1890ed4"
      },
      "execution_count": 37,
      "outputs": [
        {
          "output_type": "stream",
          "name": "stdout",
          "text": [
            "It is known for its simplicity and readability.\n",
            "\n"
          ]
        }
      ]
    },
    {
      "cell_type": "markdown",
      "source": [
        "**readlines(): Reads all lines from the file and returns them as a list.**"
      ],
      "metadata": {
        "id": "Iq5vfnPd6iXL"
      }
    },
    {
      "cell_type": "code",
      "source": [
        "file = open('example.txt', 'r')\n",
        "lines = file.readlines()\n",
        "print(lines)\n",
        "file.close()"
      ],
      "metadata": {
        "colab": {
          "base_uri": "https://localhost:8080/"
        },
        "id": "SoqSKC2C6jWG",
        "outputId": "78b6605a-e418-43e6-a2b5-4e298a28a1f7"
      },
      "execution_count": 39,
      "outputs": [
        {
          "output_type": "stream",
          "name": "stdout",
          "text": [
            "['Python is a popular programming language.\\n', 'It is known for its simplicity and readability.\\n', 'Python is widely used in various fields such as web development, data science, and artificial intelligence.\\n', 'Learning Python can open up many opportunities for programmers.']\n"
          ]
        }
      ]
    },
    {
      "cell_type": "code",
      "source": [
        "# Removes '\\n'\n",
        "lines[0].strip()"
      ],
      "metadata": {
        "colab": {
          "base_uri": "https://localhost:8080/",
          "height": 35
        },
        "id": "ldZ0WvGF6x_d",
        "outputId": "18c18bef-e7fd-409e-a793-f7f96e30ef21"
      },
      "execution_count": 40,
      "outputs": [
        {
          "output_type": "execute_result",
          "data": {
            "text/plain": [
              "'Python is a popular programming language.'"
            ],
            "application/vnd.google.colaboratory.intrinsic+json": {
              "type": "string"
            }
          },
          "metadata": {},
          "execution_count": 40
        }
      ]
    },
    {
      "cell_type": "markdown",
      "source": [
        "---------------------------------------------------------"
      ],
      "metadata": {
        "id": "_zF1pSLu8cSU"
      }
    },
    {
      "cell_type": "markdown",
      "source": [
        "**<h2>Writing to Files</h2>**"
      ],
      "metadata": {
        "id": "TY4IUHxd8dtB"
      }
    },
    {
      "cell_type": "markdown",
      "source": [
        "**open(): Opens a file in write mode.**"
      ],
      "metadata": {
        "id": "anEZGnZx8vd0"
      }
    },
    {
      "cell_type": "code",
      "source": [
        "file = open('output.txt', 'w')"
      ],
      "metadata": {
        "id": "lGRzxL6c8sod"
      },
      "execution_count": null,
      "outputs": []
    },
    {
      "cell_type": "markdown",
      "source": [
        "**write(): Writes a string to the file.**"
      ],
      "metadata": {
        "id": "odxoVn2987M8"
      }
    },
    {
      "cell_type": "code",
      "source": [
        "file.write('Hello, world!\\n')"
      ],
      "metadata": {
        "id": "WYFaHd8A88AY"
      },
      "execution_count": null,
      "outputs": []
    },
    {
      "cell_type": "markdown",
      "source": [
        "**writelines(): Writes a list of lines to the file.**"
      ],
      "metadata": {
        "id": "IjTrUWoS8-gq"
      }
    },
    {
      "cell_type": "code",
      "source": [
        "lines = ['Line 1\\n', 'Line 2\\n', 'Line 3\\n']\n",
        "file.writelines(lines)\n",
        "file.close()"
      ],
      "metadata": {
        "id": "FFF2WTU59BiP"
      },
      "execution_count": null,
      "outputs": []
    },
    {
      "cell_type": "markdown",
      "source": [
        "---------------------------------------------------------"
      ],
      "metadata": {
        "id": "sZfRxrMr9PYE"
      }
    },
    {
      "cell_type": "markdown",
      "source": [
        "**Using 'with' Statement:**\n",
        "\n",
        "The with statement automatically closes the file when done with it, even if an exception occurs."
      ],
      "metadata": {
        "id": "5VWxAGwo9Q8p"
      }
    },
    {
      "cell_type": "code",
      "source": [
        "with open('example.txt', 'r') as file:\n",
        "    content = file.read()\n",
        "    print(content)"
      ],
      "metadata": {
        "id": "HTlPV8en9KoV"
      },
      "execution_count": null,
      "outputs": []
    },
    {
      "cell_type": "markdown",
      "source": [
        "---------------------------------------------------------"
      ],
      "metadata": {
        "id": "6D0SokqE-P31"
      }
    },
    {
      "cell_type": "markdown",
      "source": [
        "**Exercise:**\n",
        "Write a Python program that reads a text file, counts the frequency of each word, and writes the word-frequency pairs to another text file. Test your program with different input files to ensure its correctness.\n",
        "\n",
        "**Indications: Use Counter**"
      ],
      "metadata": {
        "id": "QJ_xKckv9tu5"
      }
    },
    {
      "cell_type": "code",
      "source": [
        "# Example of using Counter\n",
        "from collections import Counter\n",
        "my_text = \"my my your your your\"\n",
        "my_list = my_text.split()\n",
        "word_freq = Counter(my_list)\n",
        "word_freq"
      ],
      "metadata": {
        "colab": {
          "base_uri": "https://localhost:8080/"
        },
        "id": "lpmoAvHc-O6i",
        "outputId": "c3dd4eb8-c5a5-4e38-9972-da6ab31edc7c"
      },
      "execution_count": 46,
      "outputs": [
        {
          "output_type": "execute_result",
          "data": {
            "text/plain": [
              "Counter({'my': 2, 'your': 3})"
            ]
          },
          "metadata": {},
          "execution_count": 46
        }
      ]
    }
  ]
}
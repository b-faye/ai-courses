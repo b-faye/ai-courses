{
  "nbformat": 4,
  "nbformat_minor": 0,
  "metadata": {
    "colab": {
      "provenance": []
    },
    "kernelspec": {
      "name": "python3",
      "display_name": "Python 3"
    },
    "language_info": {
      "name": "python"
    }
  },
  "cells": [
    {
      "cell_type": "markdown",
      "source": [
        "**Plan:**\n",
        "\n",
        "**1. Understanding classes and objects**\n",
        "\n",
        "**2. Inheritance and polymorphism**\n",
        "\n",
        "**3. Exception handling**"
      ],
      "metadata": {
        "id": "jlrE8p1UIq_m"
      }
    },
    {
      "cell_type": "markdown",
      "source": [
        "Object-Oriented Programming (OOP) is a programming paradigm that allows you to structure your code into classes and objects, enabling you to create reusable and modular code. In Python, OOP is a powerful tool that helps in organizing and managing complex codebases. This course aims to provide a comprehensive understanding of classes, objects, inheritance, and other OOP concepts in Python."
      ],
      "metadata": {
        "id": "bmnYdqxDI8-n"
      }
    },
    {
      "cell_type": "markdown",
      "source": [
        "#**1. Understanding classes and objects**"
      ],
      "metadata": {
        "id": "_pJZ7hQtJEjU"
      }
    },
    {
      "cell_type": "markdown",
      "source": [
        "Classes are blueprints for creating objects in Python. They define properties (attributes) and behaviors (methods) that objects of the class will have. Objects are instances of classes."
      ],
      "metadata": {
        "id": "YK26MmrMJQ3a"
      }
    },
    {
      "cell_type": "code",
      "source": [
        "class Circle:\n",
        "    def __init__(self, radius):\n",
        "        self.radius = radius\n",
        "\n",
        "    def area(self):\n",
        "        return 3.14 * self.radius ** 2\n",
        "\n",
        "# Creating an object of the Circle class\n",
        "circle = Circle(5)\n",
        "print(\"Area of the circle:\", circle.area())"
      ],
      "metadata": {
        "id": "i1B_OpxDJKeZ"
      },
      "execution_count": null,
      "outputs": []
    },
    {
      "cell_type": "markdown",
      "source": [
        "**Exercise:**<br>\n",
        "Add method volume() to calculate the volume of the circle.\n",
        "\n",
        "**Formula:** $\\frac{4}{3} \\times \\pi \\times r^3$"
      ],
      "metadata": {
        "id": "1ok-u-v5J8GX"
      }
    },
    {
      "cell_type": "markdown",
      "source": [
        "---------------------------------------------------------------------------"
      ],
      "metadata": {
        "id": "OL0H1lkaLqA7"
      }
    },
    {
      "cell_type": "code",
      "source": [
        "class Employee:\n",
        "    raise_amount = 1.04  # Class variable\n",
        "\n",
        "    def __init__(self, first_name, last_name, salary):\n",
        "        self.first_name = first_name\n",
        "        self.last_name = last_name\n",
        "        self.salary = salary\n",
        "\n",
        "    def apply_raise(self):\n",
        "        self.salary *= self.raise_amount\n",
        "\n",
        "    @classmethod\n",
        "    def set_raise_amount(cls, amount):\n",
        "        cls.raise_amount = amount\n",
        "\n",
        "    @staticmethod\n",
        "    def is_workday(day):\n",
        "        return day.weekday() not in [5, 6]\n",
        "\n",
        "# Creating objects of the Employee class\n",
        "emp1 = Employee(\"John\", \"Doe\", 50000)\n",
        "emp2 = Employee(\"Jane\", \"Smith\", 60000)\n",
        "\n",
        "print(\"Before raise:\")\n",
        "print(emp1.salary)\n",
        "print(emp2.salary)\n",
        "\n",
        "Employee.set_raise_amount(1.05)\n",
        "emp1.apply_raise()\n",
        "emp2.apply_raise()\n",
        "\n",
        "print(\"\\nAfter raise:\")\n",
        "print(emp1.salary)\n",
        "print(emp2.salary)"
      ],
      "metadata": {
        "id": "DLrlq2Z_LrpD"
      },
      "execution_count": null,
      "outputs": []
    },
    {
      "cell_type": "markdown",
      "source": [
        "**Exercise:**<br>\n",
        "Add a class variable num_employees to the Employee class to keep track of the number of employees. Implement a class method to increment this variable whenever a new employee is created."
      ],
      "metadata": {
        "id": "QaTVwgQWMM2d"
      }
    },
    {
      "cell_type": "markdown",
      "source": [
        "#**2. Inheritance and polymorphism**"
      ],
      "metadata": {
        "id": "2zHJBAs6Qkjs"
      }
    },
    {
      "cell_type": "markdown",
      "source": [
        "**<h2>Inheritance</h2>**"
      ],
      "metadata": {
        "id": "aTOaZjhVTCU1"
      }
    },
    {
      "cell_type": "markdown",
      "source": [
        "Inheritance allows a class (subclass) to inherit attributes and methods from another class (superclass). This promotes code reusability and establishes a hierarchical relationship between classes."
      ],
      "metadata": {
        "id": "eQQHSiDrSUC3"
      }
    },
    {
      "cell_type": "code",
      "source": [
        "class Animal:\n",
        "    def sound(self):\n",
        "        pass\n",
        "\n",
        "class Dog(Animal):\n",
        "    def sound(self):\n",
        "        return \"Woof!\"\n",
        "\n",
        "class Cat(Animal):\n",
        "    def sound(self):\n",
        "        return \"Meow!\"\n",
        "\n",
        "# Creating objects of Dog and Cat classes\n",
        "dog = Dog()\n",
        "cat = Cat()\n",
        "\n",
        "print(dog.sound())  # Output: Woof!\n",
        "print(cat.sound())  # Output: Meow!"
      ],
      "metadata": {
        "id": "fB_4ytMpSuBL"
      },
      "execution_count": null,
      "outputs": []
    },
    {
      "cell_type": "markdown",
      "source": [
        "**Exercise:**<br>\n",
        "Create a class Bird that inherits from Animal. Override the sound() method in the Bird class to return \"Tweet!\"."
      ],
      "metadata": {
        "id": "WWG6WlFyTKBc"
      }
    },
    {
      "cell_type": "markdown",
      "source": [
        "**<h2>Polymorphism</h2>**"
      ],
      "metadata": {
        "id": "AU2yfKKTTQgo"
      }
    },
    {
      "cell_type": "markdown",
      "source": [
        "Polymorphism allows objects of different classes to be treated as objects of a common superclass. It enables flexibility in code design and facilitates dynamic method invocation."
      ],
      "metadata": {
        "id": "UVkmZtPpTUxL"
      }
    },
    {
      "cell_type": "code",
      "source": [
        "class Shape:\n",
        "    def area(self):\n",
        "        pass\n",
        "\n",
        "class Rectangle(Shape):\n",
        "    def __init__(self, length, width):\n",
        "        self.length = length\n",
        "        self.width = width\n",
        "\n",
        "    def area(self):\n",
        "        return self.length * self.width\n",
        "\n",
        "class Circle(Shape):\n",
        "    def __init__(self, radius):\n",
        "        self.radius = radius\n",
        "\n",
        "    def area(self):\n",
        "        return 3.14 * self.radius ** 2\n",
        "\n",
        "# Creating objects of different shapes\n",
        "rectangle = Rectangle(4, 5)\n",
        "circle = Circle(3)\n",
        "\n",
        "# Polymorphic behavior\n",
        "print(\"Area of rectangle:\", rectangle.area())  # Output: 20\n",
        "print(\"Area of circle:\", circle.area())  # Output: 28.26"
      ],
      "metadata": {
        "id": "pCqzXdOsTUCV"
      },
      "execution_count": null,
      "outputs": []
    },
    {
      "cell_type": "markdown",
      "source": [
        "**Exercise:**<br>\n",
        "Create a class Triangle that inherits from Shape. Implement the area() method in the Triangle class to calculate the area of a triangle.\n",
        "\n",
        "**Formula: $\\frac{b \\times h}{2}$**"
      ],
      "metadata": {
        "id": "NE5Q4smCTzfd"
      }
    },
    {
      "cell_type": "markdown",
      "source": [
        "#**3. Exception Handling**"
      ],
      "metadata": {
        "id": "-kMN2vAtWAGf"
      }
    },
    {
      "cell_type": "markdown",
      "source": [
        "Exception handling is a mechanism to handle errors that occur during the execution of a program. It prevents the program from crashing and allows graceful recovery from errors."
      ],
      "metadata": {
        "id": "TbnbyLETWJQl"
      }
    },
    {
      "cell_type": "code",
      "source": [
        "try:\n",
        "    num1 = int(input(\"Enter a number: \"))\n",
        "    num2 = int(input(\"Enter another number: \"))\n",
        "    result = num1 / num2\n",
        "    print(\"Result:\", result)\n",
        "except ValueError:\n",
        "    print(\"Please enter valid integers.\")\n",
        "except ZeroDivisionError:\n",
        "    print(\"Cannot divide by zero.\")\n"
      ],
      "metadata": {
        "id": "JPxIu1GWVM2T"
      },
      "execution_count": null,
      "outputs": []
    },
    {
      "cell_type": "markdown",
      "source": [
        "**Types of Exception**"
      ],
      "metadata": {
        "id": "i6d2ZLK-WyDb"
      }
    },
    {
      "cell_type": "code",
      "source": [
        "# ValueError: invalid literal for int() with base 10: '2.0'\n",
        "int(\"2.0\")"
      ],
      "metadata": {
        "colab": {
          "base_uri": "https://localhost:8080/",
          "height": 177
        },
        "id": "bRVXUjhXWj7h",
        "outputId": "348ea58a-522b-4b5f-814b-7c0b75017232"
      },
      "execution_count": 10,
      "outputs": [
        {
          "output_type": "error",
          "ename": "ValueError",
          "evalue": "invalid literal for int() with base 10: '2.0'",
          "traceback": [
            "\u001b[0;31m---------------------------------------------------------------------------\u001b[0m",
            "\u001b[0;31mValueError\u001b[0m                                Traceback (most recent call last)",
            "\u001b[0;32m<ipython-input-10-b8c5cc4be956>\u001b[0m in \u001b[0;36m<cell line: 1>\u001b[0;34m()\u001b[0m\n\u001b[0;32m----> 1\u001b[0;31m \u001b[0mint\u001b[0m\u001b[0;34m(\u001b[0m\u001b[0;34m\"2.0\"\u001b[0m\u001b[0;34m)\u001b[0m\u001b[0;34m\u001b[0m\u001b[0;34m\u001b[0m\u001b[0m\n\u001b[0m",
            "\u001b[0;31mValueError\u001b[0m: invalid literal for int() with base 10: '2.0'"
          ]
        }
      ]
    },
    {
      "cell_type": "code",
      "source": [
        "# ValueError: invalid literal for int() with base 10: '2.0'\n",
        "int(\"'2'\")"
      ],
      "metadata": {
        "colab": {
          "base_uri": "https://localhost:8080/",
          "height": 194
        },
        "id": "HevGeBk6W9G1",
        "outputId": "ba5ffaf7-9709-48c1-96ec-9fc13c1a5d43"
      },
      "execution_count": 11,
      "outputs": [
        {
          "output_type": "error",
          "ename": "ValueError",
          "evalue": "invalid literal for int() with base 10: \"'2'\"",
          "traceback": [
            "\u001b[0;31m---------------------------------------------------------------------------\u001b[0m",
            "\u001b[0;31mValueError\u001b[0m                                Traceback (most recent call last)",
            "\u001b[0;32m<ipython-input-11-502497677eec>\u001b[0m in \u001b[0;36m<cell line: 2>\u001b[0;34m()\u001b[0m\n\u001b[1;32m      1\u001b[0m \u001b[0;31m# ValueError: invalid literal for int() with base 10: '2.0'\u001b[0m\u001b[0;34m\u001b[0m\u001b[0;34m\u001b[0m\u001b[0m\n\u001b[0;32m----> 2\u001b[0;31m \u001b[0mint\u001b[0m\u001b[0;34m(\u001b[0m\u001b[0;34m\"'2'\"\u001b[0m\u001b[0;34m)\u001b[0m\u001b[0;34m\u001b[0m\u001b[0;34m\u001b[0m\u001b[0m\n\u001b[0m",
            "\u001b[0;31mValueError\u001b[0m: invalid literal for int() with base 10: \"'2'\""
          ]
        }
      ]
    },
    {
      "cell_type": "code",
      "source": [
        "# ZeroDivisionError: division by zero\n",
        "2/0"
      ],
      "metadata": {
        "colab": {
          "base_uri": "https://localhost:8080/",
          "height": 177
        },
        "id": "ZtXd_r5RXBxH",
        "outputId": "714383f4-4ec6-416d-b14d-e7b5b599bde5"
      },
      "execution_count": 12,
      "outputs": [
        {
          "output_type": "error",
          "ename": "ZeroDivisionError",
          "evalue": "division by zero",
          "traceback": [
            "\u001b[0;31m---------------------------------------------------------------------------\u001b[0m",
            "\u001b[0;31mZeroDivisionError\u001b[0m                         Traceback (most recent call last)",
            "\u001b[0;32m<ipython-input-12-e8326a161779>\u001b[0m in \u001b[0;36m<cell line: 1>\u001b[0;34m()\u001b[0m\n\u001b[0;32m----> 1\u001b[0;31m \u001b[0;36m2\u001b[0m\u001b[0;34m/\u001b[0m\u001b[0;36m0\u001b[0m\u001b[0;34m\u001b[0m\u001b[0;34m\u001b[0m\u001b[0m\n\u001b[0m",
            "\u001b[0;31mZeroDivisionError\u001b[0m: division by zero"
          ]
        }
      ]
    },
    {
      "cell_type": "markdown",
      "source": [
        "**Exercise:**<br>\n",
        "Modify the above code to handle the TypeError exception when the user enters a non-numeric value."
      ],
      "metadata": {
        "id": "Iwk5OUoAWRy4"
      }
    }
  ]
}
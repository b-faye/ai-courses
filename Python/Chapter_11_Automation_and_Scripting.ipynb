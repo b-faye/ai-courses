{
  "nbformat": 4,
  "nbformat_minor": 0,
  "metadata": {
    "colab": {
      "provenance": []
    },
    "kernelspec": {
      "name": "python3",
      "display_name": "Python 3"
    },
    "language_info": {
      "name": "python"
    }
  },
  "cells": [
    {
      "cell_type": "markdown",
      "source": [
        "**Plan:**\n",
        "\n",
        "\n",
        "**1. Scripting basics**\n",
        "\n",
        "**2. Automating tasks with Python**\n",
        "\n",
        "**3. Building a simple automation script**"
      ],
      "metadata": {
        "id": "-INNMzE9C9S5"
      }
    },
    {
      "cell_type": "markdown",
      "source": [
        "# **1. Scripting basics**"
      ],
      "metadata": {
        "id": "6h8UBcqaDKmL"
      }
    },
    {
      "cell_type": "markdown",
      "source": [
        "Scripting basics refer to the foundational concepts and techniques involved in writing scripts, which are sequences of instructions written in a scripting language to perform specific tasks or automate processes. These basics typically include understanding variables, data types, control structures (such as loops and conditional statements), functions, and file handling. Scripting allows users to automate repetitive tasks, manipulate data, and interact with systems or applications in a programmatic way, often making use of existing libraries or frameworks to simplify development."
      ],
      "metadata": {
        "id": "J5Z3mWp4DMq5"
      }
    },
    {
      "cell_type": "markdown",
      "source": [
        "**Variables and Data Types**"
      ],
      "metadata": {
        "id": "ULoxKh6TDRmM"
      }
    },
    {
      "cell_type": "code",
      "execution_count": null,
      "metadata": {
        "id": "Y8reQY8LC7D8"
      },
      "outputs": [],
      "source": [
        "# Variable assignment\n",
        "name = \"John\"\n",
        "age = 30\n",
        "is_student = True\n",
        "\n",
        "# Print variables\n",
        "print(name)\n",
        "print(age)\n",
        "print(is_student)"
      ]
    },
    {
      "cell_type": "markdown",
      "source": [
        "**Control Structures**\n"
      ],
      "metadata": {
        "id": "zNvA8x_UJlM3"
      }
    },
    {
      "cell_type": "code",
      "source": [
        "# Conditional statement\n",
        "if age >= 18:\n",
        "    print(\"You are an adult.\")\n",
        "else:\n",
        "    print(\"You are a minor.\")\n",
        "\n",
        "# For loop\n",
        "for i in range(5):\n",
        "    print(i)\n",
        "\n",
        "# While loop\n",
        "count = 0\n",
        "while count < 5:\n",
        "    print(count)\n",
        "    count += 1"
      ],
      "metadata": {
        "id": "dsK5slSJJbYn"
      },
      "execution_count": null,
      "outputs": []
    },
    {
      "cell_type": "markdown",
      "source": [
        "**Functions**"
      ],
      "metadata": {
        "id": "tcK22GWoJoTd"
      }
    },
    {
      "cell_type": "code",
      "source": [
        "# Function definition\n",
        "def greet(name):\n",
        "    return f\"Hello, {name}!\"\n",
        "\n",
        "# Function call\n",
        "message = greet(\"Alice\")\n",
        "print(message)"
      ],
      "metadata": {
        "id": "N3mW-I-jJtGL"
      },
      "execution_count": null,
      "outputs": []
    },
    {
      "cell_type": "markdown",
      "source": [
        "**File Handling**"
      ],
      "metadata": {
        "id": "H3ufeqMBJwWS"
      }
    },
    {
      "cell_type": "code",
      "source": [
        "# Writing data to a file\n",
        "with open(\"data.txt\", \"w\") as f:\n",
        "    f.write(\"Hello, world!\\n\")\n",
        "    f.write(\"This is a test file.\")\n",
        "\n",
        "# Reading data from a file\n",
        "with open(\"data.txt\", \"r\") as f:\n",
        "    contents = f.read()\n",
        "    print(contents)"
      ],
      "metadata": {
        "id": "bCeCQs5VJzpR"
      },
      "execution_count": null,
      "outputs": []
    },
    {
      "cell_type": "markdown",
      "source": [
        "**Error Handling**"
      ],
      "metadata": {
        "id": "J1PFshvrJ5bT"
      }
    },
    {
      "cell_type": "code",
      "source": [
        "# Exception handling\n",
        "try:\n",
        "    result = 10 / 0\n",
        "except ZeroDivisionError:\n",
        "    print(\"Error: Division by zero\")\n",
        "else:\n",
        "    print(\"Result:\", result)\n",
        "finally:\n",
        "    print(\"Cleanup: Closing resources\")"
      ],
      "metadata": {
        "id": "CojgjGPAJ9hK"
      },
      "execution_count": null,
      "outputs": []
    },
    {
      "cell_type": "markdown",
      "source": [
        "# **2. Automating tasks with Python**"
      ],
      "metadata": {
        "id": "Ntu1tfAcKHMm"
      }
    },
    {
      "cell_type": "markdown",
      "source": [
        "Automating tasks with Python refers to the process of using the Python programming language to streamline repetitive or time-consuming tasks by writing scripts or programs that execute those tasks automatically. This automation can involve a wide range of activities, including data processing, file manipulation, web scraping, system administration, and more.\n",
        "\n",
        "Key aspects of automating tasks with Python include:\n",
        "\n",
        "1. **Identifying Repetitive Tasks**: Recognizing tasks that are performed frequently or require significant manual effort, such as data entry, file organization, or report generation.\n",
        "\n",
        "2. **Developing Automation Scripts**: Writing Python scripts or programs to automate identified tasks. This involves leveraging Python's rich set of libraries and modules to interact with various systems, APIs, databases, and file formats.\n",
        "\n",
        "3. **Streamlining Workflows**: Integrating automation scripts into existing workflows to streamline processes, improve efficiency, and reduce human error.\n",
        "\n",
        "4. **Scheduling and Triggering Automation**: Setting up mechanisms to schedule the execution of automation scripts at specific times or trigger them in response to events, such as file changes or system events.\n",
        "\n",
        "5. **Monitoring and Error Handling**: Implementing mechanisms to monitor automated processes, detect errors or anomalies, and handle exceptions gracefully to ensure smooth operation.\n",
        "\n",
        "6. **Continuous Improvement**: Iteratively refining and enhancing automation scripts to accommodate changing requirements, optimize performance, and adapt to evolving workflows.\n",
        "\n",
        "Overall, automating tasks with Python empowers users to automate routine activities, freeing up time and resources for more value-added work, improving productivity, and reducing manual effort."
      ],
      "metadata": {
        "id": "t_0Q5DfNKa-t"
      }
    },
    {
      "cell_type": "markdown",
      "source": [
        "**File Management**"
      ],
      "metadata": {
        "id": "e7JbEkCoLBi7"
      }
    },
    {
      "cell_type": "code",
      "source": [
        "import os\n",
        "\n",
        "# List all files in a directory\n",
        "files = os.listdir('/path/to/directory')\n",
        "print('Files in directory:', files)\n",
        "\n",
        "# Rename files with specific pattern\n",
        "for file in files:\n",
        "    if file.endswith('.txt'):\n",
        "        os.rename(file, file.replace('.txt', '_backup.txt'))"
      ],
      "metadata": {
        "id": "9TBR9fBNKIhM"
      },
      "execution_count": null,
      "outputs": []
    },
    {
      "cell_type": "code",
      "source": [
        "import os\n",
        "\n",
        "# Create a directory\n",
        "os.mkdir('new_directory')\n",
        "\n",
        "# Create multiple directories recursively\n",
        "os.makedirs('parent_directory/sub_directory')\n",
        "\n",
        "# Create a file\n",
        "with open('new_file.txt', 'w') as f:\n",
        "    f.write('Hello, world!')"
      ],
      "metadata": {
        "id": "MgN2OVSxLMy5"
      },
      "execution_count": null,
      "outputs": []
    },
    {
      "cell_type": "code",
      "source": [
        "import os\n",
        "\n",
        "# Get current working directory\n",
        "current_dir = os.getcwd()\n",
        "print('Current directory:', current_dir)\n",
        "\n",
        "# Change directory\n",
        "os.chdir('/path/to/new_directory')\n",
        "\n",
        "# List files and directories in a directory\n",
        "files = os.listdir('.')\n",
        "print('Files in directory:', files)\n",
        "\n",
        "# Check if a file or directory exists\n",
        "if os.path.exists('file_or_directory_name'):\n",
        "    print('File or directory exists.')\n",
        "else:\n",
        "    print('File or directory does not exist.')\n"
      ],
      "metadata": {
        "id": "FWaqlx7sLUYE"
      },
      "execution_count": null,
      "outputs": []
    },
    {
      "cell_type": "code",
      "source": [
        "import os\n",
        "\n",
        "# Move a file\n",
        "os.rename('old_file.txt', 'new_file.txt')\n",
        "\n",
        "# Rename a directory\n",
        "os.rename('old_directory', 'new_directory')\n",
        "\n",
        "# Move a file to a different directory\n",
        "os.rename('file.txt', 'path/to/new_directory/file.txt')\n"
      ],
      "metadata": {
        "id": "Gg1_4xfrLkfv"
      },
      "execution_count": null,
      "outputs": []
    },
    {
      "cell_type": "code",
      "source": [
        "import os\n",
        "\n",
        "# Delete a file\n",
        "os.remove('file_to_delete.txt')\n",
        "\n",
        "# Delete an empty directory\n",
        "os.rmdir('empty_directory')\n",
        "\n",
        "# Delete a directory and its contents recursively\n",
        "import shutil\n",
        "shutil.rmtree('directory_to_delete')\n"
      ],
      "metadata": {
        "id": "YVwZ78UALrOP"
      },
      "execution_count": null,
      "outputs": []
    },
    {
      "cell_type": "code",
      "source": [
        "import os\n",
        "\n",
        "# Execute a shell command\n",
        "os.system('ls -l')\n",
        "\n",
        "# Get the output of a shell command\n",
        "output = os.popen('ls -l').read()\n",
        "print('Output of ls command:', output)"
      ],
      "metadata": {
        "colab": {
          "base_uri": "https://localhost:8080/"
        },
        "id": "ibtagrRALyWg",
        "outputId": "bc7e458a-9d80-44b9-fa5a-7e95efba09ba"
      },
      "execution_count": 2,
      "outputs": [
        {
          "output_type": "stream",
          "name": "stdout",
          "text": [
            "Output of ls command: total 4\n",
            "drwxr-xr-x 1 root root 4096 Feb 14 14:28 sample_data\n",
            "\n"
          ]
        }
      ]
    },
    {
      "cell_type": "markdown",
      "source": [
        "**Web Scraping**"
      ],
      "metadata": {
        "id": "m0HpGsWzLFuz"
      }
    },
    {
      "cell_type": "code",
      "source": [
        "# Scraping Data from a Table\n",
        "import requests\n",
        "from bs4 import BeautifulSoup\n",
        "\n",
        "# Fetch HTML content from the webpage\n",
        "url = 'https://example.com/table_page'\n",
        "response = requests.get(url)\n",
        "html_content = response.text\n",
        "\n",
        "# Parse HTML content\n",
        "soup = BeautifulSoup(html_content, 'html.parser')\n",
        "\n",
        "# Find the table element\n",
        "table = soup.find('table')\n",
        "\n",
        "# Extract data from table rows\n",
        "for row in table.find_all('tr'):\n",
        "    cells = row.find_all('td')\n",
        "    if cells:  # Check if the row contains data cells\n",
        "        data = [cell.text.strip() for cell in cells]\n",
        "        print(data)\n"
      ],
      "metadata": {
        "id": "pIi5OI2_LJJE"
      },
      "execution_count": null,
      "outputs": []
    },
    {
      "cell_type": "code",
      "source": [
        "# Scraping Images from a Webpage\n",
        "import requests\n",
        "from bs4 import BeautifulSoup\n",
        "import os\n",
        "\n",
        "# Fetch HTML content from the webpage\n",
        "url = 'https://example.com/image_gallery'\n",
        "response = requests.get(url)\n",
        "html_content = response.text\n",
        "\n",
        "# Parse HTML content\n",
        "soup = BeautifulSoup(html_content, 'html.parser')\n",
        "\n",
        "# Find all image elements\n",
        "image_elements = soup.find_all('img')\n",
        "\n",
        "# Download and save images\n",
        "for img in image_elements:\n",
        "    img_url = img['src']\n",
        "    img_name = img_url.split('/')[-1]\n",
        "    img_data = requests.get(img_url).content\n",
        "    with open(img_name, 'wb') as f:\n",
        "        f.write(img_data)\n"
      ],
      "metadata": {
        "id": "A7RV4jxjMqrq"
      },
      "execution_count": null,
      "outputs": []
    },
    {
      "cell_type": "code",
      "source": [
        "# Scraping Text Content\n",
        "import requests\n",
        "from bs4 import BeautifulSoup\n",
        "\n",
        "# Fetch HTML content from the webpage\n",
        "url = 'https://example.com/article'\n",
        "response = requests.get(url)\n",
        "html_content = response.text\n",
        "\n",
        "# Parse HTML content\n",
        "soup = BeautifulSoup(html_content, 'html.parser')\n",
        "\n",
        "# Extract text content\n",
        "article_text = soup.find('div', class_='article-content').get_text()\n",
        "print(article_text)\n"
      ],
      "metadata": {
        "id": "qv_XzjNeM1LC"
      },
      "execution_count": null,
      "outputs": []
    },
    {
      "cell_type": "code",
      "source": [
        "# Scraping Links from a Webpage\n",
        "import requests\n",
        "from bs4 import BeautifulSoup\n",
        "\n",
        "# Fetch HTML content from the webpage\n",
        "url = 'https://example.com'\n",
        "response = requests.get(url)\n",
        "html_content = response.text\n",
        "\n",
        "# Parse HTML content\n",
        "soup = BeautifulSoup(html_content, 'html.parser')\n",
        "\n",
        "# Find all link elements\n",
        "link_elements = soup.find_all('a')\n",
        "\n",
        "# Extract URLs\n",
        "for link in link_elements:\n",
        "    href = link.get('href')\n",
        "    if href:\n",
        "        print(href)\n"
      ],
      "metadata": {
        "id": "q0Bze-6HM5Jj"
      },
      "execution_count": null,
      "outputs": []
    },
    {
      "cell_type": "markdown",
      "source": [
        "**Sending Emails**"
      ],
      "metadata": {
        "id": "wYZqc5kjNYol"
      }
    },
    {
      "cell_type": "code",
      "source": [
        "import smtplib\n",
        "from email.mime.text import MIMEText\n",
        "\n",
        "# Email content\n",
        "sender_email = 'your_email@example.com'\n",
        "receiver_email = 'recipient@example.com'\n",
        "subject = 'Hello from Python'\n",
        "body = 'This is a test email sent from Python.'\n",
        "\n",
        "# Create MIMEText object\n",
        "msg = MIMEText(body)\n",
        "msg['Subject'] = subject\n",
        "msg['From'] = sender_email\n",
        "msg['To'] = receiver_email\n",
        "\n",
        "# Send email\n",
        "smtp_server = 'smtp.example.com'\n",
        "smtp_port = 587\n",
        "smtp_username = 'your_username'\n",
        "smtp_password = 'your_password'\n",
        "server = smtplib.SMTP(smtp_server, smtp_port)\n",
        "server.starttls()\n",
        "server.login(smtp_username, smtp_password)\n",
        "server.sendmail(sender_email, receiver_email, msg.as_string())\n",
        "server.quit()"
      ],
      "metadata": {
        "id": "oeX5Cm-jNSh6"
      },
      "execution_count": null,
      "outputs": []
    },
    {
      "cell_type": "markdown",
      "source": [
        "**Administration system**"
      ],
      "metadata": {
        "id": "Hh8nLJc8N2d2"
      }
    },
    {
      "cell_type": "code",
      "source": [
        "# Checking Disk Usage:\n",
        "import shutil\n",
        "\n",
        "# Get disk usage statistics\n",
        "total, used, free = shutil.disk_usage(\"/\")\n",
        "\n",
        "# Print disk usage information\n",
        "print(\"Total: {:.2f} GB\".format(total / (2**30)))\n",
        "print(\"Used: {:.2f} GB\".format(used / (2**30)))\n",
        "print(\"Free: {:.2f} GB\".format(free / (2**30)))"
      ],
      "metadata": {
        "colab": {
          "base_uri": "https://localhost:8080/"
        },
        "id": "YfYWBFQLOAkB",
        "outputId": "d007ce78-48d2-4b2e-969f-bb51c23a33ab"
      },
      "execution_count": 3,
      "outputs": [
        {
          "output_type": "stream",
          "name": "stdout",
          "text": [
            "Total: 107.72 GB\n",
            "Used: 26.31 GB\n",
            "Free: 81.39 GB\n"
          ]
        }
      ]
    },
    {
      "cell_type": "code",
      "source": [
        "# Listing Running Processes\n",
        "import psutil\n",
        "\n",
        "# Get list of running processes\n",
        "processes = list(psutil.process_iter())\n",
        "\n",
        "# Print process details\n",
        "for process in processes:\n",
        "    print(\"Process ID:\", process.pid)\n",
        "    print(\"Process Name:\", process.name())\n",
        "    print(\"CPU Usage:\", process.cpu_percent(interval=0.1), \"%\")\n",
        "    print(\"Memory Usage:\", process.memory_percent(), \"%\")\n",
        "    print(\"----------------------------------------\")\n"
      ],
      "metadata": {
        "id": "ayHnNT0BOHmb"
      },
      "execution_count": null,
      "outputs": []
    },
    {
      "cell_type": "code",
      "source": [
        "# Managing Users\n",
        "import pwd\n",
        "\n",
        "# List all users on the system\n",
        "users = pwd.getpwall()\n",
        "\n",
        "# Print user details\n",
        "for user in users:\n",
        "    print(\"Username:\", user.pw_name)\n",
        "    print(\"User ID:\", user.pw_uid)\n",
        "    print(\"Group ID:\", user.pw_gid)\n",
        "    print(\"Home Directory:\", user.pw_dir)\n",
        "    print(\"----------------------------------------\")\n"
      ],
      "metadata": {
        "id": "24ptN73NOmBe"
      },
      "execution_count": null,
      "outputs": []
    },
    {
      "cell_type": "code",
      "source": [
        "# Managing Services\n",
        "import subprocess\n",
        "\n",
        "# Start a service\n",
        "subprocess.run([\"systemctl\", \"start\", \"service_name\"])\n",
        "\n",
        "# Stop a service\n",
        "subprocess.run([\"systemctl\", \"stop\", \"service_name\"])\n",
        "\n",
        "# Restart a service\n",
        "subprocess.run([\"systemctl\", \"restart\", \"service_name\"])\n",
        "\n",
        "# Check status of a service\n",
        "subprocess.run([\"systemctl\", \"status\", \"service_name\"])\n"
      ],
      "metadata": {
        "id": "GIU4vfrdO4Oi"
      },
      "execution_count": null,
      "outputs": []
    },
    {
      "cell_type": "markdown",
      "source": [
        "**Managing Network Interfaces**"
      ],
      "metadata": {
        "id": "C86ne1EVO_lD"
      }
    },
    {
      "cell_type": "code",
      "source": [
        "import netifaces\n",
        "\n",
        "# Get list of network interfaces\n",
        "interfaces = netifaces.interfaces()\n",
        "\n",
        "# Print interface details\n",
        "for interface in interfaces:\n",
        "    addrs = netifaces.ifaddresses(interface)\n",
        "    print(\"Interface:\", interface)\n",
        "    print(\"IP Address:\", addrs[netifaces.AF_INET][0]['addr'])\n",
        "    print(\"Netmask:\", addrs[netifaces.AF_INET][0]['netmask'])\n",
        "    print(\"----------------------------------------\")"
      ],
      "metadata": {
        "id": "Z12F89OcPAwN"
      },
      "execution_count": null,
      "outputs": []
    },
    {
      "cell_type": "markdown",
      "source": [
        "# **3. Building a simple automation script**"
      ],
      "metadata": {
        "id": "l6P6BOqUPr-K"
      }
    },
    {
      "cell_type": "code",
      "source": [
        "import os\n",
        "import shutil\n",
        "\n",
        "# Define source and destination directories\n",
        "source_dir = '/path/to/source_directory'\n",
        "destination_dir = '/path/to/destination_directory'\n",
        "\n",
        "# Function to copy files from source to destination directory\n",
        "def copy_files(source_dir, destination_dir):\n",
        "    try:\n",
        "        # Check if source directory exists\n",
        "        if not os.path.exists(source_dir):\n",
        "            print(f\"Source directory '{source_dir}' does not exist.\")\n",
        "            return\n",
        "\n",
        "        # Check if destination directory exists, create if not\n",
        "        if not os.path.exists(destination_dir):\n",
        "            os.makedirs(destination_dir)\n",
        "\n",
        "        # Copy files from source to destination directory\n",
        "        files = os.listdir(source_dir)\n",
        "        for file in files:\n",
        "            source_file = os.path.join(source_dir, file)\n",
        "            destination_file = os.path.join(destination_dir, file)\n",
        "            shutil.copyfile(source_file, destination_file)\n",
        "        print(\"Files copied successfully.\")\n",
        "    except Exception as e:\n",
        "        print(\"Error:\", e)\n",
        "\n",
        "# Call the function to copy files\n",
        "copy_files(source_dir, destination_dir)\n"
      ],
      "metadata": {
        "id": "apSHazIaPtGn"
      },
      "execution_count": null,
      "outputs": []
    }
  ]
}